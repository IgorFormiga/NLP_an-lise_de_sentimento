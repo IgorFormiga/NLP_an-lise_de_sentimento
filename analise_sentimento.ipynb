{
 "cells": [
  {
   "cell_type": "markdown",
   "metadata": {},
   "source": [
    "# Natural Language Processing"
   ]
  },
  {
   "cell_type": "markdown",
   "metadata": {},
   "source": [
    "O objetivo deste projeto é a criação de um modelo de Machine Learning de classificação utilizado o processamento de linguagem natural. O modelo irá classificar os comentários em três classes: \"Positivo\", \"Negativo\" e \"Neutro\". O conjunto de comentários negativos possui um alto valor de informação para empresas, podendo ser utilizado como feedback de melhoria e/ou base de dados para análise de causa raiz. "
   ]
  },
  {
   "cell_type": "markdown",
   "metadata": {},
   "source": [
    "## 1. Importando Bibliotecas"
   ]
  },
  {
   "cell_type": "code",
   "execution_count": 1,
   "metadata": {},
   "outputs": [
    {
     "name": "stderr",
     "output_type": "stream",
     "text": [
      "[nltk_data] Downloading package stopwords to\n",
      "[nltk_data]     C:\\Users\\Brothers\\AppData\\Roaming\\nltk_data...\n",
      "[nltk_data]   Package stopwords is already up-to-date!\n",
      "[nltk_data] Downloading package rslp to\n",
      "[nltk_data]     C:\\Users\\Brothers\\AppData\\Roaming\\nltk_data...\n",
      "[nltk_data]   Package rslp is already up-to-date!\n"
     ]
    }
   ],
   "source": [
    "import pandas as pd\n",
    "import matplotlib.pyplot as plt\n",
    "import seaborn as sns\n",
    "import numpy as np\n",
    "from nltk import tokenize, RSLPStemmer, FreqDist, tokenize\n",
    "from nltk.corpus import stopwords\n",
    "from nltk.lm import preprocessing\n",
    "from sklearn.model_selection import train_test_split, cross_val_score, cross_val_predict, GridSearchCV, KFold\n",
    "from sklearn.linear_model import LogisticRegression\n",
    "from sklearn.feature_extraction.text import CountVectorizer, TfidfVectorizer\n",
    "from sklearn.metrics import confusion_matrix, precision_score, recall_score, f1_score, classification_report, make_scorer\n",
    "from sklearn.pipeline import Pipeline\n",
    "from wordcloud import WordCloud\n",
    "from string import punctuation\n",
    "\n",
    "\n",
    "from utils.regex_utils import *\n",
    "from utils.stopword_utils import RemoverStopwords\n",
    "from utils.normalize_utils import ProcessoNormalizacao\n",
    "from utils.stemming_utils import ProcessoStemming\n",
    "from utils.features_extract import ExtracaoFeatures\n",
    "from utils.n_grams_utils import ngrams_count\n",
    "from utils.wordcloud_utils import nuvem_palavras"
   ]
  },
  {
   "cell_type": "markdown",
   "metadata": {},
   "source": [
    "## 2. Leitura dos dados"
   ]
  },
  {
   "cell_type": "markdown",
   "metadata": {},
   "source": [
    "O projeto foi desenvolvido utilizado um conjunto de dados público de e-commerce brasileiro de pedidos feitos na Olist Store, a maior loja de departamentos dos marketplaces brasileiros. A Olist conecta pequenas empresas de todo o Brasil a canais sem complicações e com um único contrato. Esses comerciantes podem vender seus produtos através da Olist Store e enviá-los diretamente aos clientes usando os parceiros de logística da Olist. O dataset possui informações de 100 mil pedidos de 2016 a 2018 feitos em vários marketplaces no Brasil. \n",
    "\n",
    "A base de dados de reviews foi construída a partir compras de produtos por clientes na Olist Store. Assim que o cliente recebe o produto, ou vence a data prevista de entrega, o cliente recebe uma pesquisa de satisfação por e-mail onde pode dar uma nota da experiência de compra e anotar alguns comentários."
   ]
  },
  {
   "cell_type": "code",
   "execution_count": 2,
   "metadata": {},
   "outputs": [],
   "source": [
    "dataset = pd.read_csv('order_reviews.csv', sep=';')"
   ]
  },
  {
   "cell_type": "code",
   "execution_count": 3,
   "metadata": {},
   "outputs": [
    {
     "data": {
      "text/html": [
       "<div>\n",
       "<style scoped>\n",
       "    .dataframe tbody tr th:only-of-type {\n",
       "        vertical-align: middle;\n",
       "    }\n",
       "\n",
       "    .dataframe tbody tr th {\n",
       "        vertical-align: top;\n",
       "    }\n",
       "\n",
       "    .dataframe thead th {\n",
       "        text-align: right;\n",
       "    }\n",
       "</style>\n",
       "<table border=\"1\" class=\"dataframe\">\n",
       "  <thead>\n",
       "    <tr style=\"text-align: right;\">\n",
       "      <th></th>\n",
       "      <th>review_id</th>\n",
       "      <th>order_id</th>\n",
       "      <th>review_score</th>\n",
       "      <th>review_comment_title</th>\n",
       "      <th>review_comment_message</th>\n",
       "      <th>review_creation_date</th>\n",
       "      <th>review_answer_timestamp</th>\n",
       "    </tr>\n",
       "  </thead>\n",
       "  <tbody>\n",
       "    <tr>\n",
       "      <th>0</th>\n",
       "      <td>7bc2406110b926393aa56f80a40eba40</td>\n",
       "      <td>73fc7af87114b39712e6da79b0a377eb</td>\n",
       "      <td>4</td>\n",
       "      <td>NaN</td>\n",
       "      <td>NaN</td>\n",
       "      <td>2018-01-18 00:00:00</td>\n",
       "      <td>2018-01-18 21:46:59</td>\n",
       "    </tr>\n",
       "    <tr>\n",
       "      <th>1</th>\n",
       "      <td>80e641a11e56f04c1ad469d5645fdfde</td>\n",
       "      <td>a548910a1c6147796b98fdf73dbeba33</td>\n",
       "      <td>5</td>\n",
       "      <td>NaN</td>\n",
       "      <td>NaN</td>\n",
       "      <td>2018-03-10 00:00:00</td>\n",
       "      <td>2018-03-11 03:05:13</td>\n",
       "    </tr>\n",
       "    <tr>\n",
       "      <th>2</th>\n",
       "      <td>228ce5500dc1d8e020d8d1322874b6f0</td>\n",
       "      <td>f9e4b658b201a9f2ecdecbb34bed034b</td>\n",
       "      <td>5</td>\n",
       "      <td>NaN</td>\n",
       "      <td>NaN</td>\n",
       "      <td>2018-02-17 00:00:00</td>\n",
       "      <td>2018-02-18 14:36:24</td>\n",
       "    </tr>\n",
       "    <tr>\n",
       "      <th>3</th>\n",
       "      <td>e64fb393e7b32834bb789ff8bb30750e</td>\n",
       "      <td>658677c97b385a9be170737859d3511b</td>\n",
       "      <td>5</td>\n",
       "      <td>NaN</td>\n",
       "      <td>Recebi bem antes do prazo estipulado.</td>\n",
       "      <td>2017-04-21 00:00:00</td>\n",
       "      <td>2017-04-21 22:02:06</td>\n",
       "    </tr>\n",
       "    <tr>\n",
       "      <th>4</th>\n",
       "      <td>f7c4243c7fe1938f181bec41a392bdeb</td>\n",
       "      <td>8e6bfb81e283fa7e4f11123a3fb894f1</td>\n",
       "      <td>5</td>\n",
       "      <td>NaN</td>\n",
       "      <td>Parabéns lojas lannister adorei comprar pela I...</td>\n",
       "      <td>2018-03-01 00:00:00</td>\n",
       "      <td>2018-03-02 10:26:53</td>\n",
       "    </tr>\n",
       "  </tbody>\n",
       "</table>\n",
       "</div>"
      ],
      "text/plain": [
       "                          review_id                          order_id  \\\n",
       "0  7bc2406110b926393aa56f80a40eba40  73fc7af87114b39712e6da79b0a377eb   \n",
       "1  80e641a11e56f04c1ad469d5645fdfde  a548910a1c6147796b98fdf73dbeba33   \n",
       "2  228ce5500dc1d8e020d8d1322874b6f0  f9e4b658b201a9f2ecdecbb34bed034b   \n",
       "3  e64fb393e7b32834bb789ff8bb30750e  658677c97b385a9be170737859d3511b   \n",
       "4  f7c4243c7fe1938f181bec41a392bdeb  8e6bfb81e283fa7e4f11123a3fb894f1   \n",
       "\n",
       "   review_score review_comment_title  \\\n",
       "0             4                  NaN   \n",
       "1             5                  NaN   \n",
       "2             5                  NaN   \n",
       "3             5                  NaN   \n",
       "4             5                  NaN   \n",
       "\n",
       "                              review_comment_message review_creation_date  \\\n",
       "0                                                NaN  2018-01-18 00:00:00   \n",
       "1                                                NaN  2018-03-10 00:00:00   \n",
       "2                                                NaN  2018-02-17 00:00:00   \n",
       "3              Recebi bem antes do prazo estipulado.  2017-04-21 00:00:00   \n",
       "4  Parabéns lojas lannister adorei comprar pela I...  2018-03-01 00:00:00   \n",
       "\n",
       "  review_answer_timestamp  \n",
       "0     2018-01-18 21:46:59  \n",
       "1     2018-03-11 03:05:13  \n",
       "2     2018-02-18 14:36:24  \n",
       "3     2017-04-21 22:02:06  \n",
       "4     2018-03-02 10:26:53  "
      ]
     },
     "execution_count": 3,
     "metadata": {},
     "output_type": "execute_result"
    }
   ],
   "source": [
    "dataset.head()"
   ]
  },
  {
   "cell_type": "markdown",
   "metadata": {},
   "source": [
    "## 3. Compreensão de dados"
   ]
  },
  {
   "cell_type": "markdown",
   "metadata": {},
   "source": [
    "### 3.1. Analise de dados faltantes (Null)"
   ]
  },
  {
   "cell_type": "code",
   "execution_count": 4,
   "metadata": {},
   "outputs": [],
   "source": [
    "dataset.drop(['review_id', 'review_creation_date', 'review_answer_timestamp', 'review_comment_title', 'order_id'], axis=1, inplace=True)"
   ]
  },
  {
   "cell_type": "code",
   "execution_count": 5,
   "metadata": {},
   "outputs": [
    {
     "name": "stdout",
     "output_type": "stream",
     "text": [
      "<class 'pandas.core.frame.DataFrame'>\n",
      "RangeIndex: 99224 entries, 0 to 99223\n",
      "Data columns (total 2 columns):\n",
      " #   Column                  Non-Null Count  Dtype \n",
      "---  ------                  --------------  ----- \n",
      " 0   review_score            99224 non-null  int64 \n",
      " 1   review_comment_message  40977 non-null  object\n",
      "dtypes: int64(1), object(1)\n",
      "memory usage: 1.5+ MB\n"
     ]
    }
   ],
   "source": [
    "dataset.info()"
   ]
  },
  {
   "cell_type": "code",
   "execution_count": 6,
   "metadata": {},
   "outputs": [
    {
     "data": {
      "text/plain": [
       "(40977, 2)"
      ]
     },
     "execution_count": 6,
     "metadata": {},
     "output_type": "execute_result"
    }
   ],
   "source": [
    "# Retirando o valores Null de reviews\n",
    "dataset = dataset.dropna()\n",
    "dataset = dataset.reset_index(drop=True)\n",
    "dataset.shape"
   ]
  },
  {
   "cell_type": "code",
   "execution_count": 7,
   "metadata": {},
   "outputs": [
    {
     "data": {
      "text/html": [
       "<div>\n",
       "<style scoped>\n",
       "    .dataframe tbody tr th:only-of-type {\n",
       "        vertical-align: middle;\n",
       "    }\n",
       "\n",
       "    .dataframe tbody tr th {\n",
       "        vertical-align: top;\n",
       "    }\n",
       "\n",
       "    .dataframe thead th {\n",
       "        text-align: right;\n",
       "    }\n",
       "</style>\n",
       "<table border=\"1\" class=\"dataframe\">\n",
       "  <thead>\n",
       "    <tr style=\"text-align: right;\">\n",
       "      <th></th>\n",
       "      <th>review_score</th>\n",
       "      <th>review_comment_message</th>\n",
       "    </tr>\n",
       "  </thead>\n",
       "  <tbody>\n",
       "    <tr>\n",
       "      <th>0</th>\n",
       "      <td>5</td>\n",
       "      <td>Recebi bem antes do prazo estipulado.</td>\n",
       "    </tr>\n",
       "    <tr>\n",
       "      <th>1</th>\n",
       "      <td>5</td>\n",
       "      <td>Parabéns lojas lannister adorei comprar pela I...</td>\n",
       "    </tr>\n",
       "    <tr>\n",
       "      <th>2</th>\n",
       "      <td>4</td>\n",
       "      <td>aparelho eficiente. no site a marca do aparelh...</td>\n",
       "    </tr>\n",
       "    <tr>\n",
       "      <th>3</th>\n",
       "      <td>4</td>\n",
       "      <td>Mas um pouco ,travando...pelo valor ta Boa.\\r\\n</td>\n",
       "    </tr>\n",
       "    <tr>\n",
       "      <th>4</th>\n",
       "      <td>5</td>\n",
       "      <td>Vendedor confiável, produto ok e entrega antes...</td>\n",
       "    </tr>\n",
       "  </tbody>\n",
       "</table>\n",
       "</div>"
      ],
      "text/plain": [
       "   review_score                             review_comment_message\n",
       "0             5              Recebi bem antes do prazo estipulado.\n",
       "1             5  Parabéns lojas lannister adorei comprar pela I...\n",
       "2             4  aparelho eficiente. no site a marca do aparelh...\n",
       "3             4    Mas um pouco ,travando...pelo valor ta Boa.\\r\\n\n",
       "4             5  Vendedor confiável, produto ok e entrega antes..."
      ]
     },
     "execution_count": 7,
     "metadata": {},
     "output_type": "execute_result"
    }
   ],
   "source": [
    "dataset.head()"
   ]
  },
  {
   "cell_type": "markdown",
   "metadata": {},
   "source": [
    "### 3.1. Rotulagem dos dados"
   ]
  },
  {
   "cell_type": "code",
   "execution_count": 8,
   "metadata": {},
   "outputs": [
    {
     "data": {
      "image/png": "[encoded data removed]",
      "text/plain": [
       "<Figure size 720x432 with 1 Axes>"
      ]
     },
     "metadata": {
      "needs_background": "light"
     },
     "output_type": "display_data"
    }
   ],
   "source": [
    "# Criando um datafrem que contem as quantidade de acordo com o score\n",
    "quantidade = pd.DataFrame(dataset['review_score'].value_counts()).sort_index()\n",
    "\n",
    "# plotando o gráfico de barra\n",
    "fig, ax = plt.subplots(figsize=(10, 6))\n",
    "ax = sns.barplot(y='review_score', x=quantidade.index, data=quantidade, orient='v', palette='viridis')\n",
    "ax.set_title('Quantidade de comentários por score', fontdict={'fontsize': 20})\n",
    "ax.set(ylabel=None, xlabel=None)\n",
    "ax.bar_label(ax.containers[0])\n",
    "plt.show()"
   ]
  },
  {
   "cell_type": "markdown",
   "metadata": {},
   "source": [
    "Com objetivo de criar um modelo de análise sentimental em uma abordagem de Machine Learning supervisionado, iremos dividir os sentimentos em três classes: negativo, neutro e positivo. O database não possui uma definição explicita sobre a definição de sentimento para cada comentário. Pensando em uma implementação rápida, utilizaremos a coluna \"review_score\" para rotular os dados nas três classes já que ela dá uma uma ideia sobre a satisfação do cliente a respeito da compra.\n",
    "\n",
    "Rotulagem dos dados:\n",
    "- Positivo (1): Compreende os scores de valores 4 e 5\n",
    "- Neutro (0): Compreende o score de valor 3\n",
    "- Negativo (-1): Compreende os scores de valores 1 e 2\n"
   ]
  },
  {
   "cell_type": "code",
   "execution_count": 9,
   "metadata": {},
   "outputs": [],
   "source": [
    "# Rotulagem dos dados\n",
    "score_map = {\n",
    "    1: -1,\n",
    "    2: -1,\n",
    "    3: 0,\n",
    "    4: 1,\n",
    "    5: 1\n",
    "}\n",
    "\n",
    "dataset['sentiment_label'] = dataset['review_score'].map(score_map)\n",
    "dataset = dataset[['review_score', 'sentiment_label','review_comment_message']]"
   ]
  },
  {
   "cell_type": "code",
   "execution_count": 10,
   "metadata": {},
   "outputs": [
    {
     "data": {
      "text/html": [
       "<div>\n",
       "<style scoped>\n",
       "    .dataframe tbody tr th:only-of-type {\n",
       "        vertical-align: middle;\n",
       "    }\n",
       "\n",
       "    .dataframe tbody tr th {\n",
       "        vertical-align: top;\n",
       "    }\n",
       "\n",
       "    .dataframe thead th {\n",
       "        text-align: right;\n",
       "    }\n",
       "</style>\n",
       "<table border=\"1\" class=\"dataframe\">\n",
       "  <thead>\n",
       "    <tr style=\"text-align: right;\">\n",
       "      <th></th>\n",
       "      <th>review_score</th>\n",
       "      <th>sentiment_label</th>\n",
       "      <th>review_comment_message</th>\n",
       "    </tr>\n",
       "  </thead>\n",
       "  <tbody>\n",
       "    <tr>\n",
       "      <th>0</th>\n",
       "      <td>5</td>\n",
       "      <td>1</td>\n",
       "      <td>Recebi bem antes do prazo estipulado.</td>\n",
       "    </tr>\n",
       "    <tr>\n",
       "      <th>1</th>\n",
       "      <td>5</td>\n",
       "      <td>1</td>\n",
       "      <td>Parabéns lojas lannister adorei comprar pela I...</td>\n",
       "    </tr>\n",
       "    <tr>\n",
       "      <th>2</th>\n",
       "      <td>4</td>\n",
       "      <td>1</td>\n",
       "      <td>aparelho eficiente. no site a marca do aparelh...</td>\n",
       "    </tr>\n",
       "    <tr>\n",
       "      <th>3</th>\n",
       "      <td>4</td>\n",
       "      <td>1</td>\n",
       "      <td>Mas um pouco ,travando...pelo valor ta Boa.\\r\\n</td>\n",
       "    </tr>\n",
       "    <tr>\n",
       "      <th>4</th>\n",
       "      <td>5</td>\n",
       "      <td>1</td>\n",
       "      <td>Vendedor confiável, produto ok e entrega antes...</td>\n",
       "    </tr>\n",
       "  </tbody>\n",
       "</table>\n",
       "</div>"
      ],
      "text/plain": [
       "   review_score  sentiment_label  \\\n",
       "0             5                1   \n",
       "1             5                1   \n",
       "2             4                1   \n",
       "3             4                1   \n",
       "4             5                1   \n",
       "\n",
       "                              review_comment_message  \n",
       "0              Recebi bem antes do prazo estipulado.  \n",
       "1  Parabéns lojas lannister adorei comprar pela I...  \n",
       "2  aparelho eficiente. no site a marca do aparelh...  \n",
       "3    Mas um pouco ,travando...pelo valor ta Boa.\\r\\n  \n",
       "4  Vendedor confiável, produto ok e entrega antes...  "
      ]
     },
     "execution_count": 10,
     "metadata": {},
     "output_type": "execute_result"
    }
   ],
   "source": [
    "dataset.head()"
   ]
  },
  {
   "cell_type": "code",
   "execution_count": 11,
   "metadata": {},
   "outputs": [
    {
     "data": {
      "text/plain": [
       " 1    26530\n",
       "-1    10890\n",
       " 0     3557\n",
       "Name: sentiment_label, dtype: int64"
      ]
     },
     "execution_count": 11,
     "metadata": {},
     "output_type": "execute_result"
    }
   ],
   "source": [
    "dataset['sentiment_label'].value_counts()"
   ]
  },
  {
   "cell_type": "code",
   "execution_count": 12,
   "metadata": {},
   "outputs": [
    {
     "data": {
      "image/png": "[encoded data removed]",
      "text/plain": [
       "<Figure size 720x432 with 1 Axes>"
      ]
     },
     "metadata": {},
     "output_type": "display_data"
    }
   ],
   "source": [
    "sentiment = pd.DataFrame(dataset['sentiment_label'].value_counts())\n",
    "labels = ['Positivo', 'Negativo', 'Neutro']\n",
    "\n",
    "fig, ax = plt.subplots(figsize=(10, 6))\n",
    "colors = sns.color_palette('viridis')\n",
    "ax.pie(sentiment['sentiment_label'],labels= labels,autopct='%1.0f%%', pctdistance=1.1, labeldistance=1.2, explode = [0.02, 0.02, 0.02], colors=colors)\n",
    "plt.show()"
   ]
  },
  {
   "cell_type": "markdown",
   "metadata": {},
   "source": [
    "## 4. Criando uma BaseLine"
   ]
  },
  {
   "cell_type": "markdown",
   "metadata": {},
   "source": [
    "Iremos definir uma baseline para a acurácia de modelo de classificação de sentimos supervisionado. A baseline é um modelo simples de previsão que atua como referência para futuros modelos de Machine Learning."
   ]
  },
  {
   "cell_type": "markdown",
   "metadata": {},
   "source": [
    "### 4.1. Bag of Words: criando representações da linguagem humana."
   ]
  },
  {
   "cell_type": "code",
   "execution_count": 13,
   "metadata": {},
   "outputs": [
    {
     "data": {
      "text/plain": [
       "(40977, 50)"
      ]
     },
     "execution_count": 13,
     "metadata": {},
     "output_type": "execute_result"
    }
   ],
   "source": [
    "# Vetorizando as 50 palavras com mais ocorrência da coluna \"review_comment_message\"\n",
    "vetorizar = CountVectorizer(max_features=50)\n",
    "bag_of_words = vetorizar.fit_transform(dataset['review_comment_message'])\n",
    "bag_of_words.shape"
   ]
  },
  {
   "cell_type": "code",
   "execution_count": 14,
   "metadata": {},
   "outputs": [
    {
     "name": "stdout",
     "output_type": "stream",
     "text": [
      "['ainda' 'antes' 'as' 'até' 'bem' 'bom' 'chegou' 'com' 'como' 'compra'\n",
      " 'comprei' 'da' 'de' 'dentro' 'do' 'em' 'entrega' 'entregue' 'estou' 'eu'\n",
      " 'excelente' 'foi' 'gostei' 'loja' 'mais' 'mas' 'me' 'meu' 'minha' 'muito'\n",
      " 'na' 'no' 'não' 'os' 'para' 'por' 'prazo' 'produto' 'qualidade' 'que'\n",
      " 'recebi' 'recomendo' 'rápida' 'super' 'só' 'tudo' 'um' 'uma' 'veio'\n",
      " 'ótimo']\n"
     ]
    }
   ],
   "source": [
    "# Visualização das 50 palavras com mais ocorrência\n",
    "print(vetorizar.get_feature_names_out())"
   ]
  },
  {
   "cell_type": "markdown",
   "metadata": {},
   "source": [
    "### 4.2. Modelo: LogisticRegression "
   ]
  },
  {
   "cell_type": "code",
   "execution_count": 15,
   "metadata": {},
   "outputs": [
    {
     "data": {
      "text/plain": [
       "1     8745\n",
       "2     2145\n",
       "3     3557\n",
       "4     5976\n",
       "5    20554\n",
       "Name: review_score, dtype: int64"
      ]
     },
     "execution_count": 15,
     "metadata": {},
     "output_type": "execute_result"
    }
   ],
   "source": [
    "# verificar a proporção do review score\n",
    "dataset.review_score.value_counts().sort_index()"
   ]
  },
  {
   "cell_type": "code",
   "execution_count": 16,
   "metadata": {},
   "outputs": [
    {
     "name": "stdout",
     "output_type": "stream",
     "text": [
      "Scores:[0.7933963  0.79874076 0.79976572]\n",
      "Média: 0.7973009249090954\n",
      "Desvio Padrão: 0.002792518176023985\n"
     ]
    }
   ],
   "source": [
    "regressao_logistica = LogisticRegression(solver = \"saga\", multi_class='multinomial')\n",
    "scores = cross_val_score(regressao_logistica, bag_of_words, dataset['sentiment_label'], cv=3, scoring=\"accuracy\")\n",
    "print(f'Scores:{np.sort(scores)}')\n",
    "print(f'Média: {scores.mean()}')\n",
    "print(f'Desvio Padrão: {scores.std()}')"
   ]
  },
  {
   "cell_type": "markdown",
   "metadata": {},
   "source": [
    "## 5. Pipeline de trasformação"
   ]
  },
  {
   "cell_type": "markdown",
   "metadata": {},
   "source": [
    "Será utilizado a classe Pipeline do Scikit Learn para executar uma preparação dos textos de cada comentário de forma automática, deixando pronto para treinamento e previsão do rótulo de sentimento. As etapas do pipeline são:\n",
    "\n",
    "- Remoção das expressões regulares: sabendo que os dados são fruto de comentários da internet, será necessário lidar com algumas expressões regulares. Iremos realizar o pré-processamento dos dados, substituído as expressões regulares por termos que as caracterizem de forma simples;\n",
    "\n",
    "- Remoção de StopWords: As stopwords são palavras que não apresentam relevância em determinado contexto e podem ser removidas sem perda semântica da frase;\n",
    "\n",
    "- Normalização dos comentários: pega os dados Unicode e tenta representá-los em caracteres ASCII (ou seja, os caracteres universalmente exibíveis entre 0x00 e 0x7F), onde os compromissos assumidos ao mapear entre dois conjuntos de caracteres são escolhidos para estar perto do que um humano com um teclado americano escolheria;\n",
    "\n",
    "- Stemming: Stemming é a técnica que transforma as flexões de uma palavra em um núcleo comum (tronco).  Essa técnica normaliza as palavras de forma a evitar suas flexões e derivações. Existem diversos algoritmos para realizar a “stemmização\", seja em Português, sejam em outros idiomas;\n",
    "\n",
    "- Extração de features: A extração de features de texto envolve resumir automaticamente o texto e encontrar palavras importantes. A extração de palavras poderá ser feita de duas formas:\n",
    "    - CountVectorizer: converte uma coleção de documentos de texto em uma matriz de contagens de token, ou seja, produz uma representação esparsa das contagens de frequência das palavras ao longo de todo o dataset;\n",
    "    - TF-IDF (Term Frequency-Inverse Document Frequency): é uma medida estatística que tem o intuito de indicar a importância de uma palavra de um documento em relação a uma coleção de documentos ou em um corpus linguístico.  O TF-IDF irá contar a frequência das palavras e atribui pesos as mesmas, ponderando-as em todo o dataset. Se uma palavra aparece muitas vezes, ela perde o poder de diferenciação, logo, possuirá um peso menor.\n",
    "\n",
    "\n",
    "Todas as etapas do Pipeline foram modularizadas no diretório utils para tornar o programa mais \"limpo\".\n"
   ]
  },
  {
   "cell_type": "markdown",
   "metadata": {},
   "source": [
    "### 5.1. Analisando os Hiperparâmetros da vetorização (TfidfVectorizer) do Pepiline"
   ]
  },
  {
   "cell_type": "markdown",
   "metadata": {},
   "source": [
    "#### 5.1.1. N-grams"
   ]
  },
  {
   "cell_type": "markdown",
   "metadata": {},
   "source": [
    "Os modelos que estávamos utilizando até agora (bag of words), não gera um valor que preserve a sequência de palavras. O N-grams considera essencialmente uma sequência de palavras que aparecem na mesma \"janela\" ao mesmo tempo. Iremos testar modelos que com a utilização de N-grams:"
   ]
  },
  {
   "cell_type": "code",
   "execution_count": 19,
   "metadata": {},
   "outputs": [
    {
     "name": "stdout",
     "output_type": "stream",
     "text": [
      "Score para n-grams (1, 2): 0.8399219131283553\n",
      "Score para n-grams (2, 2): 0.8035627135187896\n",
      "Score para n-grams (2, 3): 0.7986822840409956\n"
     ]
    }
   ],
   "source": [
    "# lista de n-grams\n",
    "ngram_range = [(1,2), (2,2), (2,3)]\n",
    "\n",
    "regex_transformers = {\n",
    "    'datas': re_dates,\n",
    "    'valores_dinheiro': re_money,\n",
    "    'numeros': re_numbers,\n",
    "    'negacoes': re_negation,\n",
    "    'caracteres_especiais': re_special_chars,\n",
    "    'espacos_branco': re_whitespaces\n",
    "}\n",
    "\n",
    "\n",
    "\n",
    "for ngram in ngram_range:\n",
    "    vectorizer = TfidfVectorizer(max_features=300, ngram_range=ngram)\n",
    "\n",
    "    # Criando o Pipeline\n",
    "    text_pipeline = Pipeline([\n",
    "        ('regex', RemoverRegex(regex_transformers)),\n",
    "        ('stopwords', RemoverStopwords(stopwords.words('portuguese'))),\n",
    "        ('normalization', ProcessoNormalizacao()),\n",
    "        ('stemming', ProcessoStemming(RSLPStemmer())),\n",
    "        ('text_features', ExtracaoFeatures(vectorizer))\n",
    "    ])\n",
    "\n",
    "    # Dfinido X e y \n",
    "    comentarios = dataset['review_comment_message'].dropna().index\n",
    "    score = dataset['review_score'][comentarios].map({1: 'negativo', 2: 'negativo', 3: 'neutro', 4: 'positivo', 5: 'positivo'})\n",
    "\n",
    "    # Dfinido X e y \n",
    "    X = list(dataset['review_comment_message'][comentarios].values)\n",
    "    y = score.values\n",
    "\n",
    "    # Aplicando o pipeline\n",
    "    X_processed = text_pipeline.fit_transform(X)\n",
    "\n",
    "    # Dividindo os dados em treino e teste\n",
    "    X_train, X_test, y_train, y_test = train_test_split(X_processed, y, test_size=.20, stratify=dataset['sentiment_label'], random_state=42)\n",
    "\n",
    "    #Criação do modelo\n",
    "    regressao_logistica = LogisticRegression(solver = \"saga\", multi_class='multinomial', random_state=42)\n",
    "    regressao_logistica.fit(X_train, y_train)\n",
    "    print(f'Score para n-grams {ngram}: {regressao_logistica.score(X_test, y_test)}')"
   ]
  },
  {
   "cell_type": "markdown",
   "metadata": {},
   "source": [
    "Para todos os intervalos de n-grams calculados ocorreu acarretou em piora do modelo de classificação. Logo, não há razões para utilização dos n-grams no modelo de predição, já que sua utilização acarreta no aumento de complexidade do modelo, mas não aumenta sua acurácia."
   ]
  },
  {
   "cell_type": "markdown",
   "metadata": {},
   "source": [
    "#### 5.1.2. Analisando o max_features, min_df e max_df"
   ]
  },
  {
   "cell_type": "markdown",
   "metadata": {},
   "source": [
    "- max_features: O hiperparâmetro considera apenas as principais features (palavras ou conjunto de palavras) ordenados por frequência de termo em todo o corpus.\n",
    "- min_df: O hiperparâmetro define um limite para ignorar os termos que tenham uma frequência de documento estritamente inferior ao limite fornecido.\n",
    "- max_df: O hiperparâmetro define um limite para ignorar os termos que têm uma frequência de documento estritamente superior ao limite determinado."
   ]
  },
  {
   "cell_type": "code",
   "execution_count": 20,
   "metadata": {},
   "outputs": [],
   "source": [
    "# Dfinido X e y \n",
    "comentarios = dataset['review_comment_message'].dropna().index\n",
    "score = dataset['review_score'][comentarios].map({1: 'negativo', 2: 'negativo', 3: 'neutro', 4: 'positivo', 5: 'positivo'})\n",
    "\n",
    "# Dfinido X e y \n",
    "X = list(dataset['review_comment_message'][comentarios].values)\n",
    "y = score.values\n",
    "\n",
    "# Criando o Pipeline\n",
    "text_pipeline = Pipeline([\n",
    "    ('regex', RemoverRegex(regex_transformers)),\n",
    "    ('stopwords', RemoverStopwords(stopwords.words('portuguese'))),\n",
    "    ('normalization', ProcessoNormalizacao()),\n",
    "    ('stemming', ProcessoStemming(RSLPStemmer()))\n",
    "    ])\n",
    "\n",
    "# Aplicando o pipeline\n",
    "X_processed = text_pipeline.fit_transform(X)"
   ]
  },
  {
   "cell_type": "code",
   "execution_count": 21,
   "metadata": {},
   "outputs": [],
   "source": [
    "# Função para verificar a acuracia dos melhores valores de hiperparamentros\n",
    "def hiperparamentros_tfidfVectorizer(max_features, min_df, max_df):\n",
    "    col=['max_features', 'min_df', 'max_df', 'score']\n",
    "    list = []\n",
    "    for maxfeatures in max_features:\n",
    "        for mindf in min_df:\n",
    "            for maxdf in max_df:\n",
    "                vectorizer = TfidfVectorizer(max_features=maxfeatures, min_df=mindf, max_df=maxdf)\n",
    "\n",
    "                X = vectorizer.fit_transform(X_processed)\n",
    "\n",
    "                # Dividindo os dados em treino e teste\n",
    "                X_train, X_test, y_train, y_test = train_test_split(X, y, test_size=.20, stratify=dataset['sentiment_label'], random_state=42)\n",
    "\n",
    "                #Criação do modelo\n",
    "                regressao_logistica = LogisticRegression(solver = \"saga\", multi_class='multinomial', random_state=42)\n",
    "                regressao_logistica.fit(X_train, y_train)\n",
    "                score = regressao_logistica.score(X_test, y_test)\n",
    "                list.append([maxfeatures, mindf, maxdf, score])\n",
    "    return pd.DataFrame(list, columns=col).sort_values('score', ascending=False).reset_index(drop=True)"
   ]
  },
  {
   "cell_type": "code",
   "execution_count": null,
   "metadata": {},
   "outputs": [
    {
     "data": {
      "text/html": [
       "<div>\n",
       "<style scoped>\n",
       "    .dataframe tbody tr th:only-of-type {\n",
       "        vertical-align: middle;\n",
       "    }\n",
       "\n",
       "    .dataframe tbody tr th {\n",
       "        vertical-align: top;\n",
       "    }\n",
       "\n",
       "    .dataframe thead th {\n",
       "        text-align: right;\n",
       "    }\n",
       "</style>\n",
       "<table border=\"1\" class=\"dataframe\">\n",
       "  <thead>\n",
       "    <tr style=\"text-align: right;\">\n",
       "      <th></th>\n",
       "      <th>max_features</th>\n",
       "      <th>min_df</th>\n",
       "      <th>max_df</th>\n",
       "      <th>score</th>\n",
       "    </tr>\n",
       "  </thead>\n",
       "  <tbody>\n",
       "    <tr>\n",
       "      <th>0</th>\n",
       "      <td>200</td>\n",
       "      <td>0.05</td>\n",
       "      <td>0.80</td>\n",
       "      <td>0.793436</td>\n",
       "    </tr>\n",
       "    <tr>\n",
       "      <th>1</th>\n",
       "      <td>300</td>\n",
       "      <td>0.05</td>\n",
       "      <td>0.90</td>\n",
       "      <td>0.793436</td>\n",
       "    </tr>\n",
       "    <tr>\n",
       "      <th>2</th>\n",
       "      <td>500</td>\n",
       "      <td>0.05</td>\n",
       "      <td>0.95</td>\n",
       "      <td>0.793436</td>\n",
       "    </tr>\n",
       "    <tr>\n",
       "      <th>3</th>\n",
       "      <td>500</td>\n",
       "      <td>0.05</td>\n",
       "      <td>0.90</td>\n",
       "      <td>0.793436</td>\n",
       "    </tr>\n",
       "    <tr>\n",
       "      <th>4</th>\n",
       "      <td>500</td>\n",
       "      <td>0.05</td>\n",
       "      <td>0.80</td>\n",
       "      <td>0.793436</td>\n",
       "    </tr>\n",
       "    <tr>\n",
       "      <th>5</th>\n",
       "      <td>400</td>\n",
       "      <td>0.05</td>\n",
       "      <td>0.95</td>\n",
       "      <td>0.793436</td>\n",
       "    </tr>\n",
       "    <tr>\n",
       "      <th>6</th>\n",
       "      <td>400</td>\n",
       "      <td>0.05</td>\n",
       "      <td>0.90</td>\n",
       "      <td>0.793436</td>\n",
       "    </tr>\n",
       "    <tr>\n",
       "      <th>7</th>\n",
       "      <td>200</td>\n",
       "      <td>0.05</td>\n",
       "      <td>0.90</td>\n",
       "      <td>0.793436</td>\n",
       "    </tr>\n",
       "    <tr>\n",
       "      <th>8</th>\n",
       "      <td>300</td>\n",
       "      <td>0.05</td>\n",
       "      <td>0.95</td>\n",
       "      <td>0.793436</td>\n",
       "    </tr>\n",
       "    <tr>\n",
       "      <th>9</th>\n",
       "      <td>400</td>\n",
       "      <td>0.05</td>\n",
       "      <td>0.80</td>\n",
       "      <td>0.793436</td>\n",
       "    </tr>\n",
       "  </tbody>\n",
       "</table>\n",
       "</div>"
      ],
      "text/plain": [
       "   max_features  min_df  max_df     score\n",
       "0           200    0.05    0.80  0.793436\n",
       "1           300    0.05    0.90  0.793436\n",
       "2           500    0.05    0.95  0.793436\n",
       "3           500    0.05    0.90  0.793436\n",
       "4           500    0.05    0.80  0.793436\n",
       "5           400    0.05    0.95  0.793436\n",
       "6           400    0.05    0.90  0.793436\n",
       "7           200    0.05    0.90  0.793436\n",
       "8           300    0.05    0.95  0.793436\n",
       "9           400    0.05    0.80  0.793436"
      ]
     },
     "execution_count": 41,
     "metadata": {},
     "output_type": "execute_result"
    }
   ],
   "source": [
    "max_features = [200, 300, 400, 500]\n",
    "min_df = [0.05, 0.2, 0.3]\n",
    "max_df = [0.8, 0.9, 0.95]\n",
    "\n",
    "df_score = hiperparamentros_tfidfVectorizer(max_features, min_df, max_df)\n",
    "df_score.head(10)"
   ]
  },
  {
   "cell_type": "markdown",
   "metadata": {},
   "source": [
    "É possível perceber que para os dez maiores valores de score calculado são para o min_df igual a 0.05, independente das variações dos outros hiperparâmetros. Então, vamos reajustar o valor de min_df e calcular novamente os valores de acurácia."
   ]
  },
  {
   "cell_type": "code",
   "execution_count": null,
   "metadata": {},
   "outputs": [
    {
     "data": {
      "text/html": [
       "<div>\n",
       "<style scoped>\n",
       "    .dataframe tbody tr th:only-of-type {\n",
       "        vertical-align: middle;\n",
       "    }\n",
       "\n",
       "    .dataframe tbody tr th {\n",
       "        vertical-align: top;\n",
       "    }\n",
       "\n",
       "    .dataframe thead th {\n",
       "        text-align: right;\n",
       "    }\n",
       "</style>\n",
       "<table border=\"1\" class=\"dataframe\">\n",
       "  <thead>\n",
       "    <tr style=\"text-align: right;\">\n",
       "      <th></th>\n",
       "      <th>max_features</th>\n",
       "      <th>min_df</th>\n",
       "      <th>max_df</th>\n",
       "      <th>score</th>\n",
       "    </tr>\n",
       "  </thead>\n",
       "  <tbody>\n",
       "    <tr>\n",
       "      <th>0</th>\n",
       "      <td>500</td>\n",
       "      <td>0.0</td>\n",
       "      <td>0.9</td>\n",
       "      <td>0.842240</td>\n",
       "    </tr>\n",
       "    <tr>\n",
       "      <th>1</th>\n",
       "      <td>500</td>\n",
       "      <td>0.0</td>\n",
       "      <td>0.8</td>\n",
       "      <td>0.842240</td>\n",
       "    </tr>\n",
       "    <tr>\n",
       "      <th>2</th>\n",
       "      <td>500</td>\n",
       "      <td>0.0</td>\n",
       "      <td>0.7</td>\n",
       "      <td>0.842240</td>\n",
       "    </tr>\n",
       "    <tr>\n",
       "      <th>3</th>\n",
       "      <td>400</td>\n",
       "      <td>0.0</td>\n",
       "      <td>0.7</td>\n",
       "      <td>0.839678</td>\n",
       "    </tr>\n",
       "    <tr>\n",
       "      <th>4</th>\n",
       "      <td>300</td>\n",
       "      <td>0.0</td>\n",
       "      <td>0.8</td>\n",
       "      <td>0.839678</td>\n",
       "    </tr>\n",
       "    <tr>\n",
       "      <th>5</th>\n",
       "      <td>400</td>\n",
       "      <td>0.0</td>\n",
       "      <td>0.9</td>\n",
       "      <td>0.839678</td>\n",
       "    </tr>\n",
       "    <tr>\n",
       "      <th>6</th>\n",
       "      <td>400</td>\n",
       "      <td>0.0</td>\n",
       "      <td>0.8</td>\n",
       "      <td>0.839678</td>\n",
       "    </tr>\n",
       "    <tr>\n",
       "      <th>7</th>\n",
       "      <td>300</td>\n",
       "      <td>0.0</td>\n",
       "      <td>0.9</td>\n",
       "      <td>0.839678</td>\n",
       "    </tr>\n",
       "    <tr>\n",
       "      <th>8</th>\n",
       "      <td>300</td>\n",
       "      <td>0.0</td>\n",
       "      <td>0.7</td>\n",
       "      <td>0.839678</td>\n",
       "    </tr>\n",
       "    <tr>\n",
       "      <th>9</th>\n",
       "      <td>200</td>\n",
       "      <td>0.0</td>\n",
       "      <td>0.8</td>\n",
       "      <td>0.837360</td>\n",
       "    </tr>\n",
       "  </tbody>\n",
       "</table>\n",
       "</div>"
      ],
      "text/plain": [
       "   max_features  min_df  max_df     score\n",
       "0           500     0.0     0.9  0.842240\n",
       "1           500     0.0     0.8  0.842240\n",
       "2           500     0.0     0.7  0.842240\n",
       "3           400     0.0     0.7  0.839678\n",
       "4           300     0.0     0.8  0.839678\n",
       "5           400     0.0     0.9  0.839678\n",
       "6           400     0.0     0.8  0.839678\n",
       "7           300     0.0     0.9  0.839678\n",
       "8           300     0.0     0.7  0.839678\n",
       "9           200     0.0     0.8  0.837360"
      ]
     },
     "execution_count": 42,
     "metadata": {},
     "output_type": "execute_result"
    }
   ],
   "source": [
    "max_features = [200, 300, 400, 500]\n",
    "min_df = [0, 0.01, 0.05]\n",
    "max_df = [0.7, 0.8, 0.9]\n",
    "\n",
    "df_score = hiperparamentros_tfidfVectorizer(max_features, min_df, max_df)\n",
    "df_score.head(10)"
   ]
  },
  {
   "cell_type": "markdown",
   "metadata": {},
   "source": [
    "Então, é possível visualizar as seguintes afirmações:\n",
    "- Quanto menor o valor min_df melhor é acuracia do modelo;\n",
    "- Quanto maior o valor max_features melhor é acuracia do modelo;\n",
    "- O valor de max_df não contribuiu para melhora da acurácia para esse conjunto de hiperparâmetros."
   ]
  },
  {
   "cell_type": "code",
   "execution_count": null,
   "metadata": {},
   "outputs": [
    {
     "data": {
      "text/html": [
       "<div>\n",
       "<style scoped>\n",
       "    .dataframe tbody tr th:only-of-type {\n",
       "        vertical-align: middle;\n",
       "    }\n",
       "\n",
       "    .dataframe tbody tr th {\n",
       "        vertical-align: top;\n",
       "    }\n",
       "\n",
       "    .dataframe thead th {\n",
       "        text-align: right;\n",
       "    }\n",
       "</style>\n",
       "<table border=\"1\" class=\"dataframe\">\n",
       "  <thead>\n",
       "    <tr style=\"text-align: right;\">\n",
       "      <th></th>\n",
       "      <th>max_features</th>\n",
       "      <th>min_df</th>\n",
       "      <th>max_df</th>\n",
       "      <th>score</th>\n",
       "    </tr>\n",
       "  </thead>\n",
       "  <tbody>\n",
       "    <tr>\n",
       "      <th>0</th>\n",
       "      <td>700</td>\n",
       "      <td>0.000</td>\n",
       "      <td>0.9</td>\n",
       "      <td>0.844802</td>\n",
       "    </tr>\n",
       "    <tr>\n",
       "      <th>1</th>\n",
       "      <td>700</td>\n",
       "      <td>0.000</td>\n",
       "      <td>0.8</td>\n",
       "      <td>0.844802</td>\n",
       "    </tr>\n",
       "    <tr>\n",
       "      <th>2</th>\n",
       "      <td>700</td>\n",
       "      <td>0.000</td>\n",
       "      <td>0.7</td>\n",
       "      <td>0.844802</td>\n",
       "    </tr>\n",
       "    <tr>\n",
       "      <th>3</th>\n",
       "      <td>700</td>\n",
       "      <td>0.001</td>\n",
       "      <td>0.9</td>\n",
       "      <td>0.844314</td>\n",
       "    </tr>\n",
       "    <tr>\n",
       "      <th>4</th>\n",
       "      <td>700</td>\n",
       "      <td>0.001</td>\n",
       "      <td>0.8</td>\n",
       "      <td>0.844314</td>\n",
       "    </tr>\n",
       "    <tr>\n",
       "      <th>5</th>\n",
       "      <td>700</td>\n",
       "      <td>0.001</td>\n",
       "      <td>0.7</td>\n",
       "      <td>0.844314</td>\n",
       "    </tr>\n",
       "    <tr>\n",
       "      <th>6</th>\n",
       "      <td>600</td>\n",
       "      <td>0.001</td>\n",
       "      <td>0.8</td>\n",
       "      <td>0.843948</td>\n",
       "    </tr>\n",
       "    <tr>\n",
       "      <th>7</th>\n",
       "      <td>600</td>\n",
       "      <td>0.001</td>\n",
       "      <td>0.9</td>\n",
       "      <td>0.843948</td>\n",
       "    </tr>\n",
       "    <tr>\n",
       "      <th>8</th>\n",
       "      <td>600</td>\n",
       "      <td>0.001</td>\n",
       "      <td>0.7</td>\n",
       "      <td>0.843948</td>\n",
       "    </tr>\n",
       "    <tr>\n",
       "      <th>9</th>\n",
       "      <td>600</td>\n",
       "      <td>0.000</td>\n",
       "      <td>0.7</td>\n",
       "      <td>0.843582</td>\n",
       "    </tr>\n",
       "    <tr>\n",
       "      <th>10</th>\n",
       "      <td>600</td>\n",
       "      <td>0.000</td>\n",
       "      <td>0.8</td>\n",
       "      <td>0.843582</td>\n",
       "    </tr>\n",
       "    <tr>\n",
       "      <th>11</th>\n",
       "      <td>600</td>\n",
       "      <td>0.000</td>\n",
       "      <td>0.9</td>\n",
       "      <td>0.843582</td>\n",
       "    </tr>\n",
       "    <tr>\n",
       "      <th>12</th>\n",
       "      <td>500</td>\n",
       "      <td>0.000</td>\n",
       "      <td>0.8</td>\n",
       "      <td>0.842240</td>\n",
       "    </tr>\n",
       "    <tr>\n",
       "      <th>13</th>\n",
       "      <td>500</td>\n",
       "      <td>0.000</td>\n",
       "      <td>0.7</td>\n",
       "      <td>0.842240</td>\n",
       "    </tr>\n",
       "    <tr>\n",
       "      <th>14</th>\n",
       "      <td>500</td>\n",
       "      <td>0.001</td>\n",
       "      <td>0.9</td>\n",
       "      <td>0.842240</td>\n",
       "    </tr>\n",
       "    <tr>\n",
       "      <th>15</th>\n",
       "      <td>500</td>\n",
       "      <td>0.001</td>\n",
       "      <td>0.8</td>\n",
       "      <td>0.842240</td>\n",
       "    </tr>\n",
       "    <tr>\n",
       "      <th>16</th>\n",
       "      <td>500</td>\n",
       "      <td>0.001</td>\n",
       "      <td>0.7</td>\n",
       "      <td>0.842240</td>\n",
       "    </tr>\n",
       "    <tr>\n",
       "      <th>17</th>\n",
       "      <td>500</td>\n",
       "      <td>0.000</td>\n",
       "      <td>0.9</td>\n",
       "      <td>0.842240</td>\n",
       "    </tr>\n",
       "    <tr>\n",
       "      <th>18</th>\n",
       "      <td>500</td>\n",
       "      <td>0.005</td>\n",
       "      <td>0.9</td>\n",
       "      <td>0.837970</td>\n",
       "    </tr>\n",
       "    <tr>\n",
       "      <th>19</th>\n",
       "      <td>600</td>\n",
       "      <td>0.005</td>\n",
       "      <td>0.7</td>\n",
       "      <td>0.837970</td>\n",
       "    </tr>\n",
       "  </tbody>\n",
       "</table>\n",
       "</div>"
      ],
      "text/plain": [
       "    max_features  min_df  max_df     score\n",
       "0            700   0.000     0.9  0.844802\n",
       "1            700   0.000     0.8  0.844802\n",
       "2            700   0.000     0.7  0.844802\n",
       "3            700   0.001     0.9  0.844314\n",
       "4            700   0.001     0.8  0.844314\n",
       "5            700   0.001     0.7  0.844314\n",
       "6            600   0.001     0.8  0.843948\n",
       "7            600   0.001     0.9  0.843948\n",
       "8            600   0.001     0.7  0.843948\n",
       "9            600   0.000     0.7  0.843582\n",
       "10           600   0.000     0.8  0.843582\n",
       "11           600   0.000     0.9  0.843582\n",
       "12           500   0.000     0.8  0.842240\n",
       "13           500   0.000     0.7  0.842240\n",
       "14           500   0.001     0.9  0.842240\n",
       "15           500   0.001     0.8  0.842240\n",
       "16           500   0.001     0.7  0.842240\n",
       "17           500   0.000     0.9  0.842240\n",
       "18           500   0.005     0.9  0.837970\n",
       "19           600   0.005     0.7  0.837970"
      ]
     },
     "execution_count": 43,
     "metadata": {},
     "output_type": "execute_result"
    }
   ],
   "source": [
    "max_features = [500, 600, 700]\n",
    "min_df = [0, 0.001, 0.005]\n",
    "max_df = [0.7, 0.8, 0.9]\n",
    "\n",
    "df_score = hiperparamentros_tfidfVectorizer(max_features, min_df, max_df)\n",
    "df_score.head(20)"
   ]
  },
  {
   "cell_type": "markdown",
   "metadata": {},
   "source": [
    "Aumentar o valor de features para melhora do modelo de classificação não resultou em grande melhora da acurácia (score) do modelo, mas em contrapartida aumento sua complexidade. Então vamos escolher o melhor conjunto de hiperparâmetros para o max_features igual a 500. É possível perceber que nove diferentes combinações obtiveram um score de 0,84224. Logo, vamos escolher o maior valor de min_df e o menor valor de max_df para tentar tornar o modelo mais genérico."
   ]
  },
  {
   "cell_type": "code",
   "execution_count": null,
   "metadata": {},
   "outputs": [
    {
     "data": {
      "text/html": [
       "<div>\n",
       "<style scoped>\n",
       "    .dataframe tbody tr th:only-of-type {\n",
       "        vertical-align: middle;\n",
       "    }\n",
       "\n",
       "    .dataframe tbody tr th {\n",
       "        vertical-align: top;\n",
       "    }\n",
       "\n",
       "    .dataframe thead th {\n",
       "        text-align: right;\n",
       "    }\n",
       "</style>\n",
       "<table border=\"1\" class=\"dataframe\">\n",
       "  <thead>\n",
       "    <tr style=\"text-align: right;\">\n",
       "      <th></th>\n",
       "      <th>max_features</th>\n",
       "      <th>min_df</th>\n",
       "      <th>max_df</th>\n",
       "      <th>score</th>\n",
       "    </tr>\n",
       "  </thead>\n",
       "  <tbody>\n",
       "    <tr>\n",
       "      <th>12</th>\n",
       "      <td>500</td>\n",
       "      <td>0.000</td>\n",
       "      <td>0.8</td>\n",
       "      <td>0.84224</td>\n",
       "    </tr>\n",
       "    <tr>\n",
       "      <th>13</th>\n",
       "      <td>500</td>\n",
       "      <td>0.000</td>\n",
       "      <td>0.7</td>\n",
       "      <td>0.84224</td>\n",
       "    </tr>\n",
       "    <tr>\n",
       "      <th>14</th>\n",
       "      <td>500</td>\n",
       "      <td>0.001</td>\n",
       "      <td>0.9</td>\n",
       "      <td>0.84224</td>\n",
       "    </tr>\n",
       "    <tr>\n",
       "      <th>15</th>\n",
       "      <td>500</td>\n",
       "      <td>0.001</td>\n",
       "      <td>0.8</td>\n",
       "      <td>0.84224</td>\n",
       "    </tr>\n",
       "    <tr>\n",
       "      <th>16</th>\n",
       "      <td>500</td>\n",
       "      <td>0.001</td>\n",
       "      <td>0.7</td>\n",
       "      <td>0.84224</td>\n",
       "    </tr>\n",
       "    <tr>\n",
       "      <th>17</th>\n",
       "      <td>500</td>\n",
       "      <td>0.000</td>\n",
       "      <td>0.9</td>\n",
       "      <td>0.84224</td>\n",
       "    </tr>\n",
       "    <tr>\n",
       "      <th>18</th>\n",
       "      <td>500</td>\n",
       "      <td>0.005</td>\n",
       "      <td>0.9</td>\n",
       "      <td>0.83797</td>\n",
       "    </tr>\n",
       "    <tr>\n",
       "      <th>22</th>\n",
       "      <td>500</td>\n",
       "      <td>0.005</td>\n",
       "      <td>0.8</td>\n",
       "      <td>0.83797</td>\n",
       "    </tr>\n",
       "    <tr>\n",
       "      <th>23</th>\n",
       "      <td>500</td>\n",
       "      <td>0.005</td>\n",
       "      <td>0.7</td>\n",
       "      <td>0.83797</td>\n",
       "    </tr>\n",
       "  </tbody>\n",
       "</table>\n",
       "</div>"
      ],
      "text/plain": [
       "    max_features  min_df  max_df    score\n",
       "12           500   0.000     0.8  0.84224\n",
       "13           500   0.000     0.7  0.84224\n",
       "14           500   0.001     0.9  0.84224\n",
       "15           500   0.001     0.8  0.84224\n",
       "16           500   0.001     0.7  0.84224\n",
       "17           500   0.000     0.9  0.84224\n",
       "18           500   0.005     0.9  0.83797\n",
       "22           500   0.005     0.8  0.83797\n",
       "23           500   0.005     0.7  0.83797"
      ]
     },
     "execution_count": 44,
     "metadata": {},
     "output_type": "execute_result"
    }
   ],
   "source": [
    "df_score[df_score['max_features'] == 500]"
   ]
  },
  {
   "cell_type": "markdown",
   "metadata": {},
   "source": [
    "Valores de hiperparâmetros selecionados:\n",
    "- max_features = 500\n",
    "- min_df = 0.001\n",
    "- max_df = 0.7"
   ]
  },
  {
   "cell_type": "markdown",
   "metadata": {},
   "source": [
    "### 5.1. Definindo o Pipeline de trasformação"
   ]
  },
  {
   "cell_type": "code",
   "execution_count": 22,
   "metadata": {},
   "outputs": [],
   "source": [
    "# Definindo todas as trafomações regex para serem aplicadas ao pipeline\n",
    "regex_transformers = {\n",
    "    'datas': re_dates,\n",
    "    'valores_dinheiro': re_money,\n",
    "    'numeros': re_numbers,\n",
    "    'negacoes': re_negation,\n",
    "    'caracteres_especiais': re_special_chars,\n",
    "    'espacos_branco': re_whitespaces\n",
    "}\n",
    "\n",
    "vectorizer = TfidfVectorizer(max_features=500, min_df=0.001, max_df=0.7) \n",
    "\n",
    "# Criando o Pipeline\n",
    "text_pipeline = Pipeline([\n",
    "    ('regex', RemoverRegex(regex_transformers)),\n",
    "    ('stopwords', RemoverStopwords(stopwords.words('portuguese'))),\n",
    "    ('normalization', ProcessoNormalizacao()),\n",
    "    ('stemming', ProcessoStemming(RSLPStemmer())),\n",
    "    ('text_features', ExtracaoFeatures(vectorizer))\n",
    "])\n"
   ]
  },
  {
   "cell_type": "markdown",
   "metadata": {},
   "source": [
    "### 5.2. Separando os dados em treino e teste"
   ]
  },
  {
   "cell_type": "code",
   "execution_count": 23,
   "metadata": {},
   "outputs": [],
   "source": [
    "# Dfinido X e y \n",
    "comentarios = dataset['review_comment_message'].dropna().index\n",
    "score = dataset['review_score'][comentarios].map({1: 'negativo', 2: 'negativo', 3: 'neutro', 4: 'positivo', 5: 'positivo'})\n",
    "\n",
    "# Dfinido X e y \n",
    "X = list(dataset['review_comment_message'][comentarios].values)\n",
    "y = score.values\n",
    "\n",
    "# Aplicando o pipeline\n",
    "X_processed = text_pipeline.fit_transform(X)"
   ]
  },
  {
   "cell_type": "markdown",
   "metadata": {},
   "source": [
    "## 6. Modelos de Classificação de Sentimento"
   ]
  },
  {
   "cell_type": "markdown",
   "metadata": {},
   "source": [
    "### 6.1. LogisticRegression"
   ]
  },
  {
   "cell_type": "markdown",
   "metadata": {},
   "source": [
    "Alguns algoritmos de regressão também podem ser utilizados para classificação (e vice-versa). A Regressão Logística (também chamada de Regressão Logit) é comumente utilizada para estimar a probabilidade de uma instância pertencer a uma determinada classe. Assim como um modelo de Regressão Linear, um modelo de Regressão Logística calcula uma soma ponderada das características de entrada (mais um termo de polarização), mas, em vez de gerar o resultado diretamente como o modelo de Regressão Linear, gera a logística desse resultado.\n",
    "\n",
    "O modelo de Regressão Logística pode ser generalizado para suportar múltiplas classes diretamente sem a necessidade de treinar e combinar vários classificadores binários. Isso é chamado Regressão Softmax, ou Regressão Logística Multinomial. A ideia é bem simples: quando dada uma instância x, o modelo de Regressão Softmax primeiro calcula uma pontuação sk(x) para cada classe k, então estima a probabilidade de cada classe aplicando a função softmax (também chamada exponencial normalizada) às pontuações.\n",
    "\n",
    "Uma vez calculada a pontuação de cada classe para a instância x, você pode estimar a probabilidade Pk de a instância pertencer à classe k ao executar as pontuações através da função softmax: ela calcula a exponencial de cada pontuação e a normaliza (dividindo pela soma de todas as exponenciais). Assim como o classificador de Regressão Logística, o classificador de Regressão Softmax prevê a classe com a maior probabilidade estimada (que é simplesmente a classe com a maior pontuação)."
   ]
  },
  {
   "cell_type": "markdown",
   "metadata": {},
   "source": [
    "#### 6.1.1. Recalculando a baseline"
   ]
  },
  {
   "cell_type": "markdown",
   "metadata": {},
   "source": [
    "Iremos recalcular o score para o mesmo modelo que foi calculado a baseline, ou seja, iremos utilizar os mesmo hiperpâmetros para a LogisticRegression, mas iremos utilizar a base de dados tratas pelo Pipeline."
   ]
  },
  {
   "cell_type": "markdown",
   "metadata": {},
   "source": [
    "##### 6.1.1.1. Acurácia "
   ]
  },
  {
   "cell_type": "markdown",
   "metadata": {},
   "source": [
    "Utilizaremos a função cross_val_score() para avaliar o modelo LogisticRegression com a utilização da validação cruzada K-fold com três partes. Lembre-se de que a validação cruzada K-fold significa dividir o conjunto de treinamento em K-folds (neste caso, três), prever e avaliar as previsões em cada conjunto utilizando um modelo treinado em conjuntos restantes."
   ]
  },
  {
   "cell_type": "code",
   "execution_count": null,
   "metadata": {},
   "outputs": [
    {
     "name": "stdout",
     "output_type": "stream",
     "text": [
      "Scores:[0.84017864 0.84318032 0.84405886]\n",
      "Média: 0.8424726065841814\n",
      "Desvio Padrão: 0.001661260943955625\n"
     ]
    }
   ],
   "source": [
    "regressao_logistica = LogisticRegression(solver = \"saga\", multi_class='multinomial')\n",
    "scores = cross_val_score(regressao_logistica, X_processed, y, cv=3, scoring=\"accuracy\")\n",
    "print(f'Scores:{np.sort(scores)}')\n",
    "print(f'Média: {scores.mean()}')\n",
    "print(f'Desvio Padrão: {scores.std()}')"
   ]
  },
  {
   "cell_type": "markdown",
   "metadata": {},
   "source": [
    "Comparando os valores dos scores obtido e com os valores da baseline antes do tratamento dos dados é possível perceber um ganho de 4.7% na acurácia do modelo utilizando os mesmos hiperparâmetros para o modelo."
   ]
  },
  {
   "cell_type": "markdown",
   "metadata": {},
   "source": [
    "##### 6.1.1.2. Matriz de confusão"
   ]
  },
  {
   "cell_type": "markdown",
   "metadata": {},
   "source": [
    "O método cross_val_predict() desempenha a validação cruzada K-fold, mas, em vez de retornar as pontuações da avaliação, ela retorna as previsões feitas em cada parte do teste. Isso significa que você obtém uma previsão limpa para cada instância no conjunto de treinamento (“limpa”, significando que a previsão é feita por um modelo que nunca viu os dados durante o treinamento)."
   ]
  },
  {
   "cell_type": "code",
   "execution_count": 24,
   "metadata": {},
   "outputs": [],
   "source": [
    "y_pred = cross_val_predict(regressao_logistica, X_processed, y, cv=3)\n",
    "conf_matrix = confusion_matrix(y, y_pred)"
   ]
  },
  {
   "cell_type": "code",
   "execution_count": 21,
   "metadata": {},
   "outputs": [
    {
     "data": {
      "text/plain": [
       "<AxesSubplot:>"
      ]
     },
     "execution_count": 21,
     "metadata": {},
     "output_type": "execute_result"
    },
    {
     "data": {
      "image/png": "[encoded data removed]",
      "text/plain": [
       "<Figure size 432x288 with 2 Axes>"
      ]
     },
     "metadata": {
      "needs_background": "light"
     },
     "output_type": "display_data"
    }
   ],
   "source": [
    "df_cm = pd.DataFrame(conf_matrix, index=['Negativo', 'Neutro', 'Positivo'], columns=['Negativo', 'Neutro', 'Positivo'])\n",
    "sns.heatmap(df_cm, annot=True, annot_kws={\"size\": 16}, cmap=\"Blues\", fmt='g')"
   ]
  },
  {
   "cell_type": "markdown",
   "metadata": {},
   "source": [
    "Cada linha em uma matriz de confusão representa uma classe real, enquanto a coluna representa uma classe prevista. A partir da matriz de confusão podemos visualizar:\n",
    "- 1º linha da matriz considera reviews Negativos: 9436 reviews foram correamente classificados como negativos, enquanto 158 foram classificados como neutros e 1296 como positivos.\n",
    "- 2º linha da matriz considera reviews neutros: 213 reviews foram correamente classificados como neutros, enquanto 1656 foram classificados como negativos e 1688 como positivos.\n",
    "- 3º linha da matriz considera reviews Positivos: 24873 reviews foram correamente classificados como positivos, enquanto 1431 foram classificados como negativos e 226 como neutros."
   ]
  },
  {
   "cell_type": "markdown",
   "metadata": {},
   "source": [
    "##### 6.1.1.3. Precisão e Revocação"
   ]
  },
  {
   "cell_type": "markdown",
   "metadata": {},
   "source": [
    "A metrica presição do classificador (precision_score) é a acurácia das previsões positivas. O melhor valor é 1 e o pior valor é 0.\n",
    "\n",
    "$$ precisão = \\frac {TP}{TP + FP} $$\n",
    "\n",
    "- TP: número de verdadeiros positivos\n",
    "- FP: número de falsos positivos\n",
    "\n",
    "A precisão é utilizada em conjunto com outra métrica chamada revocação (recall_score), também conhecida como sensibilidade ou taxa de verdadeiros positivos (TPR, do inglês): esta é a taxa de instâncias positivas que são corretamente detectadas pelo classificador.\n",
    "\n",
    "$$ revocacão = \\frac {TP}{TP + FN} $$\n",
    "\n",
    "- TP: número de verdadeiros positivos\n",
    "- FN: número de falsos negativos"
   ]
  },
  {
   "cell_type": "markdown",
   "metadata": {},
   "source": [
    "É possível perceber que o valor de precisão obtido foi de 0.8093, se comparada com o valor do score médio (0.8425) houve uma redução bastante expressiva. O valor de precisão nos indica que quando um review é classificado, ele estará com a classificação correta, em média, aproximadamente 81% das vezes das previsões positivas. Já a taxa de instâncias postivias que são corretamente detectadas pelo classificador é igual a 84%."
   ]
  },
  {
   "cell_type": "markdown",
   "metadata": {},
   "source": [
    "##### 6.1.1.4. Pontuação F1"
   ]
  },
  {
   "cell_type": "markdown",
   "metadata": {},
   "source": [
    "Uma forma simples de comparar dois classificadores é através da métrica chamada pontuação (F1). A pontuação F1 é a média harmônica da precisão e revocação. Enquanto a média regular trata igualmente todos os valores, a média harmônica dá muito mais peso aos valores mais baixos. Como resultado, o classificador só obterá uma pontuação F1 alta se a revocação e a precisão forem altas.\n",
    "\n",
    "$$F_1 = \\frac {2}{\\frac {1}{precisão} + \\frac {1}{revocacão}} = \\frac {precisão * revocacão} {precisão + revocacão} = \\frac {TP} {TP + \\frac {FN + FP} {2}} $$"
   ]
  },
  {
   "cell_type": "markdown",
   "metadata": {},
   "source": [
    "##### 6.1.1.5. Analise precisão, revocação e pontuação (f1) para cada classe:"
   ]
  },
  {
   "cell_type": "code",
   "execution_count": 22,
   "metadata": {},
   "outputs": [
    {
     "name": "stdout",
     "output_type": "stream",
     "text": [
      "              precision    recall  f1-score   support\n",
      "\n",
      "    negativo       0.75      0.87      0.81     10890\n",
      "      neutro       0.36      0.06      0.10      3557\n",
      "    positivo       0.89      0.94      0.91     26530\n",
      "\n",
      "    accuracy                           0.84     40977\n",
      "   macro avg       0.67      0.62      0.61     40977\n",
      "weighted avg       0.81      0.84      0.82     40977\n",
      "\n"
     ]
    }
   ],
   "source": [
    "CR = classification_report(y, y_pred)\n",
    "print(CR)"
   ]
  },
  {
   "cell_type": "markdown",
   "metadata": {},
   "source": [
    "Analisando as métricas para a classe \"neutro\" é possível confirmar de forma númerica o pessimo resultado de classificação para classe. As classes \"negativo\" e \"possitivo\" possui otimas métricas,, enquanto a classe \"neutro\" possui apenas 36% de precisão e 6% de revogação."
   ]
  },
  {
   "cell_type": "markdown",
   "metadata": {},
   "source": [
    "#### 6.1.2. Otimizando os hiperparamentors do modelo de LogisticRegression"
   ]
  },
  {
   "cell_type": "code",
   "execution_count": 26,
   "metadata": {},
   "outputs": [],
   "source": [
    "def print_score(modelo_treinado, X_processed, y):\n",
    "    print(\"Melhor conjunto de parâmetros encontrado: \")\n",
    "    print()\n",
    "    print(modelo_treinado.best_params_)\n",
    "    print()\n",
    "    print(\"Pontuações de grade no conjunto de desenvolvimento:\")\n",
    "    print()\n",
    "    means = modelo_treinado.cv_results_[\"mean_test_score\"]\n",
    "    stds = modelo_treinado.cv_results_[\"std_test_score\"]\n",
    "    for mean, std, params in zip(means, stds, modelo_treinado.cv_results_[\"params\"]):\n",
    "        # print(\"%0.3f (+/-%0.03f) for %r\" % (mean, std * 2, params))\n",
    "        print(f'{mean:.3f} (+/-{(std * 2):.3f}) for {params}')\n",
    "    print()\n",
    "\n",
    "    print(\"Relatório de classificação detalhado para o melhor modelo:\")\n",
    "    print()\n",
    "    y_true, y_pred = y, modelo_treinado.predict(X_processed)\n",
    "    print(classification_report(y_true, y_pred))\n",
    "    print()"
   ]
  },
  {
   "cell_type": "code",
   "execution_count": 24,
   "metadata": {},
   "outputs": [
    {
     "name": "stdout",
     "output_type": "stream",
     "text": [
      "# Ajustando hiperparâmetros para make_scorer(f1_score, average=weighted)\n",
      "\n"
     ]
    },
    {
     "name": "stderr",
     "output_type": "stream",
     "text": [
      "c:\\Users\\Brothers\\anaconda3\\lib\\site-packages\\sklearn\\linear_model\\_logistic.py:814: ConvergenceWarning: lbfgs failed to converge (status=1):\n",
      "STOP: TOTAL NO. of ITERATIONS REACHED LIMIT.\n",
      "\n",
      "Increase the number of iterations (max_iter) or scale the data as shown in:\n",
      "    https://scikit-learn.org/stable/modules/preprocessing.html\n",
      "Please also refer to the documentation for alternative solver options:\n",
      "    https://scikit-learn.org/stable/modules/linear_model.html#logistic-regression\n",
      "  n_iter_i = _check_optimize_result(\n",
      "c:\\Users\\Brothers\\anaconda3\\lib\\site-packages\\sklearn\\linear_model\\_logistic.py:814: ConvergenceWarning: lbfgs failed to converge (status=1):\n",
      "STOP: TOTAL NO. of ITERATIONS REACHED LIMIT.\n",
      "\n",
      "Increase the number of iterations (max_iter) or scale the data as shown in:\n",
      "    https://scikit-learn.org/stable/modules/preprocessing.html\n",
      "Please also refer to the documentation for alternative solver options:\n",
      "    https://scikit-learn.org/stable/modules/linear_model.html#logistic-regression\n",
      "  n_iter_i = _check_optimize_result(\n",
      "c:\\Users\\Brothers\\anaconda3\\lib\\site-packages\\sklearn\\linear_model\\_logistic.py:814: ConvergenceWarning: lbfgs failed to converge (status=1):\n",
      "STOP: TOTAL NO. of ITERATIONS REACHED LIMIT.\n",
      "\n",
      "Increase the number of iterations (max_iter) or scale the data as shown in:\n",
      "    https://scikit-learn.org/stable/modules/preprocessing.html\n",
      "Please also refer to the documentation for alternative solver options:\n",
      "    https://scikit-learn.org/stable/modules/linear_model.html#logistic-regression\n",
      "  n_iter_i = _check_optimize_result(\n",
      "c:\\Users\\Brothers\\anaconda3\\lib\\site-packages\\sklearn\\linear_model\\_logistic.py:814: ConvergenceWarning: lbfgs failed to converge (status=1):\n",
      "STOP: TOTAL NO. of ITERATIONS REACHED LIMIT.\n",
      "\n",
      "Increase the number of iterations (max_iter) or scale the data as shown in:\n",
      "    https://scikit-learn.org/stable/modules/preprocessing.html\n",
      "Please also refer to the documentation for alternative solver options:\n",
      "    https://scikit-learn.org/stable/modules/linear_model.html#logistic-regression\n",
      "  n_iter_i = _check_optimize_result(\n",
      "c:\\Users\\Brothers\\anaconda3\\lib\\site-packages\\sklearn\\linear_model\\_logistic.py:814: ConvergenceWarning: lbfgs failed to converge (status=1):\n",
      "STOP: TOTAL NO. of ITERATIONS REACHED LIMIT.\n",
      "\n",
      "Increase the number of iterations (max_iter) or scale the data as shown in:\n",
      "    https://scikit-learn.org/stable/modules/preprocessing.html\n",
      "Please also refer to the documentation for alternative solver options:\n",
      "    https://scikit-learn.org/stable/modules/linear_model.html#logistic-regression\n",
      "  n_iter_i = _check_optimize_result(\n",
      "c:\\Users\\Brothers\\anaconda3\\lib\\site-packages\\sklearn\\linear_model\\_sag.py:352: ConvergenceWarning: The max_iter was reached which means the coef_ did not converge\n",
      "  warnings.warn(\n",
      "c:\\Users\\Brothers\\anaconda3\\lib\\site-packages\\sklearn\\linear_model\\_sag.py:352: ConvergenceWarning: The max_iter was reached which means the coef_ did not converge\n",
      "  warnings.warn(\n",
      "c:\\Users\\Brothers\\anaconda3\\lib\\site-packages\\sklearn\\linear_model\\_sag.py:352: ConvergenceWarning: The max_iter was reached which means the coef_ did not converge\n",
      "  warnings.warn(\n",
      "c:\\Users\\Brothers\\anaconda3\\lib\\site-packages\\sklearn\\linear_model\\_sag.py:352: ConvergenceWarning: The max_iter was reached which means the coef_ did not converge\n",
      "  warnings.warn(\n",
      "c:\\Users\\Brothers\\anaconda3\\lib\\site-packages\\sklearn\\linear_model\\_sag.py:352: ConvergenceWarning: The max_iter was reached which means the coef_ did not converge\n",
      "  warnings.warn(\n",
      "c:\\Users\\Brothers\\anaconda3\\lib\\site-packages\\sklearn\\linear_model\\_sag.py:352: ConvergenceWarning: The max_iter was reached which means the coef_ did not converge\n",
      "  warnings.warn(\n",
      "c:\\Users\\Brothers\\anaconda3\\lib\\site-packages\\sklearn\\linear_model\\_sag.py:352: ConvergenceWarning: The max_iter was reached which means the coef_ did not converge\n",
      "  warnings.warn(\n",
      "c:\\Users\\Brothers\\anaconda3\\lib\\site-packages\\sklearn\\linear_model\\_sag.py:352: ConvergenceWarning: The max_iter was reached which means the coef_ did not converge\n",
      "  warnings.warn(\n",
      "c:\\Users\\Brothers\\anaconda3\\lib\\site-packages\\sklearn\\linear_model\\_sag.py:352: ConvergenceWarning: The max_iter was reached which means the coef_ did not converge\n",
      "  warnings.warn(\n",
      "c:\\Users\\Brothers\\anaconda3\\lib\\site-packages\\sklearn\\linear_model\\_sag.py:352: ConvergenceWarning: The max_iter was reached which means the coef_ did not converge\n",
      "  warnings.warn(\n",
      "c:\\Users\\Brothers\\anaconda3\\lib\\site-packages\\sklearn\\linear_model\\_logistic.py:814: ConvergenceWarning: lbfgs failed to converge (status=1):\n",
      "STOP: TOTAL NO. of ITERATIONS REACHED LIMIT.\n",
      "\n",
      "Increase the number of iterations (max_iter) or scale the data as shown in:\n",
      "    https://scikit-learn.org/stable/modules/preprocessing.html\n",
      "Please also refer to the documentation for alternative solver options:\n",
      "    https://scikit-learn.org/stable/modules/linear_model.html#logistic-regression\n",
      "  n_iter_i = _check_optimize_result(\n",
      "c:\\Users\\Brothers\\anaconda3\\lib\\site-packages\\sklearn\\linear_model\\_logistic.py:814: ConvergenceWarning: lbfgs failed to converge (status=1):\n",
      "STOP: TOTAL NO. of ITERATIONS REACHED LIMIT.\n",
      "\n",
      "Increase the number of iterations (max_iter) or scale the data as shown in:\n",
      "    https://scikit-learn.org/stable/modules/preprocessing.html\n",
      "Please also refer to the documentation for alternative solver options:\n",
      "    https://scikit-learn.org/stable/modules/linear_model.html#logistic-regression\n",
      "  n_iter_i = _check_optimize_result(\n",
      "c:\\Users\\Brothers\\anaconda3\\lib\\site-packages\\sklearn\\linear_model\\_logistic.py:814: ConvergenceWarning: lbfgs failed to converge (status=1):\n",
      "STOP: TOTAL NO. of ITERATIONS REACHED LIMIT.\n",
      "\n",
      "Increase the number of iterations (max_iter) or scale the data as shown in:\n",
      "    https://scikit-learn.org/stable/modules/preprocessing.html\n",
      "Please also refer to the documentation for alternative solver options:\n",
      "    https://scikit-learn.org/stable/modules/linear_model.html#logistic-regression\n",
      "  n_iter_i = _check_optimize_result(\n",
      "c:\\Users\\Brothers\\anaconda3\\lib\\site-packages\\sklearn\\linear_model\\_logistic.py:814: ConvergenceWarning: lbfgs failed to converge (status=1):\n",
      "STOP: TOTAL NO. of ITERATIONS REACHED LIMIT.\n",
      "\n",
      "Increase the number of iterations (max_iter) or scale the data as shown in:\n",
      "    https://scikit-learn.org/stable/modules/preprocessing.html\n",
      "Please also refer to the documentation for alternative solver options:\n",
      "    https://scikit-learn.org/stable/modules/linear_model.html#logistic-regression\n",
      "  n_iter_i = _check_optimize_result(\n",
      "c:\\Users\\Brothers\\anaconda3\\lib\\site-packages\\sklearn\\linear_model\\_logistic.py:814: ConvergenceWarning: lbfgs failed to converge (status=1):\n",
      "STOP: TOTAL NO. of ITERATIONS REACHED LIMIT.\n",
      "\n",
      "Increase the number of iterations (max_iter) or scale the data as shown in:\n",
      "    https://scikit-learn.org/stable/modules/preprocessing.html\n",
      "Please also refer to the documentation for alternative solver options:\n",
      "    https://scikit-learn.org/stable/modules/linear_model.html#logistic-regression\n",
      "  n_iter_i = _check_optimize_result(\n",
      "c:\\Users\\Brothers\\anaconda3\\lib\\site-packages\\sklearn\\linear_model\\_sag.py:352: ConvergenceWarning: The max_iter was reached which means the coef_ did not converge\n",
      "  warnings.warn(\n",
      "c:\\Users\\Brothers\\anaconda3\\lib\\site-packages\\sklearn\\linear_model\\_sag.py:352: ConvergenceWarning: The max_iter was reached which means the coef_ did not converge\n",
      "  warnings.warn(\n",
      "c:\\Users\\Brothers\\anaconda3\\lib\\site-packages\\sklearn\\linear_model\\_sag.py:352: ConvergenceWarning: The max_iter was reached which means the coef_ did not converge\n",
      "  warnings.warn(\n",
      "c:\\Users\\Brothers\\anaconda3\\lib\\site-packages\\sklearn\\linear_model\\_sag.py:352: ConvergenceWarning: The max_iter was reached which means the coef_ did not converge\n",
      "  warnings.warn(\n",
      "c:\\Users\\Brothers\\anaconda3\\lib\\site-packages\\sklearn\\linear_model\\_logistic.py:814: ConvergenceWarning: lbfgs failed to converge (status=1):\n",
      "STOP: TOTAL NO. of ITERATIONS REACHED LIMIT.\n",
      "\n",
      "Increase the number of iterations (max_iter) or scale the data as shown in:\n",
      "    https://scikit-learn.org/stable/modules/preprocessing.html\n",
      "Please also refer to the documentation for alternative solver options:\n",
      "    https://scikit-learn.org/stable/modules/linear_model.html#logistic-regression\n",
      "  n_iter_i = _check_optimize_result(\n"
     ]
    },
    {
     "name": "stdout",
     "output_type": "stream",
     "text": [
      "Melhor conjunto de parâmetros encontrado: \n",
      "\n",
      "{'C': 100, 'class_weight': None, 'max_iter': 250, 'multi_class': 'multinomial', 'penalty': 'l2', 'random_state': 42, 'solver': 'lbfgs'}\n",
      "\n",
      "Pontuações de grade no conjunto de desenvolvimento:\n",
      "\n",
      "0.801 (+/-0.003) for {'C': 100, 'class_weight': 'balanced', 'max_iter': 250, 'multi_class': 'multinomial', 'penalty': 'l2', 'random_state': 42, 'solver': 'lbfgs'}\n",
      "0.801 (+/-0.003) for {'C': 100, 'class_weight': 'balanced', 'max_iter': 250, 'multi_class': 'multinomial', 'penalty': 'l2', 'random_state': 42, 'solver': 'newton-cg'}\n",
      "0.662 (+/-0.191) for {'C': 100, 'class_weight': 'balanced', 'max_iter': 250, 'multi_class': 'multinomial', 'penalty': 'l2', 'random_state': 42, 'solver': 'sag'}\n",
      "0.731 (+/-0.107) for {'C': 100, 'class_weight': 'balanced', 'max_iter': 250, 'multi_class': 'multinomial', 'penalty': 'l2', 'random_state': 42, 'solver': 'saga'}\n",
      "0.816 (+/-0.004) for {'C': 100, 'class_weight': None, 'max_iter': 250, 'multi_class': 'multinomial', 'penalty': 'l2', 'random_state': 42, 'solver': 'lbfgs'}\n",
      "0.816 (+/-0.004) for {'C': 100, 'class_weight': None, 'max_iter': 250, 'multi_class': 'multinomial', 'penalty': 'l2', 'random_state': 42, 'solver': 'newton-cg'}\n",
      "0.816 (+/-0.004) for {'C': 100, 'class_weight': None, 'max_iter': 250, 'multi_class': 'multinomial', 'penalty': 'l2', 'random_state': 42, 'solver': 'sag'}\n",
      "0.816 (+/-0.004) for {'C': 100, 'class_weight': None, 'max_iter': 250, 'multi_class': 'multinomial', 'penalty': 'l2', 'random_state': 42, 'solver': 'saga'}\n",
      "\n",
      "Relatório de classificação detalhado para o melhor modelo:\n",
      "\n",
      "              precision    recall  f1-score   support\n",
      "\n",
      "    negativo       0.77      0.88      0.82     10890\n",
      "      neutro       0.45      0.09      0.15      3557\n",
      "    positivo       0.90      0.94      0.92     26530\n",
      "\n",
      "    accuracy                           0.85     40977\n",
      "   macro avg       0.70      0.64      0.63     40977\n",
      "weighted avg       0.82      0.85      0.83     40977\n",
      "\n",
      "\n"
     ]
    }
   ],
   "source": [
    "# Hiperparâmentros\n",
    "tuned_parameters = {\n",
    "    'C': [100],\n",
    "    'multi_class': ['multinomial'],\n",
    "    'penalty': ['l2'],\n",
    "    'class_weight': ['balanced', None],\n",
    "    'random_state': [42],\n",
    "    'solver': ['lbfgs', 'newton-cg', 'sag', 'saga'],\n",
    "    'max_iter': [250] \n",
    "}\n",
    "\n",
    "\n",
    "# Estratégia para avaliar o desempenho do modelo de validação cruzada no conjunto de testes.\n",
    "scorer = make_scorer(f1_score, average = 'weighted')\n",
    "'''\n",
    "'weighted':\n",
    "Calcule as métricas para cada rótulo e encontre sua média ponderada pelo suporte \n",
    "(o número de instâncias verdadeiras para cada rótulo). Isso altera 'macro' para \n",
    "levar em conta o desequilíbrio do rótulo; pode resultar em um F-score que não está \n",
    "entre precisão e recuperação.\n",
    "'''\n",
    "\n",
    "\n",
    "print(f\"# Ajustando hiperparâmetros para {scorer}\")\n",
    "print()\n",
    "\n",
    "clf = GridSearchCV(LogisticRegression(), \n",
    "                        tuned_parameters, \n",
    "                        scoring=scorer)\n",
    "\n",
    "clf.fit(X_processed, y)\n",
    "\n",
    "print_score(clf, X_processed, y)"
   ]
  },
  {
   "cell_type": "markdown",
   "metadata": {},
   "source": [
    "Todos os solves ('lbfgs', 'newton-cg', 'sag', 'saga') obtiveram os mesmo valor de f1-score, mas os erros de convergencia se mentiveram para todas as opções de conjuntos de hiperparâmetros. É possível visualizar a ocorrência do erro de convergência para os conjuntos de parâmetros especificados. Mesmo com o erro, se compararmos o melhor modelo encontrado pelo GridSearchCV percebemos que houve uma melhora em todos os quesitos, principalmente na classe \"neutro\". \n",
    "\n",
    "Vamos verificar se aumentando o número máximo de iterações resolve o problema de convergencia do modelo para o melhor conjunto de parâmentros selecinado anteriomente."
   ]
  },
  {
   "cell_type": "code",
   "execution_count": 25,
   "metadata": {},
   "outputs": [
    {
     "name": "stdout",
     "output_type": "stream",
     "text": [
      "# Ajustando hiperparâmetros para make_scorer(f1_score, average=weighted)\n",
      "\n",
      "Melhor conjunto de parâmetros encontrado: \n",
      "\n",
      "{'C': 100, 'class_weight': None, 'max_iter': 500, 'multi_class': 'multinomial', 'penalty': 'l2', 'random_state': 42, 'solver': 'lbfgs'}\n",
      "\n",
      "Pontuações de grade no conjunto de desenvolvimento:\n",
      "\n",
      "0.816 (+/-0.004) for {'C': 100, 'class_weight': None, 'max_iter': 500, 'multi_class': 'multinomial', 'penalty': 'l2', 'random_state': 42, 'solver': 'lbfgs'}\n",
      "0.816 (+/-0.004) for {'C': 100, 'class_weight': None, 'max_iter': 1000, 'multi_class': 'multinomial', 'penalty': 'l2', 'random_state': 42, 'solver': 'lbfgs'}\n",
      "\n",
      "Relatório de classificação detalhado para o melhor modelo:\n",
      "\n",
      "              precision    recall  f1-score   support\n",
      "\n",
      "    negativo       0.77      0.88      0.82     10890\n",
      "      neutro       0.45      0.09      0.15      3557\n",
      "    positivo       0.90      0.94      0.92     26530\n",
      "\n",
      "    accuracy                           0.85     40977\n",
      "   macro avg       0.70      0.64      0.63     40977\n",
      "weighted avg       0.82      0.85      0.83     40977\n",
      "\n",
      "\n"
     ]
    }
   ],
   "source": [
    "# Hiperparâmentros\n",
    "tuned_parameters = {\n",
    "    'C': [100],\n",
    "    'multi_class': ['multinomial'],\n",
    "    'penalty': ['l2'],\n",
    "    'class_weight': [None],\n",
    "    'random_state': [42],\n",
    "    'solver': ['lbfgs'],\n",
    "    'max_iter': [500, 1000] \n",
    "}\n",
    "\n",
    "\n",
    "# Estratégia para avaliar o desempenho do modelo de validação cruzada no conjunto de testes.\n",
    "scorer = make_scorer(f1_score, average = 'weighted')\n",
    "\n",
    "print(f\"# Ajustando hiperparâmetros para {scorer}\")\n",
    "print()\n",
    "\n",
    "clf = GridSearchCV(LogisticRegression(), \n",
    "                        tuned_parameters, \n",
    "                        scoring=scorer)\n",
    "\n",
    "clf.fit(X_processed, y)\n",
    "\n",
    "print_score(clf, X_processed, y)"
   ]
  },
  {
   "cell_type": "markdown",
   "metadata": {},
   "source": [
    "O aumento do numero máximo de iterações permitido corrigiu o erro de convergencia do modelo, mas não resultou em melhores classificações de acordo com as métricas. Iremos tester o aumento do max_iter para 500 iterações para o solver 'sag' para verificar se ocorrerá melhor desempenho do modelo.    "
   ]
  },
  {
   "cell_type": "code",
   "execution_count": 27,
   "metadata": {},
   "outputs": [
    {
     "name": "stdout",
     "output_type": "stream",
     "text": [
      "# Ajustando hiperparâmetros para make_scorer(f1_score, average=weighted)\n",
      "\n"
     ]
    },
    {
     "name": "stderr",
     "output_type": "stream",
     "text": [
      "c:\\Users\\Brothers\\anaconda3\\lib\\site-packages\\sklearn\\linear_model\\_sag.py:352: ConvergenceWarning: The max_iter was reached which means the coef_ did not converge\n",
      "  warnings.warn(\n"
     ]
    },
    {
     "name": "stdout",
     "output_type": "stream",
     "text": [
      "Melhor conjunto de parâmetros encontrado: \n",
      "\n",
      "{'C': 100, 'class_weight': None, 'max_iter': 1000, 'multi_class': 'multinomial', 'penalty': 'l2', 'random_state': 42, 'solver': 'sag'}\n",
      "\n",
      "Pontuações de grade no conjunto de desenvolvimento:\n",
      "\n",
      "0.816 (+/-0.004) for {'C': 100, 'class_weight': None, 'max_iter': 500, 'multi_class': 'multinomial', 'penalty': 'l2', 'random_state': 42, 'solver': 'sag'}\n",
      "0.816 (+/-0.004) for {'C': 100, 'class_weight': None, 'max_iter': 1000, 'multi_class': 'multinomial', 'penalty': 'l2', 'random_state': 42, 'solver': 'sag'}\n",
      "\n",
      "Relatório de classificação detalhado para o melhor modelo:\n",
      "\n",
      "              precision    recall  f1-score   support\n",
      "\n",
      "    negativo       0.77      0.88      0.82     10890\n",
      "      neutro       0.45      0.09      0.15      3557\n",
      "    positivo       0.90      0.94      0.92     26530\n",
      "\n",
      "    accuracy                           0.85     40977\n",
      "   macro avg       0.70      0.64      0.63     40977\n",
      "weighted avg       0.82      0.85      0.83     40977\n",
      "\n",
      "\n"
     ]
    }
   ],
   "source": [
    "# Hiperparâmentros\n",
    "tuned_parameters = {\n",
    "    'C': [100],\n",
    "    'multi_class': ['multinomial'],\n",
    "    'penalty': ['l2'],\n",
    "    'class_weight': [None],\n",
    "    'random_state': [42],\n",
    "    'solver': ['sag'],\n",
    "    'max_iter': [500, 1000] \n",
    "}\n",
    "\n",
    "\n",
    "# Estratégia para avaliar o desempenho do modelo de validação cruzada no conjunto de testes.\n",
    "scorer = make_scorer(f1_score, average = 'weighted')\n",
    "\n",
    "print(f\"# Ajustando hiperparâmetros para {scorer}\")\n",
    "print()\n",
    "\n",
    "clf = GridSearchCV(LogisticRegression(), \n",
    "                        tuned_parameters, \n",
    "                        scoring=scorer)\n",
    "\n",
    "clf.fit(X_processed, y)\n",
    "\n",
    "print_score(clf, X_processed, y)"
   ]
  },
  {
   "cell_type": "markdown",
   "metadata": {},
   "source": [
    "Não houve melhoria do modelo com alteração do solver, mas houve piora no custo computacional a classificação com o solver 'sag'. Então, vamos adotar o modelo 'lbfgs' como sendo o solver para a LogisticRegression. Por fim, vamos variar o hiperparâmentro 'C' (Inverse of regularization strength):"
   ]
  },
  {
   "cell_type": "code",
   "execution_count": 29,
   "metadata": {},
   "outputs": [
    {
     "name": "stdout",
     "output_type": "stream",
     "text": [
      "# Ajustando hiperparâmetros para make_scorer(f1_score, average=weighted)\n",
      "\n"
     ]
    },
    {
     "name": "stderr",
     "output_type": "stream",
     "text": [
      "c:\\Users\\Brothers\\anaconda3\\lib\\site-packages\\sklearn\\linear_model\\_logistic.py:814: ConvergenceWarning: lbfgs failed to converge (status=1):\n",
      "STOP: TOTAL NO. of ITERATIONS REACHED LIMIT.\n",
      "\n",
      "Increase the number of iterations (max_iter) or scale the data as shown in:\n",
      "    https://scikit-learn.org/stable/modules/preprocessing.html\n",
      "Please also refer to the documentation for alternative solver options:\n",
      "    https://scikit-learn.org/stable/modules/linear_model.html#logistic-regression\n",
      "  n_iter_i = _check_optimize_result(\n",
      "c:\\Users\\Brothers\\anaconda3\\lib\\site-packages\\sklearn\\linear_model\\_logistic.py:814: ConvergenceWarning: lbfgs failed to converge (status=1):\n",
      "STOP: TOTAL NO. of ITERATIONS REACHED LIMIT.\n",
      "\n",
      "Increase the number of iterations (max_iter) or scale the data as shown in:\n",
      "    https://scikit-learn.org/stable/modules/preprocessing.html\n",
      "Please also refer to the documentation for alternative solver options:\n",
      "    https://scikit-learn.org/stable/modules/linear_model.html#logistic-regression\n",
      "  n_iter_i = _check_optimize_result(\n",
      "c:\\Users\\Brothers\\anaconda3\\lib\\site-packages\\sklearn\\linear_model\\_logistic.py:814: ConvergenceWarning: lbfgs failed to converge (status=1):\n",
      "STOP: TOTAL NO. of ITERATIONS REACHED LIMIT.\n",
      "\n",
      "Increase the number of iterations (max_iter) or scale the data as shown in:\n",
      "    https://scikit-learn.org/stable/modules/preprocessing.html\n",
      "Please also refer to the documentation for alternative solver options:\n",
      "    https://scikit-learn.org/stable/modules/linear_model.html#logistic-regression\n",
      "  n_iter_i = _check_optimize_result(\n",
      "c:\\Users\\Brothers\\anaconda3\\lib\\site-packages\\sklearn\\linear_model\\_logistic.py:814: ConvergenceWarning: lbfgs failed to converge (status=1):\n",
      "STOP: TOTAL NO. of ITERATIONS REACHED LIMIT.\n",
      "\n",
      "Increase the number of iterations (max_iter) or scale the data as shown in:\n",
      "    https://scikit-learn.org/stable/modules/preprocessing.html\n",
      "Please also refer to the documentation for alternative solver options:\n",
      "    https://scikit-learn.org/stable/modules/linear_model.html#logistic-regression\n",
      "  n_iter_i = _check_optimize_result(\n",
      "c:\\Users\\Brothers\\anaconda3\\lib\\site-packages\\sklearn\\linear_model\\_logistic.py:814: ConvergenceWarning: lbfgs failed to converge (status=1):\n",
      "STOP: TOTAL NO. of ITERATIONS REACHED LIMIT.\n",
      "\n",
      "Increase the number of iterations (max_iter) or scale the data as shown in:\n",
      "    https://scikit-learn.org/stable/modules/preprocessing.html\n",
      "Please also refer to the documentation for alternative solver options:\n",
      "    https://scikit-learn.org/stable/modules/linear_model.html#logistic-regression\n",
      "  n_iter_i = _check_optimize_result(\n",
      "c:\\Users\\Brothers\\anaconda3\\lib\\site-packages\\sklearn\\linear_model\\_logistic.py:814: ConvergenceWarning: lbfgs failed to converge (status=1):\n",
      "STOP: TOTAL NO. of ITERATIONS REACHED LIMIT.\n",
      "\n",
      "Increase the number of iterations (max_iter) or scale the data as shown in:\n",
      "    https://scikit-learn.org/stable/modules/preprocessing.html\n",
      "Please also refer to the documentation for alternative solver options:\n",
      "    https://scikit-learn.org/stable/modules/linear_model.html#logistic-regression\n",
      "  n_iter_i = _check_optimize_result(\n",
      "c:\\Users\\Brothers\\anaconda3\\lib\\site-packages\\sklearn\\linear_model\\_logistic.py:814: ConvergenceWarning: lbfgs failed to converge (status=1):\n",
      "STOP: TOTAL NO. of ITERATIONS REACHED LIMIT.\n",
      "\n",
      "Increase the number of iterations (max_iter) or scale the data as shown in:\n",
      "    https://scikit-learn.org/stable/modules/preprocessing.html\n",
      "Please also refer to the documentation for alternative solver options:\n",
      "    https://scikit-learn.org/stable/modules/linear_model.html#logistic-regression\n",
      "  n_iter_i = _check_optimize_result(\n",
      "c:\\Users\\Brothers\\anaconda3\\lib\\site-packages\\sklearn\\linear_model\\_logistic.py:814: ConvergenceWarning: lbfgs failed to converge (status=1):\n",
      "STOP: TOTAL NO. of ITERATIONS REACHED LIMIT.\n",
      "\n",
      "Increase the number of iterations (max_iter) or scale the data as shown in:\n",
      "    https://scikit-learn.org/stable/modules/preprocessing.html\n",
      "Please also refer to the documentation for alternative solver options:\n",
      "    https://scikit-learn.org/stable/modules/linear_model.html#logistic-regression\n",
      "  n_iter_i = _check_optimize_result(\n",
      "c:\\Users\\Brothers\\anaconda3\\lib\\site-packages\\sklearn\\linear_model\\_logistic.py:814: ConvergenceWarning: lbfgs failed to converge (status=1):\n",
      "STOP: TOTAL NO. of ITERATIONS REACHED LIMIT.\n",
      "\n",
      "Increase the number of iterations (max_iter) or scale the data as shown in:\n",
      "    https://scikit-learn.org/stable/modules/preprocessing.html\n",
      "Please also refer to the documentation for alternative solver options:\n",
      "    https://scikit-learn.org/stable/modules/linear_model.html#logistic-regression\n",
      "  n_iter_i = _check_optimize_result(\n",
      "c:\\Users\\Brothers\\anaconda3\\lib\\site-packages\\sklearn\\linear_model\\_logistic.py:814: ConvergenceWarning: lbfgs failed to converge (status=1):\n",
      "STOP: TOTAL NO. of ITERATIONS REACHED LIMIT.\n",
      "\n",
      "Increase the number of iterations (max_iter) or scale the data as shown in:\n",
      "    https://scikit-learn.org/stable/modules/preprocessing.html\n",
      "Please also refer to the documentation for alternative solver options:\n",
      "    https://scikit-learn.org/stable/modules/linear_model.html#logistic-regression\n",
      "  n_iter_i = _check_optimize_result(\n",
      "c:\\Users\\Brothers\\anaconda3\\lib\\site-packages\\sklearn\\linear_model\\_logistic.py:814: ConvergenceWarning: lbfgs failed to converge (status=1):\n",
      "STOP: TOTAL NO. of ITERATIONS REACHED LIMIT.\n",
      "\n",
      "Increase the number of iterations (max_iter) or scale the data as shown in:\n",
      "    https://scikit-learn.org/stable/modules/preprocessing.html\n",
      "Please also refer to the documentation for alternative solver options:\n",
      "    https://scikit-learn.org/stable/modules/linear_model.html#logistic-regression\n",
      "  n_iter_i = _check_optimize_result(\n",
      "c:\\Users\\Brothers\\anaconda3\\lib\\site-packages\\sklearn\\linear_model\\_logistic.py:814: ConvergenceWarning: lbfgs failed to converge (status=1):\n",
      "STOP: TOTAL NO. of ITERATIONS REACHED LIMIT.\n",
      "\n",
      "Increase the number of iterations (max_iter) or scale the data as shown in:\n",
      "    https://scikit-learn.org/stable/modules/preprocessing.html\n",
      "Please also refer to the documentation for alternative solver options:\n",
      "    https://scikit-learn.org/stable/modules/linear_model.html#logistic-regression\n",
      "  n_iter_i = _check_optimize_result(\n",
      "c:\\Users\\Brothers\\anaconda3\\lib\\site-packages\\sklearn\\linear_model\\_logistic.py:814: ConvergenceWarning: lbfgs failed to converge (status=1):\n",
      "STOP: TOTAL NO. of ITERATIONS REACHED LIMIT.\n",
      "\n",
      "Increase the number of iterations (max_iter) or scale the data as shown in:\n",
      "    https://scikit-learn.org/stable/modules/preprocessing.html\n",
      "Please also refer to the documentation for alternative solver options:\n",
      "    https://scikit-learn.org/stable/modules/linear_model.html#logistic-regression\n",
      "  n_iter_i = _check_optimize_result(\n",
      "c:\\Users\\Brothers\\anaconda3\\lib\\site-packages\\sklearn\\linear_model\\_logistic.py:814: ConvergenceWarning: lbfgs failed to converge (status=1):\n",
      "STOP: TOTAL NO. of ITERATIONS REACHED LIMIT.\n",
      "\n",
      "Increase the number of iterations (max_iter) or scale the data as shown in:\n",
      "    https://scikit-learn.org/stable/modules/preprocessing.html\n",
      "Please also refer to the documentation for alternative solver options:\n",
      "    https://scikit-learn.org/stable/modules/linear_model.html#logistic-regression\n",
      "  n_iter_i = _check_optimize_result(\n",
      "c:\\Users\\Brothers\\anaconda3\\lib\\site-packages\\sklearn\\linear_model\\_logistic.py:814: ConvergenceWarning: lbfgs failed to converge (status=1):\n",
      "STOP: TOTAL NO. of ITERATIONS REACHED LIMIT.\n",
      "\n",
      "Increase the number of iterations (max_iter) or scale the data as shown in:\n",
      "    https://scikit-learn.org/stable/modules/preprocessing.html\n",
      "Please also refer to the documentation for alternative solver options:\n",
      "    https://scikit-learn.org/stable/modules/linear_model.html#logistic-regression\n",
      "  n_iter_i = _check_optimize_result(\n"
     ]
    },
    {
     "name": "stdout",
     "output_type": "stream",
     "text": [
      "Melhor conjunto de parâmetros encontrado: \n",
      "\n",
      "{'C': 10000, 'class_weight': None, 'max_iter': 500, 'multi_class': 'multinomial', 'penalty': 'l2', 'random_state': 42, 'solver': 'lbfgs'}\n",
      "\n",
      "Pontuações de grade no conjunto de desenvolvimento:\n",
      "\n",
      "0.816 (+/-0.004) for {'C': 500, 'class_weight': None, 'max_iter': 500, 'multi_class': 'multinomial', 'penalty': 'l2', 'random_state': 42, 'solver': 'lbfgs'}\n",
      "0.816 (+/-0.004) for {'C': 1000, 'class_weight': None, 'max_iter': 500, 'multi_class': 'multinomial', 'penalty': 'l2', 'random_state': 42, 'solver': 'lbfgs'}\n",
      "0.816 (+/-0.004) for {'C': 10000, 'class_weight': None, 'max_iter': 500, 'multi_class': 'multinomial', 'penalty': 'l2', 'random_state': 42, 'solver': 'lbfgs'}\n",
      "\n",
      "Relatório de classificação detalhado para o melhor modelo:\n",
      "\n",
      "              precision    recall  f1-score   support\n",
      "\n",
      "    negativo       0.77      0.88      0.82     10890\n",
      "      neutro       0.45      0.09      0.15      3557\n",
      "    positivo       0.90      0.94      0.92     26530\n",
      "\n",
      "    accuracy                           0.85     40977\n",
      "   macro avg       0.70      0.64      0.63     40977\n",
      "weighted avg       0.82      0.85      0.83     40977\n",
      "\n",
      "\n"
     ]
    }
   ],
   "source": [
    "# Hiperparâmentros\n",
    "tuned_parameters = {\n",
    "    'C': [500, 1000, 10000],\n",
    "    'multi_class': ['multinomial'],\n",
    "    'penalty': ['l2'],\n",
    "    'class_weight': [None],\n",
    "    'random_state': [42],\n",
    "    'solver': ['lbfgs'],\n",
    "    'max_iter': [500] \n",
    "}\n",
    "\n",
    "\n",
    "# Estratégia para avaliar o desempenho do modelo de validação cruzada no conjunto de testes.\n",
    "scorer = make_scorer(f1_score, average = 'weighted')\n",
    "\n",
    "print(f\"# Ajustando hiperparâmetros para {scorer}\")\n",
    "print()\n",
    "\n",
    "clf = GridSearchCV(LogisticRegression(), \n",
    "                        tuned_parameters, \n",
    "                        scoring=scorer)\n",
    "\n",
    "clf.fit(X_processed, y)\n",
    "\n",
    "print_score(clf, X_processed, y)"
   ]
  },
  {
   "cell_type": "markdown",
   "metadata": {},
   "source": [
    "Alterar o parâmentro 'C' não resultou em melhora do modelo e ainda gerou erro de convergencia nos modelos testados. Então vamos assumir o seguinte conjunto de hiperparâmetros para o modelo de LogisticRegression:"
   ]
  },
  {
   "cell_type": "code",
   "execution_count": 28,
   "metadata": {},
   "outputs": [
    {
     "name": "stdout",
     "output_type": "stream",
     "text": [
      "# Ajustando hiperparâmetros para make_scorer(f1_score, average=weighted)\n",
      "\n",
      "Melhor conjunto de parâmetros encontrado: \n",
      "\n",
      "{'C': 100, 'class_weight': None, 'max_iter': 500, 'multi_class': 'multinomial', 'penalty': 'l2', 'random_state': 42, 'solver': 'lbfgs'}\n",
      "\n",
      "Pontuações de grade no conjunto de desenvolvimento:\n",
      "\n",
      "0.816 (+/-0.004) for {'C': 100, 'class_weight': None, 'max_iter': 500, 'multi_class': 'multinomial', 'penalty': 'l2', 'random_state': 42, 'solver': 'lbfgs'}\n",
      "\n",
      "Relatório de classificação detalhado para o melhor modelo:\n",
      "\n",
      "              precision    recall  f1-score   support\n",
      "\n",
      "    negativo       0.77      0.88      0.82     10890\n",
      "      neutro       0.45      0.09      0.15      3557\n",
      "    positivo       0.90      0.94      0.92     26530\n",
      "\n",
      "    accuracy                           0.85     40977\n",
      "   macro avg       0.70      0.64      0.63     40977\n",
      "weighted avg       0.82      0.85      0.83     40977\n",
      "\n",
      "\n"
     ]
    }
   ],
   "source": [
    "# Hiperparâmentros\n",
    "tuned_parameters = {\n",
    "    'C': [100],\n",
    "    'multi_class': ['multinomial'],\n",
    "    'penalty': ['l2'],\n",
    "    'class_weight': [None],\n",
    "    'random_state': [42],\n",
    "    'solver': ['lbfgs'],\n",
    "    'max_iter': [500] \n",
    "}\n",
    "\n",
    "\n",
    "# Estratégia para avaliar o desempenho do modelo de validação cruzada no conjunto de testes.\n",
    "scorer = make_scorer(f1_score, average = 'weighted')\n",
    "\n",
    "print(f\"# Ajustando hiperparâmetros para {scorer}\")\n",
    "print()\n",
    "\n",
    "clf = GridSearchCV(LogisticRegression(), \n",
    "                        tuned_parameters, \n",
    "                        scoring=scorer)\n",
    "\n",
    "clf.fit(X_processed, y)\n",
    "\n",
    "print_score(clf, X_processed, y)"
   ]
  },
  {
   "cell_type": "markdown",
   "metadata": {},
   "source": [
    "### 6.3. SVM"
   ]
  },
  {
   "cell_type": "code",
   "execution_count": null,
   "metadata": {},
   "outputs": [],
   "source": []
  }
 ],
 "metadata": {
  "kernelspec": {
   "display_name": "Python 3.8.8 ('base')",
   "language": "python",
   "name": "python3"
  },
  "language_info": {
   "codemirror_mode": {
    "name": "ipython",
    "version": 3
   },
   "file_extension": ".py",
   "mimetype": "text/x-python",
   "name": "python",
   "nbconvert_exporter": "python",
   "pygments_lexer": "ipython3",
   "version": "3.8.8"
  },
  "orig_nbformat": 4,
  "vscode": {
   "interpreter": {
    "hash": "12fb55c19b53ac09035d9d6bd41a050fcb0becbe4846579be579fa8f11e9abb2"
   }
  }
 },
 "nbformat": 4,
 "nbformat_minor": 2
}
