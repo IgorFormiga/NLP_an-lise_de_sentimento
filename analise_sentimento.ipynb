{
 "cells": [
  {
   "cell_type": "markdown",
   "metadata": {},
   "source": [
    "# Natural Language Processing"
   ]
  },
  {
   "cell_type": "markdown",
   "metadata": {},
   "source": [
    "O objetivo deste projeto é a criação de um modelo de Machine Learning de classificação utilizado o processamento de linguagem natural. O modelo irá classificar os comentários em três classes: \"Positivo\", \"Negativo\" e \"Neutro\". O conjunto de comentários negativos possui um alto valor de informação para empresas, podendo ser utilizado como feedback de melhoria e/ou base de dados para análise de causa raiz. "
   ]
  },
  {
   "cell_type": "markdown",
   "metadata": {},
   "source": [
    "## 1. Importando Bibliotecas"
   ]
  },
  {
   "cell_type": "code",
   "execution_count": 2,
   "metadata": {},
   "outputs": [],
   "source": [
    "import pandas as pd\n",
    "import matplotlib.pyplot as plt\n",
    "import seaborn as sns\n",
    "import numpy as np\n",
    "import nltk\n",
    "import spacy\n",
    "from nltk import tokenize, RSLPStemmer, FreqDist, tokenize, word_tokenize\n",
    "from nltk.corpus import stopwords\n",
    "from nltk.lm import preprocessing\n",
    "from sklearn.model_selection import train_test_split, cross_val_score, cross_validate, GridSearchCV, KFold, StratifiedKFold\n",
    "from sklearn.linear_model import LogisticRegression\n",
    "from sklearn.svm import SVC\n",
    "from sklearn.feature_extraction.text import CountVectorizer, TfidfVectorizer\n",
    "from sklearn.metrics import confusion_matrix, precision_score, recall_score, f1_score, classification_report, make_scorer\n",
    "from sklearn.pipeline import Pipeline\n",
    "from wordcloud import WordCloud\n",
    "from string import punctuation\n",
    "from time import time\n",
    "from skopt import BayesSearchCV\n",
    "from skopt.space import Real, Categorical, Integer\n",
    "from gensim.models.word2vec import Word2Vec\n",
    "from collections import defaultdict\n",
    "\n",
    "\n",
    "from utils.regex_utils import *\n",
    "from utils.stopword_utils import RemoverStopwords\n",
    "from utils.normalize_utils import ProcessoNormalizacao\n",
    "from utils.stemming_utils import ProcessoStemming\n",
    "from utils.features_extract import ExtracaoFeatures, E2V_IDF\n",
    "from utils.n_grams_utils import ngrams_count\n",
    "from utils.wordcloud_utils import nuvem_palavras\n",
    "from utils.select_model_utils import print_score_BayesSearchCV, print_score\n",
    "from utils.word2vec_utils import E2V_IDF"
   ]
  },
  {
   "cell_type": "markdown",
   "metadata": {},
   "source": [
    "## 2. Leitura dos dados"
   ]
  },
  {
   "cell_type": "markdown",
   "metadata": {},
   "source": [
    "O projeto foi desenvolvido utilizado um conjunto de dados público de e-commerce brasileiro de pedidos feitos na Olist Store, a maior loja de departamentos dos marketplaces brasileiros. A Olist conecta pequenas empresas de todo o Brasil a canais sem complicações e com um único contrato. Esses comerciantes podem vender seus produtos através da Olist Store e enviá-los diretamente aos clientes usando os parceiros de logística da Olist. O dataset possui informações de 100 mil pedidos de 2016 a 2018 feitos em vários marketplaces no Brasil. \n",
    "\n",
    "A base de dados de reviews foi construída a partir compras de produtos por clientes na Olist Store. Assim que o cliente recebe o produto, ou vence a data prevista de entrega, o cliente recebe uma pesquisa de satisfação por e-mail onde pode dar uma nota da experiência de compra e anotar alguns comentários."
   ]
  },
  {
   "cell_type": "code",
   "execution_count": 3,
   "metadata": {},
   "outputs": [],
   "source": [
    "dataset = pd.read_csv('order_reviews.csv', sep=';')"
   ]
  },
  {
   "cell_type": "code",
   "execution_count": 4,
   "metadata": {},
   "outputs": [
    {
     "data": {
      "text/html": [
       "<div>\n",
       "<style scoped>\n",
       "    .dataframe tbody tr th:only-of-type {\n",
       "        vertical-align: middle;\n",
       "    }\n",
       "\n",
       "    .dataframe tbody tr th {\n",
       "        vertical-align: top;\n",
       "    }\n",
       "\n",
       "    .dataframe thead th {\n",
       "        text-align: right;\n",
       "    }\n",
       "</style>\n",
       "<table border=\"1\" class=\"dataframe\">\n",
       "  <thead>\n",
       "    <tr style=\"text-align: right;\">\n",
       "      <th></th>\n",
       "      <th>review_id</th>\n",
       "      <th>order_id</th>\n",
       "      <th>review_score</th>\n",
       "      <th>review_comment_title</th>\n",
       "      <th>review_comment_message</th>\n",
       "      <th>review_creation_date</th>\n",
       "      <th>review_answer_timestamp</th>\n",
       "    </tr>\n",
       "  </thead>\n",
       "  <tbody>\n",
       "    <tr>\n",
       "      <th>0</th>\n",
       "      <td>7bc2406110b926393aa56f80a40eba40</td>\n",
       "      <td>73fc7af87114b39712e6da79b0a377eb</td>\n",
       "      <td>4</td>\n",
       "      <td>NaN</td>\n",
       "      <td>NaN</td>\n",
       "      <td>2018-01-18 00:00:00</td>\n",
       "      <td>2018-01-18 21:46:59</td>\n",
       "    </tr>\n",
       "    <tr>\n",
       "      <th>1</th>\n",
       "      <td>80e641a11e56f04c1ad469d5645fdfde</td>\n",
       "      <td>a548910a1c6147796b98fdf73dbeba33</td>\n",
       "      <td>5</td>\n",
       "      <td>NaN</td>\n",
       "      <td>NaN</td>\n",
       "      <td>2018-03-10 00:00:00</td>\n",
       "      <td>2018-03-11 03:05:13</td>\n",
       "    </tr>\n",
       "    <tr>\n",
       "      <th>2</th>\n",
       "      <td>228ce5500dc1d8e020d8d1322874b6f0</td>\n",
       "      <td>f9e4b658b201a9f2ecdecbb34bed034b</td>\n",
       "      <td>5</td>\n",
       "      <td>NaN</td>\n",
       "      <td>NaN</td>\n",
       "      <td>2018-02-17 00:00:00</td>\n",
       "      <td>2018-02-18 14:36:24</td>\n",
       "    </tr>\n",
       "    <tr>\n",
       "      <th>3</th>\n",
       "      <td>e64fb393e7b32834bb789ff8bb30750e</td>\n",
       "      <td>658677c97b385a9be170737859d3511b</td>\n",
       "      <td>5</td>\n",
       "      <td>NaN</td>\n",
       "      <td>Recebi bem antes do prazo estipulado.</td>\n",
       "      <td>2017-04-21 00:00:00</td>\n",
       "      <td>2017-04-21 22:02:06</td>\n",
       "    </tr>\n",
       "    <tr>\n",
       "      <th>4</th>\n",
       "      <td>f7c4243c7fe1938f181bec41a392bdeb</td>\n",
       "      <td>8e6bfb81e283fa7e4f11123a3fb894f1</td>\n",
       "      <td>5</td>\n",
       "      <td>NaN</td>\n",
       "      <td>Parabéns lojas lannister adorei comprar pela I...</td>\n",
       "      <td>2018-03-01 00:00:00</td>\n",
       "      <td>2018-03-02 10:26:53</td>\n",
       "    </tr>\n",
       "  </tbody>\n",
       "</table>\n",
       "</div>"
      ],
      "text/plain": [
       "                          review_id                          order_id  \\\n",
       "0  7bc2406110b926393aa56f80a40eba40  73fc7af87114b39712e6da79b0a377eb   \n",
       "1  80e641a11e56f04c1ad469d5645fdfde  a548910a1c6147796b98fdf73dbeba33   \n",
       "2  228ce5500dc1d8e020d8d1322874b6f0  f9e4b658b201a9f2ecdecbb34bed034b   \n",
       "3  e64fb393e7b32834bb789ff8bb30750e  658677c97b385a9be170737859d3511b   \n",
       "4  f7c4243c7fe1938f181bec41a392bdeb  8e6bfb81e283fa7e4f11123a3fb894f1   \n",
       "\n",
       "   review_score review_comment_title  \\\n",
       "0             4                  NaN   \n",
       "1             5                  NaN   \n",
       "2             5                  NaN   \n",
       "3             5                  NaN   \n",
       "4             5                  NaN   \n",
       "\n",
       "                              review_comment_message review_creation_date  \\\n",
       "0                                                NaN  2018-01-18 00:00:00   \n",
       "1                                                NaN  2018-03-10 00:00:00   \n",
       "2                                                NaN  2018-02-17 00:00:00   \n",
       "3              Recebi bem antes do prazo estipulado.  2017-04-21 00:00:00   \n",
       "4  Parabéns lojas lannister adorei comprar pela I...  2018-03-01 00:00:00   \n",
       "\n",
       "  review_answer_timestamp  \n",
       "0     2018-01-18 21:46:59  \n",
       "1     2018-03-11 03:05:13  \n",
       "2     2018-02-18 14:36:24  \n",
       "3     2017-04-21 22:02:06  \n",
       "4     2018-03-02 10:26:53  "
      ]
     },
     "execution_count": 4,
     "metadata": {},
     "output_type": "execute_result"
    }
   ],
   "source": [
    "dataset.head()"
   ]
  },
  {
   "cell_type": "markdown",
   "metadata": {},
   "source": [
    "## 3. Compreensão de dados"
   ]
  },
  {
   "cell_type": "markdown",
   "metadata": {},
   "source": [
    "### 3.1. Analise de dados faltantes (Null)"
   ]
  },
  {
   "cell_type": "code",
   "execution_count": 5,
   "metadata": {},
   "outputs": [],
   "source": [
    "dataset.drop(['review_id', 'review_creation_date', 'review_answer_timestamp', 'review_comment_title', 'order_id'], axis=1, inplace=True)"
   ]
  },
  {
   "cell_type": "code",
   "execution_count": 6,
   "metadata": {},
   "outputs": [
    {
     "name": "stdout",
     "output_type": "stream",
     "text": [
      "<class 'pandas.core.frame.DataFrame'>\n",
      "RangeIndex: 99224 entries, 0 to 99223\n",
      "Data columns (total 2 columns):\n",
      " #   Column                  Non-Null Count  Dtype \n",
      "---  ------                  --------------  ----- \n",
      " 0   review_score            99224 non-null  int64 \n",
      " 1   review_comment_message  40977 non-null  object\n",
      "dtypes: int64(1), object(1)\n",
      "memory usage: 1.5+ MB\n"
     ]
    }
   ],
   "source": [
    "dataset.info()"
   ]
  },
  {
   "cell_type": "code",
   "execution_count": 7,
   "metadata": {},
   "outputs": [
    {
     "data": {
      "text/plain": [
       "(40977, 2)"
      ]
     },
     "execution_count": 7,
     "metadata": {},
     "output_type": "execute_result"
    }
   ],
   "source": [
    "# Retirando o valores Null de reviews\n",
    "dataset = dataset.dropna()\n",
    "dataset = dataset.reset_index(drop=True)\n",
    "dataset.shape"
   ]
  },
  {
   "cell_type": "code",
   "execution_count": 8,
   "metadata": {},
   "outputs": [
    {
     "data": {
      "text/html": [
       "<div>\n",
       "<style scoped>\n",
       "    .dataframe tbody tr th:only-of-type {\n",
       "        vertical-align: middle;\n",
       "    }\n",
       "\n",
       "    .dataframe tbody tr th {\n",
       "        vertical-align: top;\n",
       "    }\n",
       "\n",
       "    .dataframe thead th {\n",
       "        text-align: right;\n",
       "    }\n",
       "</style>\n",
       "<table border=\"1\" class=\"dataframe\">\n",
       "  <thead>\n",
       "    <tr style=\"text-align: right;\">\n",
       "      <th></th>\n",
       "      <th>review_score</th>\n",
       "      <th>review_comment_message</th>\n",
       "    </tr>\n",
       "  </thead>\n",
       "  <tbody>\n",
       "    <tr>\n",
       "      <th>0</th>\n",
       "      <td>5</td>\n",
       "      <td>Recebi bem antes do prazo estipulado.</td>\n",
       "    </tr>\n",
       "    <tr>\n",
       "      <th>1</th>\n",
       "      <td>5</td>\n",
       "      <td>Parabéns lojas lannister adorei comprar pela I...</td>\n",
       "    </tr>\n",
       "    <tr>\n",
       "      <th>2</th>\n",
       "      <td>4</td>\n",
       "      <td>aparelho eficiente. no site a marca do aparelh...</td>\n",
       "    </tr>\n",
       "    <tr>\n",
       "      <th>3</th>\n",
       "      <td>4</td>\n",
       "      <td>Mas um pouco ,travando...pelo valor ta Boa.\\r\\n</td>\n",
       "    </tr>\n",
       "    <tr>\n",
       "      <th>4</th>\n",
       "      <td>5</td>\n",
       "      <td>Vendedor confiável, produto ok e entrega antes...</td>\n",
       "    </tr>\n",
       "  </tbody>\n",
       "</table>\n",
       "</div>"
      ],
      "text/plain": [
       "   review_score                             review_comment_message\n",
       "0             5              Recebi bem antes do prazo estipulado.\n",
       "1             5  Parabéns lojas lannister adorei comprar pela I...\n",
       "2             4  aparelho eficiente. no site a marca do aparelh...\n",
       "3             4    Mas um pouco ,travando...pelo valor ta Boa.\\r\\n\n",
       "4             5  Vendedor confiável, produto ok e entrega antes..."
      ]
     },
     "execution_count": 8,
     "metadata": {},
     "output_type": "execute_result"
    }
   ],
   "source": [
    "dataset.head()"
   ]
  },
  {
   "cell_type": "markdown",
   "metadata": {},
   "source": [
    "### 3.1. Rotulagem dos dados"
   ]
  },
  {
   "cell_type": "code",
   "execution_count": 9,
   "metadata": {},
   "outputs": [
    {
     "data": {
      "image/png": "[encoded data removed]",
      "text/plain": [
       "<Figure size 720x432 with 1 Axes>"
      ]
     },
     "metadata": {
      "needs_background": "light"
     },
     "output_type": "display_data"
    }
   ],
   "source": [
    "# Criando um datafrem que contem as quantidade de acordo com o score\n",
    "quantidade = pd.DataFrame(dataset['review_score'].value_counts()).sort_index()\n",
    "\n",
    "# plotando o gráfico de barra\n",
    "fig, ax = plt.subplots(figsize=(10, 6))\n",
    "ax = sns.barplot(y='review_score', x=quantidade.index, data=quantidade, orient='v', palette='viridis')\n",
    "ax.set_title('Quantidade de comentários por score', fontdict={'fontsize': 20})\n",
    "ax.set(ylabel=None, xlabel=None)\n",
    "ax.bar_label(ax.containers[0])\n",
    "plt.show()"
   ]
  },
  {
   "cell_type": "markdown",
   "metadata": {},
   "source": [
    "Com objetivo de criar um modelo de análise sentimental em uma abordagem de Machine Learning supervisionado, iremos dividir os sentimentos em três classes: negativo, neutro e positivo. O database não possui uma definição explicita sobre a definição de sentimento para cada comentário. Pensando em uma implementação rápida, utilizaremos a coluna \"review_score\" para rotular os dados nas três classes já que ela dá uma uma ideia sobre a satisfação do cliente a respeito da compra.\n",
    "\n",
    "Rotulagem dos dados:\n",
    "- Positivo (1): Compreende os scores de valores 4 e 5\n",
    "- Neutro (0): Compreende o score de valor 3\n",
    "- Negativo (-1): Compreende os scores de valores 1 e 2\n"
   ]
  },
  {
   "cell_type": "code",
   "execution_count": 10,
   "metadata": {},
   "outputs": [],
   "source": [
    "# Rotulagem dos dados\n",
    "score_map = {\n",
    "    1: -1,\n",
    "    2: -1,\n",
    "    3: 0,\n",
    "    4: 1,\n",
    "    5: 1\n",
    "}\n",
    "\n",
    "dataset['sentiment_label'] = dataset['review_score'].map(score_map)\n",
    "dataset = dataset[['review_score', 'sentiment_label','review_comment_message']]"
   ]
  },
  {
   "cell_type": "code",
   "execution_count": 11,
   "metadata": {},
   "outputs": [
    {
     "data": {
      "text/html": [
       "<div>\n",
       "<style scoped>\n",
       "    .dataframe tbody tr th:only-of-type {\n",
       "        vertical-align: middle;\n",
       "    }\n",
       "\n",
       "    .dataframe tbody tr th {\n",
       "        vertical-align: top;\n",
       "    }\n",
       "\n",
       "    .dataframe thead th {\n",
       "        text-align: right;\n",
       "    }\n",
       "</style>\n",
       "<table border=\"1\" class=\"dataframe\">\n",
       "  <thead>\n",
       "    <tr style=\"text-align: right;\">\n",
       "      <th></th>\n",
       "      <th>review_score</th>\n",
       "      <th>sentiment_label</th>\n",
       "      <th>review_comment_message</th>\n",
       "    </tr>\n",
       "  </thead>\n",
       "  <tbody>\n",
       "    <tr>\n",
       "      <th>0</th>\n",
       "      <td>5</td>\n",
       "      <td>1</td>\n",
       "      <td>Recebi bem antes do prazo estipulado.</td>\n",
       "    </tr>\n",
       "    <tr>\n",
       "      <th>1</th>\n",
       "      <td>5</td>\n",
       "      <td>1</td>\n",
       "      <td>Parabéns lojas lannister adorei comprar pela I...</td>\n",
       "    </tr>\n",
       "    <tr>\n",
       "      <th>2</th>\n",
       "      <td>4</td>\n",
       "      <td>1</td>\n",
       "      <td>aparelho eficiente. no site a marca do aparelh...</td>\n",
       "    </tr>\n",
       "    <tr>\n",
       "      <th>3</th>\n",
       "      <td>4</td>\n",
       "      <td>1</td>\n",
       "      <td>Mas um pouco ,travando...pelo valor ta Boa.\\r\\n</td>\n",
       "    </tr>\n",
       "    <tr>\n",
       "      <th>4</th>\n",
       "      <td>5</td>\n",
       "      <td>1</td>\n",
       "      <td>Vendedor confiável, produto ok e entrega antes...</td>\n",
       "    </tr>\n",
       "  </tbody>\n",
       "</table>\n",
       "</div>"
      ],
      "text/plain": [
       "   review_score  sentiment_label  \\\n",
       "0             5                1   \n",
       "1             5                1   \n",
       "2             4                1   \n",
       "3             4                1   \n",
       "4             5                1   \n",
       "\n",
       "                              review_comment_message  \n",
       "0              Recebi bem antes do prazo estipulado.  \n",
       "1  Parabéns lojas lannister adorei comprar pela I...  \n",
       "2  aparelho eficiente. no site a marca do aparelh...  \n",
       "3    Mas um pouco ,travando...pelo valor ta Boa.\\r\\n  \n",
       "4  Vendedor confiável, produto ok e entrega antes...  "
      ]
     },
     "execution_count": 11,
     "metadata": {},
     "output_type": "execute_result"
    }
   ],
   "source": [
    "dataset.head()"
   ]
  },
  {
   "cell_type": "code",
   "execution_count": 12,
   "metadata": {},
   "outputs": [
    {
     "data": {
      "text/plain": [
       " 1    26530\n",
       "-1    10890\n",
       " 0     3557\n",
       "Name: sentiment_label, dtype: int64"
      ]
     },
     "execution_count": 12,
     "metadata": {},
     "output_type": "execute_result"
    }
   ],
   "source": [
    "dataset['sentiment_label'].value_counts()"
   ]
  },
  {
   "cell_type": "code",
   "execution_count": 13,
   "metadata": {},
   "outputs": [
    {
     "data": {
      "image/png": "[encoded data removed]",
      "text/plain": [
       "<Figure size 720x432 with 1 Axes>"
      ]
     },
     "metadata": {},
     "output_type": "display_data"
    }
   ],
   "source": [
    "sentiment = pd.DataFrame(dataset['sentiment_label'].value_counts())\n",
    "labels = ['Positivo', 'Negativo', 'Neutro']\n",
    "\n",
    "fig, ax = plt.subplots(figsize=(10, 6))\n",
    "colors = sns.color_palette('viridis')\n",
    "ax.pie(sentiment['sentiment_label'],labels= labels,autopct='%1.0f%%', pctdistance=1.1, labeldistance=1.2, explode = [0.02, 0.02, 0.02], colors=colors)\n",
    "plt.show()"
   ]
  },
  {
   "cell_type": "markdown",
   "metadata": {},
   "source": [
    "## 4. Criando uma BaseLine"
   ]
  },
  {
   "cell_type": "markdown",
   "metadata": {},
   "source": [
    "Iremos definir uma baseline para o modelo de classificação de sentimos supervisionado. A baseline é um modelo simples de previsão que atua como referência para futuros modelos de Machine Learning, algumas informações aqui descritas serão explicadas e demostradas ao longo do projeto."
   ]
  },
  {
   "cell_type": "markdown",
   "metadata": {},
   "source": [
    "### 4.1. Bag of Words: criando representações da linguagem humana."
   ]
  },
  {
   "cell_type": "code",
   "execution_count": 46,
   "metadata": {},
   "outputs": [
    {
     "data": {
      "text/plain": [
       "(40977, 50)"
      ]
     },
     "execution_count": 46,
     "metadata": {},
     "output_type": "execute_result"
    }
   ],
   "source": [
    "# Vetorizando as 50 palavras com mais ocorrência da coluna \"review_comment_message\"\n",
    "vetorizar = CountVectorizer(max_features=50)\n",
    "bag_of_words = vetorizar.fit_transform(dataset['review_comment_message'])\n",
    "bag_of_words.shape"
   ]
  },
  {
   "cell_type": "code",
   "execution_count": 47,
   "metadata": {},
   "outputs": [
    {
     "name": "stdout",
     "output_type": "stream",
     "text": [
      "['ainda' 'antes' 'as' 'até' 'bem' 'bom' 'chegou' 'com' 'como' 'compra'\n",
      " 'comprei' 'da' 'de' 'dentro' 'do' 'em' 'entrega' 'entregue' 'estou' 'eu'\n",
      " 'excelente' 'foi' 'gostei' 'loja' 'mais' 'mas' 'me' 'meu' 'minha' 'muito'\n",
      " 'na' 'no' 'não' 'os' 'para' 'por' 'prazo' 'produto' 'qualidade' 'que'\n",
      " 'recebi' 'recomendo' 'rápida' 'super' 'só' 'tudo' 'um' 'uma' 'veio'\n",
      " 'ótimo']\n"
     ]
    }
   ],
   "source": [
    "# Visualização das 50 palavras com mais ocorrência\n",
    "print(vetorizar.get_feature_names_out())"
   ]
  },
  {
   "cell_type": "markdown",
   "metadata": {},
   "source": [
    "### 4.2. Modelo: LogisticRegression "
   ]
  },
  {
   "cell_type": "code",
   "execution_count": 16,
   "metadata": {},
   "outputs": [
    {
     "data": {
      "text/plain": [
       "1     8745\n",
       "2     2145\n",
       "3     3557\n",
       "4     5976\n",
       "5    20554\n",
       "Name: review_score, dtype: int64"
      ]
     },
     "execution_count": 16,
     "metadata": {},
     "output_type": "execute_result"
    }
   ],
   "source": [
    "# verificar a proporção do review score\n",
    "dataset.review_score.value_counts().sort_index()"
   ]
  },
  {
   "cell_type": "code",
   "execution_count": 50,
   "metadata": {},
   "outputs": [
    {
     "name": "stdout",
     "output_type": "stream",
     "text": [
      "f1_score:[0.7567944  0.75861866 0.75916878 0.7594724  0.76023611 0.76070996\n",
      " 0.76244324 0.76274105 0.77094021 0.77662594]\n",
      "Média: 0.7627750743117272\n",
      "Desvio Padrão: 0.005884688391941579\n"
     ]
    }
   ],
   "source": [
    "regressao_logistica = LogisticRegression(solver = \"saga\", multi_class='multinomial')\n",
    "scorer = make_scorer(f1_score, average = 'weighted')\n",
    "scores = cross_val_score(regressao_logistica, bag_of_words, dataset['sentiment_label'], cv=10, scoring=scorer)\n",
    "print(f'f1_score:{np.sort(scores)}')\n",
    "print(f'Média: {scores.mean()}')\n",
    "print(f'Desvio Padrão: {scores.std()}')"
   ]
  },
  {
   "cell_type": "markdown",
   "metadata": {},
   "source": [
    "#### 4.2.1. Matriz de confusão"
   ]
  },
  {
   "cell_type": "markdown",
   "metadata": {},
   "source": [
    "A matriz de confusão é a forma mais simples de analisar o desempenho de um algoritmo de classificação, sendo base para os cáculo das métricas dela derivadas.  "
   ]
  },
  {
   "cell_type": "code",
   "execution_count": 54,
   "metadata": {},
   "outputs": [
    {
     "data": {
      "image/png": "[encoded data removed]",
      "text/plain": [
       "<Figure size 432x288 with 2 Axes>"
      ]
     },
     "metadata": {
      "needs_background": "light"
     },
     "output_type": "display_data"
    },
    {
     "data": {
      "image/png": "[encoded data removed]",
      "text/plain": [
       "<Figure size 432x288 with 2 Axes>"
      ]
     },
     "metadata": {
      "needs_background": "light"
     },
     "output_type": "display_data"
    },
    {
     "data": {
      "image/png": "[encoded data removed]",
      "text/plain": [
       "<Figure size 432x288 with 2 Axes>"
      ]
     },
     "metadata": {
      "needs_background": "light"
     },
     "output_type": "display_data"
    }
   ],
   "source": [
    "X = bag_of_words\n",
    "y = dataset['sentiment_label'].map({-1: 'negativo', 0: 'neutro', 1: 'positivo'})\n",
    "\n",
    "# Cria 3 partições com os dados de disponíveis\n",
    "skf = StratifiedKFold(n_splits=3)\n",
    "skf.get_n_splits(X, y)\n",
    "i = 1\n",
    "\n",
    "for train_index, test_index in skf.split(X, y):\n",
    "    X_train, X_test = X[train_index], X[test_index]\n",
    "    y_train, y_test = y[train_index], y[test_index]\n",
    "\n",
    "    #Criação do modelo\n",
    "    regressao_logistica = LogisticRegression(solver = \"saga\", multi_class='multinomial')\n",
    "\n",
    "    regressao_logistica.fit(X_train, y_train)\n",
    "    y_true, y_pred = y_test, regressao_logistica.predict(X_test)\n",
    "    \n",
    "    conf_matrix = confusion_matrix(y_test, y_pred)\n",
    "\n",
    "    df_cm = pd.DataFrame(conf_matrix, index=['Negativo', 'Neutro', 'Positivo'], columns=['Negativo', 'Neutro', 'Positivo'])\n",
    "    plt.figure(i)\n",
    "    sns.heatmap(df_cm, annot=True, annot_kws={\"size\": 16}, cmap=\"Blues\", fmt='g')\n",
    "    i += i\n",
    "    "
   ]
  },
  {
   "cell_type": "markdown",
   "metadata": {},
   "source": [
    "#### 4.2.2. Precisão e Revocação"
   ]
  },
  {
   "cell_type": "markdown",
   "metadata": {},
   "source": [
    "A metrica precisão do classificador (precision_score) é a acurácia das previsões positivas. O melhor valor é 1 e o pior valor é 0.\n",
    "\n",
    "$$ precisão = \\frac {TP}{TP + FP} $$\n",
    "\n",
    "- TP: número de verdadeiros positivos\n",
    "- FP: número de falsos positivos\n",
    "\n",
    "A precisão é utilizada em conjunto com outra métrica chamada revocação (recall_score), também conhecida como sensibilidade ou taxa de verdadeiros positivos (TPR, do inglês): esta é a taxa de instâncias positivas que são corretamente detectadas pelo classificador.\n",
    "\n",
    "$$ revocacão = \\frac {TP}{TP + FN} $$\n",
    "\n",
    "- TP: número de verdadeiros positivos\n",
    "- FN: número de falsos negativos"
   ]
  },
  {
   "cell_type": "markdown",
   "metadata": {},
   "source": [
    "#### 4.2.3. Pontuação F1"
   ]
  },
  {
   "cell_type": "markdown",
   "metadata": {},
   "source": [
    "Uma forma simples de comparar dois classificadores é através da métrica chamada pontuação (F1). A pontuação F1 é a média harmônica da precisão e revocação. Enquanto a média regular trata igualmente todos os valores, a média harmônica dá muito mais peso aos valores mais baixos. Como resultado, o classificador só obterá uma pontuação F1 alta se a revocação e a precisão forem altas.\n",
    "\n",
    "$$F_1 = \\frac {2}{\\frac {1}{precisão} + \\frac {1}{revocacão}} = \\frac {precisão * revocacão} {precisão + revocacão} = \\frac {TP} {TP + \\frac {FN + FP} {2}} $$"
   ]
  },
  {
   "cell_type": "markdown",
   "metadata": {},
   "source": [
    "#### 4.2.4. Analise precisão, revocação e pontuação (f1) para cada classe:"
   ]
  },
  {
   "cell_type": "code",
   "execution_count": 52,
   "metadata": {},
   "outputs": [
    {
     "name": "stdout",
     "output_type": "stream",
     "text": [
      "f1_score: 0.7641533151796949\n",
      "              precision    recall  f1-score   support\n",
      "\n",
      "    negativo       0.73      0.72      0.72      3630\n",
      "      neutro       0.31      0.02      0.04      1185\n",
      "    positivo       0.83      0.94      0.88      8844\n",
      "\n",
      "    accuracy                           0.80     13659\n",
      "   macro avg       0.62      0.56      0.55     13659\n",
      "weighted avg       0.76      0.80      0.76     13659\n",
      "\n",
      "f1_score: 0.7647160778158226\n",
      "              precision    recall  f1-score   support\n",
      "\n",
      "    negativo       0.73      0.71      0.72      3630\n",
      "      neutro       0.30      0.02      0.03      1186\n",
      "    positivo       0.83      0.94      0.88      8843\n",
      "\n",
      "    accuracy                           0.80     13659\n",
      "   macro avg       0.62      0.56      0.55     13659\n",
      "weighted avg       0.76      0.80      0.76     13659\n",
      "\n",
      "f1_score: 0.7578329397156042\n",
      "              precision    recall  f1-score   support\n",
      "\n",
      "    negativo       0.72      0.70      0.71      3630\n",
      "      neutro       0.25      0.01      0.03      1186\n",
      "    positivo       0.82      0.94      0.88      8843\n",
      "\n",
      "    accuracy                           0.79     13659\n",
      "   macro avg       0.60      0.55      0.54     13659\n",
      "weighted avg       0.75      0.79      0.76     13659\n",
      "\n"
     ]
    }
   ],
   "source": [
    "# Definindo X e Y\n",
    "X = bag_of_words\n",
    "y = dataset['sentiment_label'].map({-1: 'negativo', 0: 'neutro', 1: 'positivo'})\n",
    "\n",
    "# Cria 3 partições com os dados de disponíveis\n",
    "skf = StratifiedKFold(n_splits=3)\n",
    "skf.get_n_splits(X, y)\n",
    "\n",
    "\n",
    "for train_index, test_index in skf.split(X, y):\n",
    "    X_train, X_test = X[train_index], X[test_index]\n",
    "    y_train, y_test = y[train_index], y[test_index]\n",
    "\n",
    "    #Criação do modelo\n",
    "    regressao_logistica = LogisticRegression(solver = \"saga\", multi_class='multinomial')\n",
    "\n",
    "    regressao_logistica.fit(X_train, y_train)\n",
    "    y_true, y_pred = y_test, regressao_logistica.predict(X_test)\n",
    "    score = f1_score(y_true, y_pred, average='weighted')\n",
    "    print(f'f1_score: {score}')\n",
    "    print(classification_report(y_true, y_pred))"
   ]
  },
  {
   "cell_type": "markdown",
   "metadata": {},
   "source": [
    "## 5. Estrutura do Pipeline de trasformação dos dados"
   ]
  },
  {
   "cell_type": "markdown",
   "metadata": {},
   "source": [
    "Será utilizado a classe Pipeline do Scikit Learn para executar uma preparação dos textos de cada comentário de forma automática, deixando pronto para treinamento e previsão do rótulo de sentimento. As etapas do pipeline são:\n",
    "\n",
    "- Remoção das expressões regulares: sabendo que os dados são fruto de comentários da internet, será necessário lidar com algumas expressões regulares. Iremos realizar o pré-processamento dos dados, substituído as expressões regulares por termos que as caracterizem de forma simples;\n",
    "\n",
    "- Remoção de StopWords: As stopwords são palavras que não apresentam relevância em determinado contexto e podem ser removidas sem perda semântica da frase;\n",
    "\n",
    "- Normalização dos comentários: pega os dados Unicode e tenta representá-los em caracteres ASCII (ou seja, os caracteres universalmente exibíveis entre 0x00 e 0x7F), onde os compromissos assumidos ao mapear entre dois conjuntos de caracteres são escolhidos para estar perto do que um humano com um teclado americano escolheria;\n",
    "\n",
    "- Stemming: Stemming é a técnica que transforma as flexões de uma palavra em um núcleo comum (tronco).  Essa técnica normaliza as palavras de forma a evitar suas flexões e derivações. Existem diversos algoritmos para realizar a “stemmização\", seja em Português, sejam em outros idiomas;\n",
    "\n",
    "- Extração de features: A extração de features de texto envolve resumir automaticamente o texto e encontrar palavras importantes. A extração de palavras poderá ser feita de duas formas:\n",
    "    - CountVectorizer: converte uma coleção de documentos de texto em uma matriz de contagens de token, ou seja, produz uma representação esparsa das contagens de frequência das palavras ao longo de todo o dataset;\n",
    "    - TF-IDF (Term Frequency-Inverse Document Frequency): é uma medida estatística que tem o intuito de indicar a importância de uma palavra de um documento em relação a uma coleção de documentos ou em um corpus linguístico.  O TF-IDF irá contar a frequência das palavras e atribui pesos as mesmas, ponderando-as em todo o dataset. Se uma palavra aparece muitas vezes, ela perde o poder de diferenciação, logo, possuirá um peso menor.\n",
    "\n",
    "\n",
    "Todas as etapas do Pipeline foram modularizadas no diretório utils para tornar o programa mais \"limpo\"."
   ]
  },
  {
   "cell_type": "code",
   "execution_count": null,
   "metadata": {},
   "outputs": [],
   "source": [
    "# Definindo todas as trafomações regex para serem aplicadas ao pipeline\n",
    "regex_transformers = {\n",
    "    'datas': re_dates,\n",
    "    'valores_dinheiro': re_money,\n",
    "    'numeros': re_numbers,\n",
    "    'negacoes': re_negation,\n",
    "    'caracteres_especiais': re_special_chars,\n",
    "    'espacos_branco': re_whitespaces\n",
    "}\n",
    "\n",
    "vectorizer = TfidfVectorizer(max_features=300) \n",
    "\n",
    "# Criando o Pipeline\n",
    "text_pipeline = Pipeline([\n",
    "    ('regex', RemoverRegex(regex_transformers)),\n",
    "    ('stopwords', RemoverStopwords(stopwords.words('portuguese'))),\n",
    "    ('normalization', ProcessoNormalizacao()),\n",
    "    ('stemming', ProcessoStemming(RSLPStemmer())),\n",
    "    ('text_features', ExtracaoFeatures(vectorizer))\n",
    "])"
   ]
  },
  {
   "cell_type": "code",
   "execution_count": null,
   "metadata": {},
   "outputs": [],
   "source": [
    "# Dfinido X e y \n",
    "comentarios = dataset['review_comment_message'].dropna().index\n",
    "score = dataset['review_score'][comentarios].map({1: 'negativo', 2: 'negativo', 3: 'neutro', 4: 'positivo', 5: 'positivo'})\n",
    "\n",
    "# Dfinido X e y \n",
    "X = list(dataset['review_comment_message'][comentarios].values)\n",
    "y = score.values\n",
    "\n",
    "# Aplicando o pipeline\n",
    "X_processed = text_pipeline.fit_transform(X)"
   ]
  },
  {
   "cell_type": "markdown",
   "metadata": {},
   "source": [
    "## 6. Extração de features"
   ]
  },
  {
   "cell_type": "markdown",
   "metadata": {},
   "source": [
    "### 6.1. CountVectorizer"
   ]
  },
  {
   "cell_type": "markdown",
   "metadata": {},
   "source": [
    "O CountVectorizer converte uma coleção de documentos de texto em uma matriz de contagens de token , ou seja, essa implementação produz uma representação esparsa das contagens de frequência das palavras ao longo de todo o dataset."
   ]
  },
  {
   "cell_type": "code",
   "execution_count": 42,
   "metadata": {},
   "outputs": [],
   "source": [
    "def print_classification_report_ngrams(vectorizer, ngram, nsplits, maxfeatures=None, mindf=1, maxdf=1.0):\n",
    "    regex_transformers = {\n",
    "        'datas': re_dates,\n",
    "        'valores_dinheiro': re_money,\n",
    "        'numeros': re_numbers,\n",
    "        'negacoes': re_negation,\n",
    "        'caracteres_especiais': re_special_chars,\n",
    "        'espacos_branco': re_whitespaces\n",
    "    }\n",
    "\n",
    "    vectorizer = vectorizer(max_features=300, ngram_range=ngram)\n",
    "\n",
    "    # Criando o Pipeline\n",
    "    text_pipeline = Pipeline([\n",
    "        ('regex', RemoverRegex(regex_transformers)),\n",
    "        ('stopwords', RemoverStopwords(stopwords.words('portuguese'))),\n",
    "        ('normalization', ProcessoNormalizacao()),\n",
    "        ('stemming', ProcessoStemming(RSLPStemmer())),\n",
    "        ('text_features', ExtracaoFeatures(vectorizer))\n",
    "    ])\n",
    "\n",
    "    # Dfinido X e y \n",
    "    comentarios = dataset['review_comment_message'].dropna().index\n",
    "    score = dataset['review_score'][comentarios].map({1: 'negativo', 2: 'negativo', 3: 'neutro', 4: 'positivo', 5: 'positivo'})\n",
    "\n",
    "    X = list(dataset['review_comment_message'][comentarios].values)\n",
    "    y = score.values\n",
    "\n",
    "    # Aplicando o pipeline\n",
    "    X_processed = text_pipeline.fit_transform(X)\n",
    "\n",
    "    # Cria 3 partições com os dados de disponíveis\n",
    "    skf = StratifiedKFold(n_splits=nsplits)\n",
    "    skf.get_n_splits(X_processed, y)\n",
    "\n",
    "\n",
    "    for train_index, test_index in skf.split(X_processed, y):\n",
    "        X_train, X_test = X_processed[train_index], X_processed[test_index]\n",
    "        y_train, y_test = y[train_index], y[test_index]\n",
    "\n",
    "        #Criação do modelo\n",
    "        regressao_logistica = LogisticRegression(solver = \"saga\", multi_class='multinomial', random_state=42, max_iter=200)\n",
    "\n",
    "        regressao_logistica.fit(X_train, y_train)\n",
    "        y_true, y_pred = y_test, regressao_logistica.predict(X_test)\n",
    "        score = f1_score(y_true, y_pred, average='weighted')\n",
    "        print(f'Score para n-grams {ngram}')\n",
    "        print(f'f1_score: {score}')\n",
    "        print(classification_report(y_true, y_pred))"
   ]
  },
  {
   "cell_type": "markdown",
   "metadata": {},
   "source": [
    "#### 6.1.1. N-grams"
   ]
  },
  {
   "cell_type": "code",
   "execution_count": 50,
   "metadata": {},
   "outputs": [
    {
     "name": "stdout",
     "output_type": "stream",
     "text": [
      "Score para n-grams (1, 1)\n",
      "f1_score: 0.8103191701205052\n",
      "              precision    recall  f1-score   support\n",
      "\n",
      "    negativo       0.77      0.83      0.80      2178\n",
      "      neutro       0.30      0.05      0.09       712\n",
      "    positivo       0.88      0.95      0.91      5306\n",
      "\n",
      "    accuracy                           0.84      8196\n",
      "   macro avg       0.65      0.61      0.60      8196\n",
      "weighted avg       0.80      0.84      0.81      8196\n",
      "\n",
      "Score para n-grams (1, 1)\n",
      "f1_score: 0.8113515397535156\n",
      "              precision    recall  f1-score   support\n",
      "\n",
      "    negativo       0.77      0.83      0.80      2178\n",
      "      neutro       0.28      0.05      0.09       712\n",
      "    positivo       0.88      0.95      0.91      5306\n",
      "\n",
      "    accuracy                           0.84      8196\n",
      "   macro avg       0.64      0.61      0.60      8196\n",
      "weighted avg       0.80      0.84      0.81      8196\n",
      "\n",
      "Score para n-grams (1, 1)\n",
      "f1_score: 0.807308490271284\n",
      "              precision    recall  f1-score   support\n",
      "\n",
      "    negativo       0.76      0.83      0.79      2178\n",
      "      neutro       0.29      0.05      0.09       711\n",
      "    positivo       0.88      0.94      0.91      5306\n",
      "\n",
      "    accuracy                           0.84      8195\n",
      "   macro avg       0.64      0.61      0.60      8195\n",
      "weighted avg       0.80      0.84      0.81      8195\n",
      "\n"
     ]
    },
    {
     "name": "stderr",
     "output_type": "stream",
     "text": [
      "c:\\Users\\Brothers\\anaconda3\\lib\\site-packages\\sklearn\\linear_model\\_sag.py:352: ConvergenceWarning: The max_iter was reached which means the coef_ did not converge\n",
      "  warnings.warn(\n"
     ]
    },
    {
     "name": "stdout",
     "output_type": "stream",
     "text": [
      "Score para n-grams (1, 1)\n",
      "f1_score: 0.8053901199363199\n",
      "              precision    recall  f1-score   support\n",
      "\n",
      "    negativo       0.77      0.81      0.79      2178\n",
      "      neutro       0.30      0.05      0.09       711\n",
      "    positivo       0.87      0.95      0.91      5306\n",
      "\n",
      "    accuracy                           0.83      8195\n",
      "   macro avg       0.65      0.60      0.59      8195\n",
      "weighted avg       0.79      0.83      0.81      8195\n",
      "\n",
      "Score para n-grams (1, 1)\n",
      "f1_score: 0.8082811865867747\n",
      "              precision    recall  f1-score   support\n",
      "\n",
      "    negativo       0.75      0.84      0.79      2178\n",
      "      neutro       0.26      0.06      0.09       711\n",
      "    positivo       0.89      0.94      0.91      5306\n",
      "\n",
      "    accuracy                           0.83      8195\n",
      "   macro avg       0.63      0.61      0.60      8195\n",
      "weighted avg       0.80      0.83      0.81      8195\n",
      "\n"
     ]
    }
   ],
   "source": [
    "print_classification_report_ngrams(CountVectorizer, ngram=(1,1), nsplits=5)"
   ]
  },
  {
   "cell_type": "code",
   "execution_count": 49,
   "metadata": {},
   "outputs": [
    {
     "name": "stdout",
     "output_type": "stream",
     "text": [
      "Score para n-grams (2, 2)\n",
      "f1_score: 0.7604942606801933\n",
      "              precision    recall  f1-score   support\n",
      "\n",
      "    negativo       0.77      0.66      0.71      2178\n",
      "      neutro       0.29      0.02      0.03       712\n",
      "    positivo       0.81      0.96      0.88      5306\n",
      "\n",
      "    accuracy                           0.80      8196\n",
      "   macro avg       0.62      0.54      0.54      8196\n",
      "weighted avg       0.75      0.80      0.76      8196\n",
      "\n",
      "Score para n-grams (2, 2)\n",
      "f1_score: 0.7687174574326897\n",
      "              precision    recall  f1-score   support\n",
      "\n",
      "    negativo       0.78      0.69      0.73      2178\n",
      "      neutro       0.29      0.01      0.03       712\n",
      "    positivo       0.82      0.96      0.88      5306\n",
      "\n",
      "    accuracy                           0.81      8196\n",
      "   macro avg       0.63      0.55      0.55      8196\n",
      "weighted avg       0.76      0.81      0.77      8196\n",
      "\n",
      "Score para n-grams (2, 2)\n",
      "f1_score: 0.7730275831930157\n",
      "              precision    recall  f1-score   support\n",
      "\n",
      "    negativo       0.78      0.69      0.74      2178\n",
      "      neutro       0.50      0.03      0.05       711\n",
      "    positivo       0.82      0.96      0.88      5306\n",
      "\n",
      "    accuracy                           0.81      8195\n",
      "   macro avg       0.70      0.56      0.56      8195\n",
      "weighted avg       0.78      0.81      0.77      8195\n",
      "\n",
      "Score para n-grams (2, 2)\n",
      "f1_score: 0.7682939818545679\n",
      "              precision    recall  f1-score   support\n",
      "\n",
      "    negativo       0.78      0.69      0.73      2178\n",
      "      neutro       0.33      0.01      0.02       711\n",
      "    positivo       0.82      0.96      0.88      5306\n",
      "\n",
      "    accuracy                           0.81      8195\n",
      "   macro avg       0.64      0.55      0.55      8195\n",
      "weighted avg       0.76      0.81      0.77      8195\n",
      "\n",
      "Score para n-grams (2, 2)\n",
      "f1_score: 0.763327302769285\n",
      "              precision    recall  f1-score   support\n",
      "\n",
      "    negativo       0.77      0.67      0.72      2178\n",
      "      neutro       0.16      0.01      0.02       711\n",
      "    positivo       0.81      0.96      0.88      5306\n",
      "\n",
      "    accuracy                           0.80      8195\n",
      "   macro avg       0.58      0.55      0.54      8195\n",
      "weighted avg       0.75      0.80      0.76      8195\n",
      "\n"
     ]
    }
   ],
   "source": [
    "print_classification_report_ngrams(CountVectorizer, ngram=(2,2), nsplits=5)"
   ]
  },
  {
   "cell_type": "code",
   "execution_count": 45,
   "metadata": {},
   "outputs": [
    {
     "name": "stderr",
     "output_type": "stream",
     "text": [
      "c:\\Users\\Brothers\\anaconda3\\lib\\site-packages\\sklearn\\linear_model\\_sag.py:352: ConvergenceWarning: The max_iter was reached which means the coef_ did not converge\n",
      "  warnings.warn(\n"
     ]
    },
    {
     "name": "stdout",
     "output_type": "stream",
     "text": [
      "Score para n-grams (2, 3)\n",
      "f1_score: 0.7562545619784365\n",
      "              precision    recall  f1-score   support\n",
      "\n",
      "    negativo       0.78      0.64      0.70      2178\n",
      "      neutro       0.31      0.02      0.03       712\n",
      "    positivo       0.80      0.96      0.88      5306\n",
      "\n",
      "    accuracy                           0.80      8196\n",
      "   macro avg       0.63      0.54      0.54      8196\n",
      "weighted avg       0.75      0.80      0.76      8196\n",
      "\n"
     ]
    },
    {
     "name": "stderr",
     "output_type": "stream",
     "text": [
      "c:\\Users\\Brothers\\anaconda3\\lib\\site-packages\\sklearn\\linear_model\\_sag.py:352: ConvergenceWarning: The max_iter was reached which means the coef_ did not converge\n",
      "  warnings.warn(\n"
     ]
    },
    {
     "name": "stdout",
     "output_type": "stream",
     "text": [
      "Score para n-grams (2, 3)\n",
      "f1_score: 0.7638448941495983\n",
      "              precision    recall  f1-score   support\n",
      "\n",
      "    negativo       0.78      0.67      0.72      2178\n",
      "      neutro       0.31      0.01      0.02       712\n",
      "    positivo       0.81      0.96      0.88      5306\n",
      "\n",
      "    accuracy                           0.80      8196\n",
      "   macro avg       0.63      0.55      0.54      8196\n",
      "weighted avg       0.76      0.80      0.76      8196\n",
      "\n"
     ]
    },
    {
     "name": "stderr",
     "output_type": "stream",
     "text": [
      "c:\\Users\\Brothers\\anaconda3\\lib\\site-packages\\sklearn\\linear_model\\_sag.py:352: ConvergenceWarning: The max_iter was reached which means the coef_ did not converge\n",
      "  warnings.warn(\n"
     ]
    },
    {
     "name": "stdout",
     "output_type": "stream",
     "text": [
      "Score para n-grams (2, 3)\n",
      "f1_score: 0.7640853153310843\n",
      "              precision    recall  f1-score   support\n",
      "\n",
      "    negativo       0.78      0.67      0.72      2178\n",
      "      neutro       0.32      0.01      0.02       711\n",
      "    positivo       0.81      0.96      0.88      5306\n",
      "\n",
      "    accuracy                           0.80      8195\n",
      "   macro avg       0.64      0.55      0.54      8195\n",
      "weighted avg       0.76      0.80      0.76      8195\n",
      "\n"
     ]
    },
    {
     "name": "stderr",
     "output_type": "stream",
     "text": [
      "c:\\Users\\Brothers\\anaconda3\\lib\\site-packages\\sklearn\\linear_model\\_sag.py:352: ConvergenceWarning: The max_iter was reached which means the coef_ did not converge\n",
      "  warnings.warn(\n"
     ]
    },
    {
     "name": "stdout",
     "output_type": "stream",
     "text": [
      "Score para n-grams (2, 3)\n",
      "f1_score: 0.7617759109680996\n",
      "              precision    recall  f1-score   support\n",
      "\n",
      "    negativo       0.78      0.66      0.72      2178\n",
      "      neutro       0.42      0.01      0.02       711\n",
      "    positivo       0.81      0.96      0.88      5306\n",
      "\n",
      "    accuracy                           0.80      8195\n",
      "   macro avg       0.67      0.55      0.54      8195\n",
      "weighted avg       0.77      0.80      0.76      8195\n",
      "\n",
      "Score para n-grams (2, 3)\n",
      "f1_score: 0.7587756540102649\n",
      "              precision    recall  f1-score   support\n",
      "\n",
      "    negativo       0.77      0.66      0.71      2178\n",
      "      neutro       0.18      0.01      0.02       711\n",
      "    positivo       0.81      0.96      0.88      5306\n",
      "\n",
      "    accuracy                           0.80      8195\n",
      "   macro avg       0.59      0.54      0.53      8195\n",
      "weighted avg       0.74      0.80      0.76      8195\n",
      "\n"
     ]
    }
   ],
   "source": [
    "print_classification_report_ngrams(CountVectorizer, ngram=(2,3), nsplits=5)"
   ]
  },
  {
   "cell_type": "markdown",
   "metadata": {},
   "source": [
    "Para todos os testes de n-grams utilizando o CountVectorizer obtivemos erros de convergência. Além disso, as métricas precision (presicão), recall (revocação) e f1-score não foram muito animadoras. Então vamos testar um método mais complexo onde leva em consideração a frequência das palavras e atribui um pesos para as mesmas.\n"
   ]
  },
  {
   "cell_type": "markdown",
   "metadata": {},
   "source": [
    "### 6.2. TfidfVectorizer"
   ]
  },
  {
   "cell_type": "markdown",
   "metadata": {},
   "source": [
    "O valor TF-IDF (Term Frequency-Inverse Document Frequency), é uma medida estatística que tem o intuito de indicar a importância de uma palavra de um documento em relação a uma coleção de documentos ou em um corpus linguístico.  O TF-IDF irá contar a frequência das palavras e atribui pesos as mesmas, ponderando-as em todo o dataset. Se uma palavra aparece muitas vezes, ela perde o poder de diferenciação, logo, possuirá um peso menor.\n",
    "\n",
    "\n",
    "$$TF=\\frac{\\text{Frequency of a word in the document}}{\\text{Total words in the document}}$$\n",
    "\n",
    "$$IDF = \\log\\left({\\frac{\\text{Total number of docs}}{\\text{Number of docs containing the words}}}\\right)$$"
   ]
  },
  {
   "cell_type": "markdown",
   "metadata": {},
   "source": [
    "#### 6.2.1. N-grams"
   ]
  },
  {
   "cell_type": "markdown",
   "metadata": {},
   "source": [
    "Os modelos que estávamos utilizando até agora não gera um valor que preserve a sequência de palavras. O N-grams considera essencialmente uma sequência de palavras que aparecem na mesma \"janela\" ao mesmo tempo. Iremos testar modelos que com a utilização de N-grams:"
   ]
  },
  {
   "cell_type": "code",
   "execution_count": 46,
   "metadata": {},
   "outputs": [
    {
     "name": "stdout",
     "output_type": "stream",
     "text": [
      "Score para n-grams (1, 1)\n",
      "f1_score: 0.8094779032328606\n",
      "              precision    recall  f1-score   support\n",
      "\n",
      "    negativo       0.75      0.85      0.80      2178\n",
      "      neutro       0.37      0.04      0.07       712\n",
      "    positivo       0.89      0.94      0.91      5306\n",
      "\n",
      "    accuracy                           0.84      8196\n",
      "   macro avg       0.67      0.61      0.59      8196\n",
      "weighted avg       0.80      0.84      0.81      8196\n",
      "\n",
      "Score para n-grams (1, 1)\n",
      "f1_score: 0.8138966260046941\n",
      "              precision    recall  f1-score   support\n",
      "\n",
      "    negativo       0.76      0.87      0.81      2178\n",
      "      neutro       0.34      0.04      0.07       712\n",
      "    positivo       0.89      0.94      0.91      5306\n",
      "\n",
      "    accuracy                           0.84      8196\n",
      "   macro avg       0.66      0.62      0.60      8196\n",
      "weighted avg       0.81      0.84      0.81      8196\n",
      "\n",
      "Score para n-grams (1, 1)\n",
      "f1_score: 0.8101244733499022\n",
      "              precision    recall  f1-score   support\n",
      "\n",
      "    negativo       0.74      0.86      0.80      2178\n",
      "      neutro       0.39      0.05      0.09       711\n",
      "    positivo       0.89      0.93      0.91      5306\n",
      "\n",
      "    accuracy                           0.84      8195\n",
      "   macro avg       0.67      0.62      0.60      8195\n",
      "weighted avg       0.81      0.84      0.81      8195\n",
      "\n",
      "Score para n-grams (1, 1)\n",
      "f1_score: 0.8105479454267487\n",
      "              precision    recall  f1-score   support\n",
      "\n",
      "    negativo       0.75      0.85      0.80      2178\n",
      "      neutro       0.34      0.05      0.09       711\n",
      "    positivo       0.89      0.94      0.91      5306\n",
      "\n",
      "    accuracy                           0.84      8195\n",
      "   macro avg       0.66      0.61      0.60      8195\n",
      "weighted avg       0.80      0.84      0.81      8195\n",
      "\n",
      "Score para n-grams (1, 1)\n",
      "f1_score: 0.807414910978316\n",
      "              precision    recall  f1-score   support\n",
      "\n",
      "    negativo       0.74      0.86      0.79      2178\n",
      "      neutro       0.28      0.05      0.08       711\n",
      "    positivo       0.89      0.93      0.91      5306\n",
      "\n",
      "    accuracy                           0.83      8195\n",
      "   macro avg       0.64      0.61      0.60      8195\n",
      "weighted avg       0.80      0.83      0.81      8195\n",
      "\n"
     ]
    }
   ],
   "source": [
    "print_classification_report_ngrams(TfidfVectorizer, ngram=(1,1), nsplits=5)"
   ]
  },
  {
   "cell_type": "code",
   "execution_count": 47,
   "metadata": {},
   "outputs": [
    {
     "name": "stdout",
     "output_type": "stream",
     "text": [
      "Score para n-grams (2, 2)\n",
      "f1_score: 0.7671277973494347\n",
      "              precision    recall  f1-score   support\n",
      "\n",
      "    negativo       0.77      0.70      0.73      2178\n",
      "      neutro       0.39      0.01      0.02       712\n",
      "    positivo       0.82      0.96      0.88      5306\n",
      "\n",
      "    accuracy                           0.81      8196\n",
      "   macro avg       0.66      0.55      0.54      8196\n",
      "weighted avg       0.77      0.81      0.77      8196\n",
      "\n",
      "Score para n-grams (2, 2)\n",
      "f1_score: 0.7730944971690533\n",
      "              precision    recall  f1-score   support\n",
      "\n",
      "    negativo       0.76      0.72      0.74      2178\n",
      "      neutro       0.44      0.01      0.02       712\n",
      "    positivo       0.83      0.96      0.89      5306\n",
      "\n",
      "    accuracy                           0.81      8196\n",
      "   macro avg       0.68      0.56      0.55      8196\n",
      "weighted avg       0.78      0.81      0.77      8196\n",
      "\n",
      "Score para n-grams (2, 2)\n",
      "f1_score: 0.7731951377091065\n",
      "              precision    recall  f1-score   support\n",
      "\n",
      "    negativo       0.77      0.72      0.74      2178\n",
      "      neutro       0.44      0.01      0.02       711\n",
      "    positivo       0.83      0.95      0.89      5306\n",
      "\n",
      "    accuracy                           0.81      8195\n",
      "   macro avg       0.68      0.56      0.55      8195\n",
      "weighted avg       0.78      0.81      0.77      8195\n",
      "\n",
      "Score para n-grams (2, 2)\n",
      "f1_score: 0.7711748292338318\n",
      "              precision    recall  f1-score   support\n",
      "\n",
      "    negativo       0.76      0.72      0.74      2178\n",
      "      neutro       0.55      0.01      0.02       711\n",
      "    positivo       0.83      0.95      0.89      5306\n",
      "\n",
      "    accuracy                           0.81      8195\n",
      "   macro avg       0.71      0.56      0.55      8195\n",
      "weighted avg       0.78      0.81      0.77      8195\n",
      "\n",
      "Score para n-grams (2, 2)\n",
      "f1_score: 0.7682788354720422\n",
      "              precision    recall  f1-score   support\n",
      "\n",
      "    negativo       0.75      0.71      0.73      2178\n",
      "      neutro       0.18      0.00      0.01       711\n",
      "    positivo       0.83      0.95      0.88      5306\n",
      "\n",
      "    accuracy                           0.81      8195\n",
      "   macro avg       0.59      0.56      0.54      8195\n",
      "weighted avg       0.75      0.81      0.77      8195\n",
      "\n"
     ]
    }
   ],
   "source": [
    "print_classification_report_ngrams(TfidfVectorizer, ngram=(2, 2), nsplits=5)"
   ]
  },
  {
   "cell_type": "code",
   "execution_count": 48,
   "metadata": {},
   "outputs": [
    {
     "name": "stdout",
     "output_type": "stream",
     "text": [
      "Score para n-grams (2, 3)\n",
      "f1_score: 0.7621023947165763\n",
      "              precision    recall  f1-score   support\n",
      "\n",
      "    negativo       0.77      0.68      0.72      2178\n",
      "      neutro       0.39      0.01      0.02       712\n",
      "    positivo       0.81      0.96      0.88      5306\n",
      "\n",
      "    accuracy                           0.80      8196\n",
      "   macro avg       0.66      0.55      0.54      8196\n",
      "weighted avg       0.76      0.80      0.76      8196\n",
      "\n",
      "Score para n-grams (2, 3)\n",
      "f1_score: 0.7678997903656416\n",
      "              precision    recall  f1-score   support\n",
      "\n",
      "    negativo       0.76      0.70      0.73      2178\n",
      "      neutro       0.56      0.01      0.01       712\n",
      "    positivo       0.82      0.96      0.88      5306\n",
      "\n",
      "    accuracy                           0.81      8196\n",
      "   macro avg       0.71      0.56      0.54      8196\n",
      "weighted avg       0.78      0.81      0.77      8196\n",
      "\n",
      "Score para n-grams (2, 3)\n",
      "f1_score: 0.7674576555812515\n",
      "              precision    recall  f1-score   support\n",
      "\n",
      "    negativo       0.76      0.70      0.73      2178\n",
      "      neutro       0.64      0.01      0.02       711\n",
      "    positivo       0.82      0.95      0.88      5306\n",
      "\n",
      "    accuracy                           0.81      8195\n",
      "   macro avg       0.74      0.56      0.55      8195\n",
      "weighted avg       0.79      0.81      0.77      8195\n",
      "\n",
      "Score para n-grams (2, 3)\n",
      "f1_score: 0.7639291672202315\n",
      "              precision    recall  f1-score   support\n",
      "\n",
      "    negativo       0.76      0.70      0.73      2178\n",
      "      neutro       0.44      0.01      0.01       711\n",
      "    positivo       0.82      0.95      0.88      5306\n",
      "\n",
      "    accuracy                           0.80      8195\n",
      "   macro avg       0.67      0.55      0.54      8195\n",
      "weighted avg       0.77      0.80      0.76      8195\n",
      "\n",
      "Score para n-grams (2, 3)\n",
      "f1_score: 0.7618716072338343\n",
      "              precision    recall  f1-score   support\n",
      "\n",
      "    negativo       0.75      0.69      0.72      2178\n",
      "      neutro       0.13      0.00      0.01       711\n",
      "    positivo       0.82      0.95      0.88      5306\n",
      "\n",
      "    accuracy                           0.80      8195\n",
      "   macro avg       0.57      0.55      0.54      8195\n",
      "weighted avg       0.74      0.80      0.76      8195\n",
      "\n"
     ]
    }
   ],
   "source": [
    "print_classification_report_ngrams(TfidfVectorizer, ngram=(2, 3), nsplits=5)"
   ]
  },
  {
   "cell_type": "markdown",
   "metadata": {},
   "source": [
    "Dentre os valores de n-grams testados anteriormente para o TfidfVectorizer, o único que será testado será Uni-gram (1,1), pois foi o que obtive o melhor f1-score para classificação da classe 'neutro'. Os demais n-grams até obtiveram valores interessante de precisão (precision), mas a revocação (recall) foram 0 ou 0.01."
   ]
  },
  {
   "cell_type": "markdown",
   "metadata": {},
   "source": [
    "#### 6.2.2. Analisando o max_features, min_df e max_df para Unigrams (ngram_range = (1,1))"
   ]
  },
  {
   "cell_type": "markdown",
   "metadata": {},
   "source": [
    "- max_features: O hiperparâmetro considera apenas as principais features (palavras ou conjunto de palavras) ordenados por frequência de termo em todo o corpus.\n",
    "- min_df: O hiperparâmetro define um limite para ignorar os termos que tenham uma frequência de documento estritamente inferior ao limite fornecido.\n",
    "- max_df: O hiperparâmetro define um limite para ignorar os termos que têm uma frequência de documento estritamente superior ao limite determinado."
   ]
  },
  {
   "cell_type": "code",
   "execution_count": 22,
   "metadata": {},
   "outputs": [],
   "source": [
    "# Dfinido X e y \n",
    "comentarios = dataset['review_comment_message'].dropna().index\n",
    "score = dataset['review_score'][comentarios].map({1: 'negativo', 2: 'negativo', 3: 'neutro', 4: 'positivo', 5: 'positivo'})\n",
    "\n",
    "# Dfinido X e y \n",
    "X = list(dataset['review_comment_message'][comentarios].values)\n",
    "y = score.values\n",
    "\n",
    "regex_transformers = {\n",
    "    'datas': re_dates,\n",
    "    'valores_dinheiro': re_money,\n",
    "    'numeros': re_numbers,\n",
    "    'negacoes': re_negation,\n",
    "    'caracteres_especiais': re_special_chars,\n",
    "    'espacos_branco': re_whitespaces\n",
    "}\n",
    "\n",
    "# Criando o Pipeline\n",
    "text_pipeline = Pipeline([\n",
    "    ('regex', RemoverRegex(regex_transformers)),\n",
    "    ('stopwords', RemoverStopwords(stopwords.words('portuguese'))),\n",
    "    ('normalization', ProcessoNormalizacao()),\n",
    "    ('stemming', ProcessoStemming(RSLPStemmer()))\n",
    "    ])\n",
    "\n",
    "# Aplicando o pipeline\n",
    "X_processed = text_pipeline.fit_transform(X)"
   ]
  },
  {
   "cell_type": "code",
   "execution_count": 23,
   "metadata": {},
   "outputs": [],
   "source": [
    "# Função para verificar a acuracia dos melhores valores de hiperparamentros\n",
    "def hiperparamentros_tfidfVectorizer(X_processed, y, max_features, min_df, max_df, ngram=(1, 1)):\n",
    "    col=['max_features', 'min_df', 'max_df', 'f1_score']\n",
    "    list = []\n",
    "    scorer = make_scorer(f1_score, average = 'weighted')\n",
    "    for maxfeatures in max_features:\n",
    "        for mindf in min_df:\n",
    "            for maxdf in max_df:\n",
    "                vectorizer = TfidfVectorizer(max_features=maxfeatures, min_df=mindf, max_df=maxdf, ngram_range=ngram)\n",
    "\n",
    "                X = vectorizer.fit_transform(X_processed)\n",
    "\n",
    "                #Criação do modelo\n",
    "                regressao_logistica = LogisticRegression(solver = \"saga\", multi_class='multinomial', random_state=42)\n",
    "\n",
    "                #aplicando a validação cruzada\n",
    "                score = np.mean(cross_val_score(regressao_logistica, X, y, scoring=scorer, cv=StratifiedKFold(n_splits=5)))\n",
    "                list.append([maxfeatures, mindf, maxdf, score])\n",
    "    return pd.DataFrame(list, columns=col).sort_values('f1_score', ascending=False).reset_index(drop=True)"
   ]
  },
  {
   "cell_type": "code",
   "execution_count": 25,
   "metadata": {},
   "outputs": [
    {
     "data": {
      "text/html": [
       "<div>\n",
       "<style scoped>\n",
       "    .dataframe tbody tr th:only-of-type {\n",
       "        vertical-align: middle;\n",
       "    }\n",
       "\n",
       "    .dataframe tbody tr th {\n",
       "        vertical-align: top;\n",
       "    }\n",
       "\n",
       "    .dataframe thead th {\n",
       "        text-align: right;\n",
       "    }\n",
       "</style>\n",
       "<table border=\"1\" class=\"dataframe\">\n",
       "  <thead>\n",
       "    <tr style=\"text-align: right;\">\n",
       "      <th></th>\n",
       "      <th>max_features</th>\n",
       "      <th>min_df</th>\n",
       "      <th>max_df</th>\n",
       "      <th>f1_score</th>\n",
       "    </tr>\n",
       "  </thead>\n",
       "  <tbody>\n",
       "    <tr>\n",
       "      <th>0</th>\n",
       "      <td>300</td>\n",
       "      <td>0.05</td>\n",
       "      <td>0.80</td>\n",
       "      <td>0.757767</td>\n",
       "    </tr>\n",
       "    <tr>\n",
       "      <th>1</th>\n",
       "      <td>300</td>\n",
       "      <td>0.05</td>\n",
       "      <td>0.90</td>\n",
       "      <td>0.757767</td>\n",
       "    </tr>\n",
       "    <tr>\n",
       "      <th>2</th>\n",
       "      <td>300</td>\n",
       "      <td>0.05</td>\n",
       "      <td>0.95</td>\n",
       "      <td>0.757767</td>\n",
       "    </tr>\n",
       "    <tr>\n",
       "      <th>3</th>\n",
       "      <td>500</td>\n",
       "      <td>0.05</td>\n",
       "      <td>0.95</td>\n",
       "      <td>0.757767</td>\n",
       "    </tr>\n",
       "    <tr>\n",
       "      <th>4</th>\n",
       "      <td>500</td>\n",
       "      <td>0.05</td>\n",
       "      <td>0.90</td>\n",
       "      <td>0.757767</td>\n",
       "    </tr>\n",
       "    <tr>\n",
       "      <th>5</th>\n",
       "      <td>500</td>\n",
       "      <td>0.05</td>\n",
       "      <td>0.80</td>\n",
       "      <td>0.757767</td>\n",
       "    </tr>\n",
       "    <tr>\n",
       "      <th>6</th>\n",
       "      <td>400</td>\n",
       "      <td>0.05</td>\n",
       "      <td>0.80</td>\n",
       "      <td>0.757767</td>\n",
       "    </tr>\n",
       "    <tr>\n",
       "      <th>7</th>\n",
       "      <td>400</td>\n",
       "      <td>0.05</td>\n",
       "      <td>0.90</td>\n",
       "      <td>0.757767</td>\n",
       "    </tr>\n",
       "    <tr>\n",
       "      <th>8</th>\n",
       "      <td>400</td>\n",
       "      <td>0.05</td>\n",
       "      <td>0.95</td>\n",
       "      <td>0.757767</td>\n",
       "    </tr>\n",
       "    <tr>\n",
       "      <th>9</th>\n",
       "      <td>500</td>\n",
       "      <td>0.20</td>\n",
       "      <td>0.95</td>\n",
       "      <td>0.713766</td>\n",
       "    </tr>\n",
       "  </tbody>\n",
       "</table>\n",
       "</div>"
      ],
      "text/plain": [
       "   max_features  min_df  max_df  f1_score\n",
       "0           300    0.05    0.80  0.757767\n",
       "1           300    0.05    0.90  0.757767\n",
       "2           300    0.05    0.95  0.757767\n",
       "3           500    0.05    0.95  0.757767\n",
       "4           500    0.05    0.90  0.757767\n",
       "5           500    0.05    0.80  0.757767\n",
       "6           400    0.05    0.80  0.757767\n",
       "7           400    0.05    0.90  0.757767\n",
       "8           400    0.05    0.95  0.757767\n",
       "9           500    0.20    0.95  0.713766"
      ]
     },
     "execution_count": 25,
     "metadata": {},
     "output_type": "execute_result"
    }
   ],
   "source": [
    "max_features = [300, 400, 500]\n",
    "min_df = [0.05, 0.2, 0.3]\n",
    "max_df = [0.8, 0.9, 0.95]\n",
    "\n",
    "df_score = hiperparamentros_tfidfVectorizer(X_processed, y, max_features, min_df, max_df)\n",
    "df_score.head(10)"
   ]
  },
  {
   "cell_type": "markdown",
   "metadata": {},
   "source": [
    "É possível perceber que para os dez maiores valores de score calculado são para o min_df igual a 0.05, independente das variações dos outros hiperparâmetros. Então, vamos reajustar o valor de min_df e calcular novamente os valores de acurácia."
   ]
  },
  {
   "cell_type": "code",
   "execution_count": 26,
   "metadata": {},
   "outputs": [
    {
     "data": {
      "text/html": [
       "<div>\n",
       "<style scoped>\n",
       "    .dataframe tbody tr th:only-of-type {\n",
       "        vertical-align: middle;\n",
       "    }\n",
       "\n",
       "    .dataframe tbody tr th {\n",
       "        vertical-align: top;\n",
       "    }\n",
       "\n",
       "    .dataframe thead th {\n",
       "        text-align: right;\n",
       "    }\n",
       "</style>\n",
       "<table border=\"1\" class=\"dataframe\">\n",
       "  <thead>\n",
       "    <tr style=\"text-align: right;\">\n",
       "      <th></th>\n",
       "      <th>max_features</th>\n",
       "      <th>min_df</th>\n",
       "      <th>max_df</th>\n",
       "      <th>f1_score</th>\n",
       "    </tr>\n",
       "  </thead>\n",
       "  <tbody>\n",
       "    <tr>\n",
       "      <th>0</th>\n",
       "      <td>500</td>\n",
       "      <td>0.001</td>\n",
       "      <td>0.7</td>\n",
       "      <td>0.814828</td>\n",
       "    </tr>\n",
       "    <tr>\n",
       "      <th>1</th>\n",
       "      <td>500</td>\n",
       "      <td>0.000</td>\n",
       "      <td>0.9</td>\n",
       "      <td>0.814828</td>\n",
       "    </tr>\n",
       "    <tr>\n",
       "      <th>2</th>\n",
       "      <td>500</td>\n",
       "      <td>0.000</td>\n",
       "      <td>0.7</td>\n",
       "      <td>0.814828</td>\n",
       "    </tr>\n",
       "    <tr>\n",
       "      <th>3</th>\n",
       "      <td>500</td>\n",
       "      <td>0.001</td>\n",
       "      <td>0.9</td>\n",
       "      <td>0.814828</td>\n",
       "    </tr>\n",
       "    <tr>\n",
       "      <th>4</th>\n",
       "      <td>500</td>\n",
       "      <td>0.001</td>\n",
       "      <td>0.8</td>\n",
       "      <td>0.814828</td>\n",
       "    </tr>\n",
       "    <tr>\n",
       "      <th>5</th>\n",
       "      <td>500</td>\n",
       "      <td>0.000</td>\n",
       "      <td>0.8</td>\n",
       "      <td>0.814828</td>\n",
       "    </tr>\n",
       "    <tr>\n",
       "      <th>6</th>\n",
       "      <td>400</td>\n",
       "      <td>0.000</td>\n",
       "      <td>0.9</td>\n",
       "      <td>0.812673</td>\n",
       "    </tr>\n",
       "    <tr>\n",
       "      <th>7</th>\n",
       "      <td>400</td>\n",
       "      <td>0.000</td>\n",
       "      <td>0.8</td>\n",
       "      <td>0.812673</td>\n",
       "    </tr>\n",
       "    <tr>\n",
       "      <th>8</th>\n",
       "      <td>400</td>\n",
       "      <td>0.000</td>\n",
       "      <td>0.7</td>\n",
       "      <td>0.812673</td>\n",
       "    </tr>\n",
       "    <tr>\n",
       "      <th>9</th>\n",
       "      <td>400</td>\n",
       "      <td>0.001</td>\n",
       "      <td>0.9</td>\n",
       "      <td>0.812613</td>\n",
       "    </tr>\n",
       "  </tbody>\n",
       "</table>\n",
       "</div>"
      ],
      "text/plain": [
       "   max_features  min_df  max_df  f1_score\n",
       "0           500   0.001     0.7  0.814828\n",
       "1           500   0.000     0.9  0.814828\n",
       "2           500   0.000     0.7  0.814828\n",
       "3           500   0.001     0.9  0.814828\n",
       "4           500   0.001     0.8  0.814828\n",
       "5           500   0.000     0.8  0.814828\n",
       "6           400   0.000     0.9  0.812673\n",
       "7           400   0.000     0.8  0.812673\n",
       "8           400   0.000     0.7  0.812673\n",
       "9           400   0.001     0.9  0.812613"
      ]
     },
     "execution_count": 26,
     "metadata": {},
     "output_type": "execute_result"
    }
   ],
   "source": [
    "max_features = [300, 400, 500]\n",
    "min_df = [0, 0.001, 0.005, 0.01, 0.05]\n",
    "max_df = [0.7, 0.8, 0.9]\n",
    "\n",
    "df_score = hiperparamentros_tfidfVectorizer(X_processed, y, max_features, min_df, max_df)\n",
    "df_score.head(10)"
   ]
  },
  {
   "cell_type": "markdown",
   "metadata": {},
   "source": [
    "Então, é possível visualizar as seguintes afirmações:\n",
    "- Quanto menor o valor min_df melhor é acuracia do modelo;\n",
    "- Quanto maior o valor max_features melhor é acuracia do modelo (podendo causar overfitting);\n",
    "- O valor de max_df não contribuiu para melhora da acurácia para esse conjunto de hiperparâmetros."
   ]
  },
  {
   "cell_type": "code",
   "execution_count": 27,
   "metadata": {},
   "outputs": [
    {
     "data": {
      "text/html": [
       "<div>\n",
       "<style scoped>\n",
       "    .dataframe tbody tr th:only-of-type {\n",
       "        vertical-align: middle;\n",
       "    }\n",
       "\n",
       "    .dataframe tbody tr th {\n",
       "        vertical-align: top;\n",
       "    }\n",
       "\n",
       "    .dataframe thead th {\n",
       "        text-align: right;\n",
       "    }\n",
       "</style>\n",
       "<table border=\"1\" class=\"dataframe\">\n",
       "  <thead>\n",
       "    <tr style=\"text-align: right;\">\n",
       "      <th></th>\n",
       "      <th>max_features</th>\n",
       "      <th>min_df</th>\n",
       "      <th>max_df</th>\n",
       "      <th>f1_score</th>\n",
       "    </tr>\n",
       "  </thead>\n",
       "  <tbody>\n",
       "    <tr>\n",
       "      <th>0</th>\n",
       "      <td>600</td>\n",
       "      <td>0.000</td>\n",
       "      <td>0.9</td>\n",
       "      <td>0.815768</td>\n",
       "    </tr>\n",
       "    <tr>\n",
       "      <th>1</th>\n",
       "      <td>600</td>\n",
       "      <td>0.000</td>\n",
       "      <td>0.8</td>\n",
       "      <td>0.815768</td>\n",
       "    </tr>\n",
       "    <tr>\n",
       "      <th>2</th>\n",
       "      <td>600</td>\n",
       "      <td>0.000</td>\n",
       "      <td>0.7</td>\n",
       "      <td>0.815768</td>\n",
       "    </tr>\n",
       "    <tr>\n",
       "      <th>3</th>\n",
       "      <td>600</td>\n",
       "      <td>0.001</td>\n",
       "      <td>0.9</td>\n",
       "      <td>0.815744</td>\n",
       "    </tr>\n",
       "    <tr>\n",
       "      <th>4</th>\n",
       "      <td>600</td>\n",
       "      <td>0.001</td>\n",
       "      <td>0.8</td>\n",
       "      <td>0.815744</td>\n",
       "    </tr>\n",
       "    <tr>\n",
       "      <th>5</th>\n",
       "      <td>600</td>\n",
       "      <td>0.001</td>\n",
       "      <td>0.7</td>\n",
       "      <td>0.815744</td>\n",
       "    </tr>\n",
       "    <tr>\n",
       "      <th>6</th>\n",
       "      <td>500</td>\n",
       "      <td>0.001</td>\n",
       "      <td>0.8</td>\n",
       "      <td>0.814828</td>\n",
       "    </tr>\n",
       "    <tr>\n",
       "      <th>7</th>\n",
       "      <td>500</td>\n",
       "      <td>0.001</td>\n",
       "      <td>0.9</td>\n",
       "      <td>0.814828</td>\n",
       "    </tr>\n",
       "    <tr>\n",
       "      <th>8</th>\n",
       "      <td>500</td>\n",
       "      <td>0.000</td>\n",
       "      <td>0.7</td>\n",
       "      <td>0.814828</td>\n",
       "    </tr>\n",
       "    <tr>\n",
       "      <th>9</th>\n",
       "      <td>500</td>\n",
       "      <td>0.000</td>\n",
       "      <td>0.8</td>\n",
       "      <td>0.814828</td>\n",
       "    </tr>\n",
       "    <tr>\n",
       "      <th>10</th>\n",
       "      <td>500</td>\n",
       "      <td>0.000</td>\n",
       "      <td>0.9</td>\n",
       "      <td>0.814828</td>\n",
       "    </tr>\n",
       "    <tr>\n",
       "      <th>11</th>\n",
       "      <td>500</td>\n",
       "      <td>0.001</td>\n",
       "      <td>0.7</td>\n",
       "      <td>0.814828</td>\n",
       "    </tr>\n",
       "    <tr>\n",
       "      <th>12</th>\n",
       "      <td>400</td>\n",
       "      <td>0.000</td>\n",
       "      <td>0.8</td>\n",
       "      <td>0.812673</td>\n",
       "    </tr>\n",
       "    <tr>\n",
       "      <th>13</th>\n",
       "      <td>400</td>\n",
       "      <td>0.000</td>\n",
       "      <td>0.7</td>\n",
       "      <td>0.812673</td>\n",
       "    </tr>\n",
       "    <tr>\n",
       "      <th>14</th>\n",
       "      <td>400</td>\n",
       "      <td>0.000</td>\n",
       "      <td>0.9</td>\n",
       "      <td>0.812673</td>\n",
       "    </tr>\n",
       "    <tr>\n",
       "      <th>15</th>\n",
       "      <td>400</td>\n",
       "      <td>0.001</td>\n",
       "      <td>0.9</td>\n",
       "      <td>0.812613</td>\n",
       "    </tr>\n",
       "    <tr>\n",
       "      <th>16</th>\n",
       "      <td>400</td>\n",
       "      <td>0.001</td>\n",
       "      <td>0.8</td>\n",
       "      <td>0.812613</td>\n",
       "    </tr>\n",
       "    <tr>\n",
       "      <th>17</th>\n",
       "      <td>400</td>\n",
       "      <td>0.001</td>\n",
       "      <td>0.7</td>\n",
       "      <td>0.812613</td>\n",
       "    </tr>\n",
       "    <tr>\n",
       "      <th>18</th>\n",
       "      <td>400</td>\n",
       "      <td>0.005</td>\n",
       "      <td>0.9</td>\n",
       "      <td>0.806506</td>\n",
       "    </tr>\n",
       "    <tr>\n",
       "      <th>19</th>\n",
       "      <td>500</td>\n",
       "      <td>0.005</td>\n",
       "      <td>0.7</td>\n",
       "      <td>0.806506</td>\n",
       "    </tr>\n",
       "  </tbody>\n",
       "</table>\n",
       "</div>"
      ],
      "text/plain": [
       "    max_features  min_df  max_df  f1_score\n",
       "0            600   0.000     0.9  0.815768\n",
       "1            600   0.000     0.8  0.815768\n",
       "2            600   0.000     0.7  0.815768\n",
       "3            600   0.001     0.9  0.815744\n",
       "4            600   0.001     0.8  0.815744\n",
       "5            600   0.001     0.7  0.815744\n",
       "6            500   0.001     0.8  0.814828\n",
       "7            500   0.001     0.9  0.814828\n",
       "8            500   0.000     0.7  0.814828\n",
       "9            500   0.000     0.8  0.814828\n",
       "10           500   0.000     0.9  0.814828\n",
       "11           500   0.001     0.7  0.814828\n",
       "12           400   0.000     0.8  0.812673\n",
       "13           400   0.000     0.7  0.812673\n",
       "14           400   0.000     0.9  0.812673\n",
       "15           400   0.001     0.9  0.812613\n",
       "16           400   0.001     0.8  0.812613\n",
       "17           400   0.001     0.7  0.812613\n",
       "18           400   0.005     0.9  0.806506\n",
       "19           500   0.005     0.7  0.806506"
      ]
     },
     "execution_count": 27,
     "metadata": {},
     "output_type": "execute_result"
    }
   ],
   "source": [
    "max_features = [400, 500, 600]\n",
    "min_df = [0, 0.001, 0.005]\n",
    "max_df = [0.7, 0.8, 0.9]\n",
    "\n",
    "df_score = hiperparamentros_tfidfVectorizer(X_processed, y, max_features, min_df, max_df)\n",
    "df_score.head(20)"
   ]
  },
  {
   "cell_type": "markdown",
   "metadata": {},
   "source": [
    "Aumentar o valor de features para melhora do modelo de classificação não resultou em grande melhora da acurácia (score) do modelo, mas em contrapartida aumento sua complexidade e podendo causar overfitting. Então vamos escolher o melhor conjunto de hiperparâmetros para o max_features igual a 400. Logo, vamos escolher o maior valor de min_df e o menor valor de max_df para tentar tornar o modelo mais genérico."
   ]
  },
  {
   "cell_type": "code",
   "execution_count": 28,
   "metadata": {},
   "outputs": [
    {
     "data": {
      "text/html": [
       "<div>\n",
       "<style scoped>\n",
       "    .dataframe tbody tr th:only-of-type {\n",
       "        vertical-align: middle;\n",
       "    }\n",
       "\n",
       "    .dataframe tbody tr th {\n",
       "        vertical-align: top;\n",
       "    }\n",
       "\n",
       "    .dataframe thead th {\n",
       "        text-align: right;\n",
       "    }\n",
       "</style>\n",
       "<table border=\"1\" class=\"dataframe\">\n",
       "  <thead>\n",
       "    <tr style=\"text-align: right;\">\n",
       "      <th></th>\n",
       "      <th>max_features</th>\n",
       "      <th>min_df</th>\n",
       "      <th>max_df</th>\n",
       "      <th>f1_score</th>\n",
       "    </tr>\n",
       "  </thead>\n",
       "  <tbody>\n",
       "    <tr>\n",
       "      <th>12</th>\n",
       "      <td>400</td>\n",
       "      <td>0.000</td>\n",
       "      <td>0.8</td>\n",
       "      <td>0.812673</td>\n",
       "    </tr>\n",
       "    <tr>\n",
       "      <th>13</th>\n",
       "      <td>400</td>\n",
       "      <td>0.000</td>\n",
       "      <td>0.7</td>\n",
       "      <td>0.812673</td>\n",
       "    </tr>\n",
       "    <tr>\n",
       "      <th>14</th>\n",
       "      <td>400</td>\n",
       "      <td>0.000</td>\n",
       "      <td>0.9</td>\n",
       "      <td>0.812673</td>\n",
       "    </tr>\n",
       "    <tr>\n",
       "      <th>15</th>\n",
       "      <td>400</td>\n",
       "      <td>0.001</td>\n",
       "      <td>0.9</td>\n",
       "      <td>0.812613</td>\n",
       "    </tr>\n",
       "    <tr>\n",
       "      <th>16</th>\n",
       "      <td>400</td>\n",
       "      <td>0.001</td>\n",
       "      <td>0.8</td>\n",
       "      <td>0.812613</td>\n",
       "    </tr>\n",
       "    <tr>\n",
       "      <th>17</th>\n",
       "      <td>400</td>\n",
       "      <td>0.001</td>\n",
       "      <td>0.7</td>\n",
       "      <td>0.812613</td>\n",
       "    </tr>\n",
       "    <tr>\n",
       "      <th>18</th>\n",
       "      <td>400</td>\n",
       "      <td>0.005</td>\n",
       "      <td>0.9</td>\n",
       "      <td>0.806506</td>\n",
       "    </tr>\n",
       "    <tr>\n",
       "      <th>22</th>\n",
       "      <td>400</td>\n",
       "      <td>0.005</td>\n",
       "      <td>0.8</td>\n",
       "      <td>0.806506</td>\n",
       "    </tr>\n",
       "    <tr>\n",
       "      <th>23</th>\n",
       "      <td>400</td>\n",
       "      <td>0.005</td>\n",
       "      <td>0.7</td>\n",
       "      <td>0.806506</td>\n",
       "    </tr>\n",
       "  </tbody>\n",
       "</table>\n",
       "</div>"
      ],
      "text/plain": [
       "    max_features  min_df  max_df  f1_score\n",
       "12           400   0.000     0.8  0.812673\n",
       "13           400   0.000     0.7  0.812673\n",
       "14           400   0.000     0.9  0.812673\n",
       "15           400   0.001     0.9  0.812613\n",
       "16           400   0.001     0.8  0.812613\n",
       "17           400   0.001     0.7  0.812613\n",
       "18           400   0.005     0.9  0.806506\n",
       "22           400   0.005     0.8  0.806506\n",
       "23           400   0.005     0.7  0.806506"
      ]
     },
     "execution_count": 28,
     "metadata": {},
     "output_type": "execute_result"
    }
   ],
   "source": [
    "df_score[df_score['max_features'] == 400]"
   ]
  },
  {
   "cell_type": "markdown",
   "metadata": {},
   "source": [
    "Valores de hiperparâmetros selecionados:\n",
    "- max_features = 400\n",
    "- min_df = 0.001\n",
    "- max_df = 0.7"
   ]
  },
  {
   "cell_type": "code",
   "execution_count": 34,
   "metadata": {},
   "outputs": [
    {
     "name": "stdout",
     "output_type": "stream",
     "text": [
      "Score para n-grams (1, 1)\n",
      "f1_score: 0.8094779032328606\n",
      "              precision    recall  f1-score   support\n",
      "\n",
      "    negativo       0.75      0.85      0.80      2178\n",
      "      neutro       0.37      0.04      0.07       712\n",
      "    positivo       0.89      0.94      0.91      5306\n",
      "\n",
      "    accuracy                           0.84      8196\n",
      "   macro avg       0.67      0.61      0.59      8196\n",
      "weighted avg       0.80      0.84      0.81      8196\n",
      "\n",
      "Score para n-grams (1, 1)\n",
      "f1_score: 0.8138966260046941\n",
      "              precision    recall  f1-score   support\n",
      "\n",
      "    negativo       0.76      0.87      0.81      2178\n",
      "      neutro       0.34      0.04      0.07       712\n",
      "    positivo       0.89      0.94      0.91      5306\n",
      "\n",
      "    accuracy                           0.84      8196\n",
      "   macro avg       0.66      0.62      0.60      8196\n",
      "weighted avg       0.81      0.84      0.81      8196\n",
      "\n",
      "Score para n-grams (1, 1)\n",
      "f1_score: 0.8101244733499022\n",
      "              precision    recall  f1-score   support\n",
      "\n",
      "    negativo       0.74      0.86      0.80      2178\n",
      "      neutro       0.39      0.05      0.09       711\n",
      "    positivo       0.89      0.93      0.91      5306\n",
      "\n",
      "    accuracy                           0.84      8195\n",
      "   macro avg       0.67      0.62      0.60      8195\n",
      "weighted avg       0.81      0.84      0.81      8195\n",
      "\n",
      "Score para n-grams (1, 1)\n",
      "f1_score: 0.8105479454267487\n",
      "              precision    recall  f1-score   support\n",
      "\n",
      "    negativo       0.75      0.85      0.80      2178\n",
      "      neutro       0.34      0.05      0.09       711\n",
      "    positivo       0.89      0.94      0.91      5306\n",
      "\n",
      "    accuracy                           0.84      8195\n",
      "   macro avg       0.66      0.61      0.60      8195\n",
      "weighted avg       0.80      0.84      0.81      8195\n",
      "\n",
      "Score para n-grams (1, 1)\n",
      "f1_score: 0.807414910978316\n",
      "              precision    recall  f1-score   support\n",
      "\n",
      "    negativo       0.74      0.86      0.79      2178\n",
      "      neutro       0.28      0.05      0.08       711\n",
      "    positivo       0.89      0.93      0.91      5306\n",
      "\n",
      "    accuracy                           0.83      8195\n",
      "   macro avg       0.64      0.61      0.60      8195\n",
      "weighted avg       0.80      0.83      0.81      8195\n",
      "\n"
     ]
    }
   ],
   "source": [
    "print_classification_report_ngrams(TfidfVectorizer, ngram=(1,1), nsplits=5, maxfeatures=400, mindf=0.001, maxdf=0.7)"
   ]
  },
  {
   "cell_type": "markdown",
   "metadata": {},
   "source": [
    "### 6.3. Word2Vec"
   ]
  },
  {
   "cell_type": "markdown",
   "metadata": {},
   "source": [
    "#### 6.3.1. Implementação Word2Vec pela biblioteca spaCy"
   ]
  },
  {
   "cell_type": "markdown",
   "metadata": {},
   "source": [
    "A biblioteca spaCy possui modelos e pipelines treinados para serem utilizados em projetos de NLP. Será utilizado o modelo 'pt_core_news_sm'. A seguir temos uma simples demostração do funcionamento do modelo."
   ]
  },
  {
   "cell_type": "code",
   "execution_count": 42,
   "metadata": {},
   "outputs": [
    {
     "name": "stdout",
     "output_type": "stream",
     "text": [
      "[('Esta', 'PRON'), ('é', 'AUX'), ('uma', 'DET'), ('frase', 'NOUN'), ('.', 'PUNCT')]\n",
      "[ 1.6862637   1.0966642  -0.44830102  1.2407768   1.2119696   0.4967288\n",
      "  1.1355568  -0.3789686  -0.23921096 -1.0028999   0.01694105  1.0304904\n",
      " -0.77945006 -1.8455906   0.14623375 -1.5098034   0.09465428  0.23753071\n",
      "  0.7262373  -3.4491882  -0.06529514 -0.35115677  0.25457078  0.97570646\n",
      "  1.3779566  -0.07742429  2.3602567   1.3939953  -1.0734911   0.51703084\n",
      " -0.06598546 -0.13703804 -1.6283951  -0.24659435 -2.7218637  -1.726352\n",
      "  0.7910467  -0.3519574  -1.2363064   0.21610522  1.2061622  -1.2713051\n",
      "  2.08051     2.0840862  -3.1898916  -0.1673429   1.206226    4.5296965\n",
      " -3.36494     0.5160467   0.7298645  -2.5763297  -1.0656779  -1.3060184\n",
      " -0.67010766 -2.3228176  -0.8842122   0.43415537  1.3984268   1.0577457\n",
      " -0.5068926   0.4359377  -1.6620098   0.45011562 -1.9427035   2.2010276\n",
      "  0.07313128  1.7914689  -0.78537834 -0.7929416   0.62613255  4.374768\n",
      " -1.5901229   0.80564517 -1.8765942  -2.4415004   0.43080473  0.47225484\n",
      " -1.5491395  -0.67420495 -2.8946824   0.18531652  0.01723059 -0.20907629\n",
      "  2.0791006   2.7983825   0.17668304  1.6146924  -2.555139    2.8869371\n",
      " -0.45493808  1.3831619   3.022241    0.5266367   1.0223396   0.5301677 ]\n"
     ]
    }
   ],
   "source": [
    "nlp = spacy.load(\"pt_core_news_sm\")\n",
    "doc = nlp(\"Esta é uma frase.\")\n",
    "print([(w.text, w.pos_) for w in doc])\n",
    "print(doc.vector)"
   ]
  },
  {
   "cell_type": "code",
   "execution_count": 41,
   "metadata": {},
   "outputs": [],
   "source": [
    "regex_transformers = {\n",
    "    'datas': re_dates,\n",
    "    'valores_dinheiro': re_money,\n",
    "    'numeros': re_numbers,\n",
    "    'negacoes': re_negation,\n",
    "    'caracteres_especiais': re_special_chars,\n",
    "    'espacos_branco': re_whitespaces\n",
    "}\n",
    "\n",
    "\n",
    "# Criando o Pipeline\n",
    "text_pipeline = Pipeline([\n",
    "    ('regex', RemoverRegex(regex_transformers)),\n",
    "    ('stopwords', RemoverStopwords(stopwords.words('portuguese'))),\n",
    "    ('normalization', ProcessoNormalizacao()),\n",
    "    ('stemming', ProcessoStemming(RSLPStemmer()))\n",
    "])\n",
    "\n",
    "# Dfinido X e y \n",
    "comentarios = dataset['review_comment_message'].dropna().index\n",
    "score = dataset['review_score'][comentarios].map({1: 'negativo', 2: 'negativo', 3: 'neutro', 4: 'positivo', 5: 'positivo'})\n",
    "\n",
    "X = list(dataset['review_comment_message'][comentarios].values)\n",
    "y = score.values\n",
    "\n",
    "# Aplicando o pipeline\n",
    "X_processed = text_pipeline.fit_transform(X)\n",
    "\n",
    "\n",
    "X_processed_w2v = [nlp(review).vector for review in X_processed]\n"
   ]
  },
  {
   "cell_type": "code",
   "execution_count": 45,
   "metadata": {},
   "outputs": [],
   "source": [
    "# Trasformando a lista X_processed_w2v em um dataframe\n",
    "df_X_processed_w2v = pd.DataFrame(list(map(np.ravel, X_processed_w2v)))"
   ]
  },
  {
   "cell_type": "code",
   "execution_count": 72,
   "metadata": {},
   "outputs": [],
   "source": [
    "# Selecionando os review_score \n",
    "score = dataset['review_score'][comentarios].map({1: 'negativo', 2: 'negativo', 3: 'neutro', 4: 'positivo', 5: 'positivo'})\n",
    "# Removendo os valores NaN gerados no processo de trasformação dos dados \n",
    "df_ml = pd.concat([df_X_processed_w2v, score], axis=1).dropna()"
   ]
  },
  {
   "cell_type": "code",
   "execution_count": 88,
   "metadata": {},
   "outputs": [
    {
     "name": "stderr",
     "output_type": "stream",
     "text": [
      "c:\\Users\\Brothers\\anaconda3\\lib\\site-packages\\sklearn\\linear_model\\_sag.py:352: ConvergenceWarning: The max_iter was reached which means the coef_ did not converge\n",
      "  warnings.warn(\n"
     ]
    },
    {
     "name": "stdout",
     "output_type": "stream",
     "text": [
      "Score Word2Vec\n",
      "f1_score: 0.7391923520471352\n",
      "              precision    recall  f1-score   support\n",
      "\n",
      "    negativo       0.66      0.70      0.68      3627\n",
      "      neutro       0.20      0.00      0.01      1182\n",
      "    positivo       0.82      0.91      0.86      8797\n",
      "\n",
      "    accuracy                           0.77     13606\n",
      "   macro avg       0.56      0.54      0.52     13606\n",
      "weighted avg       0.72      0.77      0.74     13606\n",
      "\n"
     ]
    },
    {
     "name": "stderr",
     "output_type": "stream",
     "text": [
      "c:\\Users\\Brothers\\anaconda3\\lib\\site-packages\\sklearn\\linear_model\\_sag.py:352: ConvergenceWarning: The max_iter was reached which means the coef_ did not converge\n",
      "  warnings.warn(\n"
     ]
    },
    {
     "name": "stdout",
     "output_type": "stream",
     "text": [
      "Score Word2Vec\n",
      "f1_score: 0.7423332638481633\n",
      "              precision    recall  f1-score   support\n",
      "\n",
      "    negativo       0.68      0.70      0.69      3626\n",
      "      neutro       0.24      0.00      0.01      1183\n",
      "    positivo       0.82      0.92      0.86      8797\n",
      "\n",
      "    accuracy                           0.78     13606\n",
      "   macro avg       0.58      0.54      0.52     13606\n",
      "weighted avg       0.73      0.78      0.74     13606\n",
      "\n"
     ]
    },
    {
     "name": "stderr",
     "output_type": "stream",
     "text": [
      "c:\\Users\\Brothers\\anaconda3\\lib\\site-packages\\sklearn\\linear_model\\_sag.py:352: ConvergenceWarning: The max_iter was reached which means the coef_ did not converge\n",
      "  warnings.warn(\n"
     ]
    },
    {
     "name": "stdout",
     "output_type": "stream",
     "text": [
      "Score Word2Vec\n",
      "f1_score: 0.7390485884020849\n",
      "              precision    recall  f1-score   support\n",
      "\n",
      "    negativo       0.66      0.70      0.68      3626\n",
      "      neutro       0.25      0.01      0.01      1182\n",
      "    positivo       0.82      0.91      0.86      8797\n",
      "\n",
      "    accuracy                           0.77     13605\n",
      "   macro avg       0.58      0.54      0.52     13605\n",
      "weighted avg       0.73      0.77      0.74     13605\n",
      "\n"
     ]
    }
   ],
   "source": [
    "# Separando o dataset em X e Y\n",
    "X = df_ml.iloc[:, :-1].values\n",
    "y = df_ml.iloc[:,-1].values\n",
    "\n",
    "# Cria 3 partições com os dados de disponíveis\n",
    "skf = StratifiedKFold(n_splits=3)\n",
    "skf.get_n_splits(df_ml.iloc[:, :-1], df_ml.iloc[:,-1])\n",
    "\n",
    "\n",
    "for train_index, test_index in skf.split(X, y):\n",
    "    X_train, X_test = X[train_index], X[test_index]\n",
    "    y_train, y_test = y[train_index], y[test_index]\n",
    "\n",
    "    #Criação do modelo\n",
    "    regressao_logistica = LogisticRegression(solver = \"saga\", multi_class='multinomial', random_state=42, max_iter=200)\n",
    "\n",
    "    regressao_logistica.fit(X_train, y_train)\n",
    "    y_true, y_pred = y_test, regressao_logistica.predict(X_test)\n",
    "    score = f1_score(y_true, y_pred, average='weighted')\n",
    "    print(f'Score Word2Vec')\n",
    "    print(f'f1_score: {score}')\n",
    "    print(classification_report(y_true, y_pred))"
   ]
  },
  {
   "cell_type": "markdown",
   "metadata": {},
   "source": [
    "#### 6.3.2. Implementação Word2Vec pela biblioteca nltk"
   ]
  },
  {
   "cell_type": "markdown",
   "metadata": {},
   "source": [
    "A biblioteca nltk contem a classe Word2Vec que é um algoritmo para construir representações vetoriais de palavras, também conhecido como word embeddings. O vetor para cada palavra é uma descrição semântica de como essa palavra é usada no contexto, portanto, duas palavras que são usadas de maneira semelhante no texto terão representações vetoriais semelhantes. Depois de mapear palavras no espaço vetorial, você pode usar a matemática vetorial para encontrar palavras que tenham semântica semelhante. Para implementar o Word2Vec neste projeto, iremos treinar um modelo a partir da própria base de dados."
   ]
  },
  {
   "cell_type": "code",
   "execution_count": 25,
   "metadata": {},
   "outputs": [
    {
     "data": {
      "text/plain": [
       "['receb', 'bem', 'ant', 'praz', 'estipul']"
      ]
     },
     "execution_count": 25,
     "metadata": {},
     "output_type": "execute_result"
    }
   ],
   "source": [
    "x_separado_por_palavra = list()\n",
    "for item in  X_processed:\n",
    "    x_separado_por_palavra.append(word_tokenize(item))\n",
    "\n",
    "# Trasfoamando cada review em lista composta por todas as palavras\n",
    "x_separado_por_palavra[0]"
   ]
  },
  {
   "cell_type": "code",
   "execution_count": 26,
   "metadata": {},
   "outputs": [
    {
     "name": "stderr",
     "output_type": "stream",
     "text": [
      "C:\\Users\\Brothers\\AppData\\Local\\Temp/ipykernel_7228/3021681431.py:2: VisibleDeprecationWarning: Creating an ndarray from ragged nested sequences (which is a list-or-tuple of lists-or-tuples-or ndarrays with different lengths or shapes) is deprecated. If you meant to do this, you must specify 'dtype=object' when creating the ndarray.\n",
      "  X_w2v = np.array(x_separado_por_palavra)\n"
     ]
    },
    {
     "data": {
      "text/plain": [
       "array([list(['receb', 'bem', 'ant', 'praz', 'estipul']),\n",
       "       list(['parab', 'loj', 'lannist', 'ador', 'compr', 'internet', 'segur', 'pra', 'parab', 'tod', 'feliz', 'pasco'])],\n",
       "      dtype=object)"
      ]
     },
     "execution_count": 26,
     "metadata": {},
     "output_type": "execute_result"
    }
   ],
   "source": [
    "# Trasformando a lista de palavras em um array de palavras\n",
    "X_w2v = np.array(x_separado_por_palavra)\n",
    "X_w2v[:2]"
   ]
  },
  {
   "cell_type": "code",
   "execution_count": 32,
   "metadata": {},
   "outputs": [
    {
     "data": {
      "text/plain": [
       "2300"
      ]
     },
     "execution_count": 32,
     "metadata": {},
     "output_type": "execute_result"
    }
   ],
   "source": [
    "# Treinando os Embeddings com a Coleção\n",
    "# sg=1 -- Skip Gram\n",
    "model = Word2Vec(X_w2v, vector_size=300, window=5, sg=1, workers=4)\n",
    "w2v = {w: vec for w, vec in zip(model.wv.index_to_key, model.wv.vectors)}\n",
    "word_vectors = model.wv\n",
    "len(w2v)"
   ]
  },
  {
   "cell_type": "code",
   "execution_count": 36,
   "metadata": {},
   "outputs": [],
   "source": [
    "regex_transformers = {\n",
    "    'datas': re_dates,\n",
    "    'valores_dinheiro': re_money,\n",
    "    'numeros': re_numbers,\n",
    "    'negacoes': re_negation,\n",
    "    'caracteres_especiais': re_special_chars,\n",
    "    'espacos_branco': re_whitespaces\n",
    "}\n",
    "\n",
    "# Criando o Pipeline\n",
    "text_pipeline = Pipeline([\n",
    "    ('regex', RemoverRegex(regex_transformers)),\n",
    "    ('stopwords', RemoverStopwords(stopwords.words('portuguese'))),\n",
    "    ('normalization', ProcessoNormalizacao()),\n",
    "    ('stemming', ProcessoStemming(RSLPStemmer())),\n",
    "    ('w2v', E2V_IDF(w2v))\n",
    "])\n",
    "\n",
    "# Dfinido X e y \n",
    "comentarios = dataset['review_comment_message'].dropna().index\n",
    "score = dataset['review_score'][comentarios].map({1: 'negativo', 2: 'negativo', 3: 'neutro', 4: 'positivo', 5: 'positivo'})\n",
    "\n",
    "X = list(dataset['review_comment_message'][comentarios].values)\n",
    "y = score.values\n",
    "\n",
    "# Aplicando o pipeline\n",
    "X_processed = text_pipeline.fit_transform(X)"
   ]
  },
  {
   "cell_type": "code",
   "execution_count": 37,
   "metadata": {},
   "outputs": [
    {
     "data": {
      "text/plain": [
       "array([-6.75199600e-03,  1.86525151e-01,  3.83282751e-02,  8.33293274e-02,\n",
       "       -6.05972251e-03, -1.31283864e-01,  7.21414313e-02,  3.08452785e-01,\n",
       "        1.39897084e-02, -2.53857626e-03, -9.88215767e-03, -1.19019739e-01,\n",
       "        4.32758071e-02, -1.93288624e-02, -8.33064616e-02, -4.78607975e-02,\n",
       "        3.56259197e-02,  2.24428307e-02,  9.70229581e-02, -2.51476299e-02,\n",
       "       -1.67030945e-01, -1.99590269e-02,  8.15033391e-02,  1.07512206e-01,\n",
       "        1.54096887e-01,  4.03406434e-02, -1.77595034e-01,  7.23470375e-02,\n",
       "       -6.42824918e-02, -1.50666609e-01,  2.05498617e-02, -1.12472296e-01,\n",
       "        3.89049053e-02,  5.31133041e-02, -1.12498943e-02,  3.08047533e-02,\n",
       "        1.25670940e-01, -1.24974258e-01, -7.52034187e-02,  2.23629754e-02,\n",
       "        1.09653398e-02,  2.98187118e-02,  1.32519193e-02,  6.42805966e-03,\n",
       "        1.07772395e-01,  1.13337703e-01, -4.08071466e-02,  6.76041795e-03,\n",
       "        2.81910971e-02,  6.11983426e-02,  5.21695577e-02,  5.22530675e-02,\n",
       "       -2.49724016e-02,  4.19023493e-03, -4.53125983e-02,  1.30895346e-01,\n",
       "       -2.13409383e-02,  4.76530232e-02,  1.97360665e-02, -3.51955742e-02,\n",
       "       -6.97193742e-02, -6.81955665e-02, -1.44143244e-02,  1.21150352e-02,\n",
       "        5.76504469e-02, -7.50764832e-02,  2.72955894e-02,  3.14894468e-02,\n",
       "       -6.17509857e-02, -7.03185871e-02, -5.12928935e-03,  4.44957800e-02,\n",
       "        1.54143646e-01, -1.08834051e-01,  1.98568236e-02,  7.92725533e-02,\n",
       "       -6.61898851e-02,  9.60548148e-02, -6.41732812e-02,  1.01147838e-01,\n",
       "       -5.50030470e-02, -1.32819310e-01,  1.28239254e-02,  2.53648072e-01,\n",
       "        4.31131274e-02,  2.41951570e-02, -1.02751367e-01, -1.80268958e-02,\n",
       "        7.73698837e-02,  2.84287818e-02,  1.37576267e-01, -8.62850845e-02,\n",
       "       -4.83501777e-02, -5.10698296e-02,  1.07609935e-01,  1.22487277e-01,\n",
       "        1.95986211e-01, -9.82277915e-02, -2.62585748e-02, -4.76990547e-03,\n",
       "       -2.67689750e-02, -6.94093574e-03,  1.01555280e-01, -3.30359153e-02,\n",
       "        1.24979354e-01, -4.39781807e-02, -2.42795106e-02,  2.43073218e-02,\n",
       "       -1.38862669e-01,  9.16208699e-02, -1.32427678e-01, -6.51232526e-02,\n",
       "       -4.26138677e-02,  6.65116385e-02,  2.62723882e-02,  1.31183729e-01,\n",
       "        1.16796382e-02, -4.19523269e-02,  1.95570096e-01, -1.19212009e-01,\n",
       "        8.15315470e-02,  6.50172979e-02,  1.40831724e-01,  2.68524420e-02,\n",
       "       -6.86008781e-02,  5.94843999e-02, -6.65576430e-03, -2.64435470e-01,\n",
       "       -6.58860372e-04,  9.88814980e-03,  8.54982510e-02,  1.04773514e-01,\n",
       "        1.20497063e-01, -1.80943340e-01,  1.15741998e-01,  3.12162451e-02,\n",
       "       -8.63757432e-02, -8.17255676e-02, -1.29681751e-01, -1.52211785e-01,\n",
       "       -1.47003070e-01, -1.78905234e-01, -9.19570997e-02,  1.10614970e-01,\n",
       "        3.92955095e-02, -9.97402444e-02, -1.75450966e-01, -3.08102230e-03,\n",
       "        1.18188545e-01, -9.50718112e-03,  1.72382966e-02, -1.61042556e-01,\n",
       "       -1.32010616e-02, -6.49996568e-03,  6.04778975e-02,  2.11640485e-02,\n",
       "       -1.15968682e-01, -1.17452748e-01, -1.54401700e-03,  1.34753481e-01,\n",
       "        6.88707754e-02,  1.21012807e-01, -1.82989597e-01,  1.45584956e-01,\n",
       "       -1.45486534e-01,  9.38341953e-03,  2.15943363e-02,  6.32911399e-02,\n",
       "        7.88926035e-02,  2.12286472e-01,  6.08343678e-03,  1.50173128e-01,\n",
       "        5.93208894e-02,  1.13404552e-02, -2.90028527e-02, -2.27815192e-02,\n",
       "       -6.19104244e-02, -8.37814510e-02,  4.63551879e-02, -5.24359830e-02,\n",
       "       -1.37303293e-01,  5.07828966e-02, -4.52718176e-02, -4.01136726e-02,\n",
       "        1.20017594e-02, -1.36694424e-02,  1.25604272e-01,  1.53929725e-01,\n",
       "        3.60906683e-02, -1.46615177e-01, -1.74892899e-02,  6.46545216e-02,\n",
       "       -7.86997750e-02,  1.13156602e-01, -3.68011279e-05, -1.76747188e-01,\n",
       "        7.72111341e-02, -6.87052161e-02,  5.30958883e-02, -3.26944366e-02,\n",
       "       -1.38940990e-01,  1.10429406e-01,  4.73242439e-02, -4.87126932e-02,\n",
       "       -2.08688546e-02, -3.84710878e-02, -4.46476564e-02,  1.02588817e-01,\n",
       "       -3.02138198e-02, -1.05420224e-01, -8.34813714e-02, -1.70134678e-01,\n",
       "       -7.53458738e-02, -8.07522610e-02, -2.29121987e-02, -2.46992394e-01,\n",
       "       -6.67086616e-02, -2.71776915e-01, -1.37118652e-01, -6.89421222e-02,\n",
       "        4.52789813e-02, -5.83180822e-02, -4.73992601e-02, -7.20362738e-02,\n",
       "       -5.95669039e-02, -6.64282143e-02,  5.16803488e-02, -2.70710811e-02,\n",
       "       -5.16633131e-02,  6.53463677e-02,  1.58105027e-02, -4.76984605e-02,\n",
       "       -1.21950604e-01,  4.21959646e-02,  2.25118245e-03,  6.33368343e-02,\n",
       "        2.25531291e-02,  1.59507766e-02,  7.03087426e-04, -2.08020985e-01,\n",
       "        6.26414418e-02, -1.27619877e-01, -6.84143677e-02,  5.44042699e-02,\n",
       "        4.35204338e-03, -7.63165653e-02, -1.21526774e-02,  4.27258341e-03,\n",
       "        1.13427946e-02,  1.59038320e-01, -2.97292881e-02,  6.23219125e-02,\n",
       "        1.71983782e-02,  5.03571797e-03, -1.91281378e-01, -4.06144746e-02,\n",
       "        1.87104270e-01,  8.94562677e-02, -2.08683297e-01, -2.80323047e-02,\n",
       "        1.47054762e-01,  1.03910141e-01, -3.91116068e-02, -1.57580957e-01,\n",
       "       -3.60715799e-02, -4.65259701e-02,  4.93790060e-02,  9.13617387e-02,\n",
       "       -8.55163634e-02, -8.72103646e-02, -1.49625793e-01,  1.80730764e-02,\n",
       "        1.26643881e-01,  3.12631838e-02,  2.42757887e-01,  7.72037432e-02,\n",
       "        1.46231711e-01,  8.86155218e-02, -9.23115015e-02,  9.51281562e-02,\n",
       "        1.60651788e-01,  6.63433746e-02,  1.20083503e-02,  6.64604902e-02,\n",
       "        4.70860861e-03, -3.10745789e-04, -2.95535643e-02,  5.28730303e-02,\n",
       "        6.51698560e-02,  1.44976318e-01,  1.44898593e-02,  1.98558435e-01,\n",
       "        1.20403141e-01,  5.45027964e-02,  2.59461761e-01,  2.07625061e-01,\n",
       "        2.61444338e-02, -1.33831993e-01,  6.33428767e-02, -1.10816015e-02])"
      ]
     },
     "execution_count": 37,
     "metadata": {},
     "output_type": "execute_result"
    }
   ],
   "source": [
    "# Representação de um review (conjunto de palavras) a partir do modelo word2vec\n",
    "X_processed[0]"
   ]
  },
  {
   "cell_type": "code",
   "execution_count": 38,
   "metadata": {},
   "outputs": [
    {
     "name": "stdout",
     "output_type": "stream",
     "text": [
      "Score para W2V_AVG\n",
      "f1_score: 0.6377204025022661\n"
     ]
    },
    {
     "name": "stderr",
     "output_type": "stream",
     "text": [
      "c:\\Users\\Brothers\\anaconda3\\lib\\site-packages\\sklearn\\metrics\\_classification.py:1318: UndefinedMetricWarning: Precision and F-score are ill-defined and being set to 0.0 in labels with no predicted samples. Use `zero_division` parameter to control this behavior.\n",
      "  _warn_prf(average, modifier, msg_start, len(result))\n",
      "c:\\Users\\Brothers\\anaconda3\\lib\\site-packages\\sklearn\\metrics\\_classification.py:1318: UndefinedMetricWarning: Precision and F-score are ill-defined and being set to 0.0 in labels with no predicted samples. Use `zero_division` parameter to control this behavior.\n",
      "  _warn_prf(average, modifier, msg_start, len(result))\n",
      "c:\\Users\\Brothers\\anaconda3\\lib\\site-packages\\sklearn\\metrics\\_classification.py:1318: UndefinedMetricWarning: Precision and F-score are ill-defined and being set to 0.0 in labels with no predicted samples. Use `zero_division` parameter to control this behavior.\n",
      "  _warn_prf(average, modifier, msg_start, len(result))\n"
     ]
    },
    {
     "name": "stdout",
     "output_type": "stream",
     "text": [
      "              precision    recall  f1-score   support\n",
      "\n",
      "    negativo       0.60      0.34      0.43      2178\n",
      "      neutro       0.00      0.00      0.00       712\n",
      "    positivo       0.71      0.93      0.81      5306\n",
      "\n",
      "    accuracy                           0.69      8196\n",
      "   macro avg       0.44      0.42      0.41      8196\n",
      "weighted avg       0.62      0.69      0.64      8196\n",
      "\n",
      "Score para W2V_AVG\n",
      "f1_score: 0.6383020488751269\n"
     ]
    },
    {
     "name": "stderr",
     "output_type": "stream",
     "text": [
      "c:\\Users\\Brothers\\anaconda3\\lib\\site-packages\\sklearn\\metrics\\_classification.py:1318: UndefinedMetricWarning: Precision and F-score are ill-defined and being set to 0.0 in labels with no predicted samples. Use `zero_division` parameter to control this behavior.\n",
      "  _warn_prf(average, modifier, msg_start, len(result))\n",
      "c:\\Users\\Brothers\\anaconda3\\lib\\site-packages\\sklearn\\metrics\\_classification.py:1318: UndefinedMetricWarning: Precision and F-score are ill-defined and being set to 0.0 in labels with no predicted samples. Use `zero_division` parameter to control this behavior.\n",
      "  _warn_prf(average, modifier, msg_start, len(result))\n",
      "c:\\Users\\Brothers\\anaconda3\\lib\\site-packages\\sklearn\\metrics\\_classification.py:1318: UndefinedMetricWarning: Precision and F-score are ill-defined and being set to 0.0 in labels with no predicted samples. Use `zero_division` parameter to control this behavior.\n",
      "  _warn_prf(average, modifier, msg_start, len(result))\n"
     ]
    },
    {
     "name": "stdout",
     "output_type": "stream",
     "text": [
      "              precision    recall  f1-score   support\n",
      "\n",
      "    negativo       0.60      0.33      0.43      2178\n",
      "      neutro       0.00      0.00      0.00       712\n",
      "    positivo       0.71      0.94      0.81      5306\n",
      "\n",
      "    accuracy                           0.70      8196\n",
      "   macro avg       0.44      0.42      0.41      8196\n",
      "weighted avg       0.62      0.70      0.64      8196\n",
      "\n",
      "Score para W2V_AVG\n",
      "f1_score: 0.6424177470207232\n"
     ]
    },
    {
     "name": "stderr",
     "output_type": "stream",
     "text": [
      "c:\\Users\\Brothers\\anaconda3\\lib\\site-packages\\sklearn\\metrics\\_classification.py:1318: UndefinedMetricWarning: Precision and F-score are ill-defined and being set to 0.0 in labels with no predicted samples. Use `zero_division` parameter to control this behavior.\n",
      "  _warn_prf(average, modifier, msg_start, len(result))\n",
      "c:\\Users\\Brothers\\anaconda3\\lib\\site-packages\\sklearn\\metrics\\_classification.py:1318: UndefinedMetricWarning: Precision and F-score are ill-defined and being set to 0.0 in labels with no predicted samples. Use `zero_division` parameter to control this behavior.\n",
      "  _warn_prf(average, modifier, msg_start, len(result))\n",
      "c:\\Users\\Brothers\\anaconda3\\lib\\site-packages\\sklearn\\metrics\\_classification.py:1318: UndefinedMetricWarning: Precision and F-score are ill-defined and being set to 0.0 in labels with no predicted samples. Use `zero_division` parameter to control this behavior.\n",
      "  _warn_prf(average, modifier, msg_start, len(result))\n"
     ]
    },
    {
     "name": "stdout",
     "output_type": "stream",
     "text": [
      "              precision    recall  f1-score   support\n",
      "\n",
      "    negativo       0.61      0.34      0.44      2178\n",
      "      neutro       0.00      0.00      0.00       711\n",
      "    positivo       0.72      0.94      0.81      5306\n",
      "\n",
      "    accuracy                           0.70      8195\n",
      "   macro avg       0.44      0.43      0.42      8195\n",
      "weighted avg       0.62      0.70      0.64      8195\n",
      "\n",
      "Score para W2V_AVG\n",
      "f1_score: 0.6425486006567488\n"
     ]
    },
    {
     "name": "stderr",
     "output_type": "stream",
     "text": [
      "c:\\Users\\Brothers\\anaconda3\\lib\\site-packages\\sklearn\\metrics\\_classification.py:1318: UndefinedMetricWarning: Precision and F-score are ill-defined and being set to 0.0 in labels with no predicted samples. Use `zero_division` parameter to control this behavior.\n",
      "  _warn_prf(average, modifier, msg_start, len(result))\n",
      "c:\\Users\\Brothers\\anaconda3\\lib\\site-packages\\sklearn\\metrics\\_classification.py:1318: UndefinedMetricWarning: Precision and F-score are ill-defined and being set to 0.0 in labels with no predicted samples. Use `zero_division` parameter to control this behavior.\n",
      "  _warn_prf(average, modifier, msg_start, len(result))\n",
      "c:\\Users\\Brothers\\anaconda3\\lib\\site-packages\\sklearn\\metrics\\_classification.py:1318: UndefinedMetricWarning: Precision and F-score are ill-defined and being set to 0.0 in labels with no predicted samples. Use `zero_division` parameter to control this behavior.\n",
      "  _warn_prf(average, modifier, msg_start, len(result))\n"
     ]
    },
    {
     "name": "stdout",
     "output_type": "stream",
     "text": [
      "              precision    recall  f1-score   support\n",
      "\n",
      "    negativo       0.60      0.35      0.44      2178\n",
      "      neutro       0.00      0.00      0.00       711\n",
      "    positivo       0.72      0.93      0.81      5306\n",
      "\n",
      "    accuracy                           0.70      8195\n",
      "   macro avg       0.44      0.43      0.42      8195\n",
      "weighted avg       0.62      0.70      0.64      8195\n",
      "\n",
      "Score para W2V_AVG\n",
      "f1_score: 0.640641982995776\n",
      "              precision    recall  f1-score   support\n",
      "\n",
      "    negativo       0.61      0.34      0.44      2178\n",
      "      neutro       0.00      0.00      0.00       711\n",
      "    positivo       0.71      0.94      0.81      5306\n",
      "\n",
      "    accuracy                           0.70      8195\n",
      "   macro avg       0.44      0.43      0.42      8195\n",
      "weighted avg       0.62      0.70      0.64      8195\n",
      "\n"
     ]
    },
    {
     "name": "stderr",
     "output_type": "stream",
     "text": [
      "c:\\Users\\Brothers\\anaconda3\\lib\\site-packages\\sklearn\\metrics\\_classification.py:1318: UndefinedMetricWarning: Precision and F-score are ill-defined and being set to 0.0 in labels with no predicted samples. Use `zero_division` parameter to control this behavior.\n",
      "  _warn_prf(average, modifier, msg_start, len(result))\n",
      "c:\\Users\\Brothers\\anaconda3\\lib\\site-packages\\sklearn\\metrics\\_classification.py:1318: UndefinedMetricWarning: Precision and F-score are ill-defined and being set to 0.0 in labels with no predicted samples. Use `zero_division` parameter to control this behavior.\n",
      "  _warn_prf(average, modifier, msg_start, len(result))\n",
      "c:\\Users\\Brothers\\anaconda3\\lib\\site-packages\\sklearn\\metrics\\_classification.py:1318: UndefinedMetricWarning: Precision and F-score are ill-defined and being set to 0.0 in labels with no predicted samples. Use `zero_division` parameter to control this behavior.\n",
      "  _warn_prf(average, modifier, msg_start, len(result))\n"
     ]
    }
   ],
   "source": [
    "# Cria 3 partições com os dados de disponíveis\n",
    "skf = StratifiedKFold(n_splits=5)\n",
    "skf.get_n_splits(X_processed, y)\n",
    "\n",
    "\n",
    "for train_index, test_index in skf.split(X_processed, y):\n",
    "    X_train, X_test = X_processed[train_index], X_processed[test_index]\n",
    "    y_train, y_test = y[train_index], y[test_index]\n",
    "\n",
    "    #Criação do modelo\n",
    "    regressao_logistica = LogisticRegression(solver = \"saga\", multi_class='multinomial', random_state=42, max_iter=200)\n",
    "\n",
    "    regressao_logistica.fit(X_train, y_train)\n",
    "    y_true, y_pred = y_test, regressao_logistica.predict(X_test)\n",
    "    score = f1_score(y_true, y_pred, average='weighted')\n",
    "    print(f'Score para W2V_AVG')\n",
    "    print(f'f1_score: {score}')\n",
    "    print(classification_report(y_true, y_pred))"
   ]
  },
  {
   "cell_type": "markdown",
   "metadata": {},
   "source": [
    "## 7. Modelos de Classificação de Sentimento"
   ]
  },
  {
   "cell_type": "markdown",
   "metadata": {},
   "source": [
    "### 7.1. LogisticRegression"
   ]
  },
  {
   "cell_type": "markdown",
   "metadata": {},
   "source": [
    "Alguns algoritmos de regressão também podem ser utilizados para classificação (e vice-versa). A Regressão Logística (também chamada de Regressão Logit) é comumente utilizada para estimar a probabilidade de uma instância pertencer a uma determinada classe. Assim como um modelo de Regressão Linear, um modelo de Regressão Logística calcula uma soma ponderada das características de entrada (mais um termo de polarização), mas, em vez de gerar o resultado diretamente como o modelo de Regressão Linear, gera a logística desse resultado.\n",
    "\n",
    "O modelo de Regressão Logística pode ser generalizado para suportar múltiplas classes diretamente sem a necessidade de treinar e combinar vários classificadores binários. Isso é chamado Regressão Softmax, ou Regressão Logística Multinomial. A ideia é bem simples: quando dada uma instância x, o modelo de Regressão Softmax primeiro calcula uma pontuação sk(x) para cada classe k, então estima a probabilidade de cada classe aplicando a função softmax (também chamada exponencial normalizada) às pontuações.\n",
    "\n",
    "Uma vez calculada a pontuação de cada classe para a instância x, você pode estimar a probabilidade Pk de a instância pertencer à classe k ao executar as pontuações através da função softmax: ela calcula a exponencial de cada pontuação e a normaliza (dividindo pela soma de todas as exponenciais). Assim como o classificador de Regressão Logística, o classificador de Regressão Softmax prevê a classe com a maior probabilidade estimada (que é simplesmente a classe com a maior pontuação)."
   ]
  },
  {
   "cell_type": "markdown",
   "metadata": {},
   "source": [
    "#### 7.1.1. Recalculando a baseline"
   ]
  },
  {
   "cell_type": "markdown",
   "metadata": {},
   "source": [
    "Iremos recalcular o score para o mesmo modelo que foi calculado a baseline, ou seja, iremos utilizar os mesmo hiperpâmetros para a LogisticRegression, mas iremos utilizar a base de dados tratada pelo Pipeline."
   ]
  },
  {
   "cell_type": "code",
   "execution_count": null,
   "metadata": {},
   "outputs": [],
   "source": [
    "# Definindo todas as trafomações regex para serem aplicadas ao pipeline\n",
    "regex_transformers = {\n",
    "    'datas': re_dates,\n",
    "    'valores_dinheiro': re_money,\n",
    "    'numeros': re_numbers,\n",
    "    'negacoes': re_negation,\n",
    "    'caracteres_especiais': re_special_chars,\n",
    "    'espacos_branco': re_whitespaces\n",
    "}\n",
    "\n",
    "vectorizer = TfidfVectorizer(max_features=500, min_df=0.001, max_df=0.7) \n",
    "\n",
    "# Criando o Pipeline\n",
    "text_pipeline = Pipeline([\n",
    "    ('regex', RemoverRegex(regex_transformers)),\n",
    "    ('stopwords', RemoverStopwords(stopwords.words('portuguese'))),\n",
    "    ('normalization', ProcessoNormalizacao()),\n",
    "    ('stemming', ProcessoStemming(RSLPStemmer())),\n",
    "    ('text_features', ExtracaoFeatures(vectorizer))\n",
    "])\n",
    "\n",
    "# Dfinido X e y \n",
    "comentarios = dataset['review_comment_message'].dropna().index\n",
    "score = dataset['review_score'][comentarios].map({1: 'negativo', 2: 'negativo', 3: 'neutro', 4: 'positivo', 5: 'positivo'})\n",
    "\n",
    "# Dfinido X e y \n",
    "X = list(dataset['review_comment_message'][comentarios].values)\n",
    "y = score.values\n",
    "\n",
    "# Aplicando o pipeline\n",
    "X_processed = text_pipeline.fit_transform(X)"
   ]
  },
  {
   "cell_type": "markdown",
   "metadata": {},
   "source": [
    "Utilizaremos a função cross_val_score() para avaliar o modelo LogisticRegression com a utilização da validação cruzada K-fold com três partes. Lembre-se de que a validação cruzada K-fold significa dividir o conjunto de treinamento em K-folds (neste caso, três), prever e avaliar as previsões em cada conjunto utilizando um modelo treinado em conjuntos restantes."
   ]
  },
  {
   "cell_type": "code",
   "execution_count": 29,
   "metadata": {},
   "outputs": [
    {
     "name": "stdout",
     "output_type": "stream",
     "text": [
      "Scores:[0.84017864 0.84318032 0.84405886]\n",
      "Média: 0.8424726065841814\n",
      "Desvio Padrão: 0.001661260943955625\n"
     ]
    }
   ],
   "source": [
    "regressao_logistica = LogisticRegression(solver = \"saga\", multi_class='multinomial')\n",
    "scores = cross_val_score(regressao_logistica, X_processed, y, cv=3, scoring=\"accuracy\")\n",
    "print(f'Scores:{np.sort(scores)}')\n",
    "print(f'Média: {scores.mean()}')\n",
    "print(f'Desvio Padrão: {scores.std()}')"
   ]
  },
  {
   "cell_type": "markdown",
   "metadata": {},
   "source": [
    "Comparando os valores dos scores obtido e com os valores da baseline antes do tratamento dos dados é possível perceber um ganho de 4.7% na acurácia do modelo utilizando os mesmos hiperparâmetros para o modelo."
   ]
  },
  {
   "cell_type": "code",
   "execution_count": 33,
   "metadata": {},
   "outputs": [
    {
     "name": "stdout",
     "output_type": "stream",
     "text": [
      "              precision    recall  f1-score   support\n",
      "\n",
      "    negativo       0.75      0.84      0.79      2151\n",
      "      neutro       0.34      0.05      0.08       730\n",
      "    positivo       0.88      0.94      0.91      5315\n",
      "\n",
      "    accuracy                           0.83      8196\n",
      "   macro avg       0.66      0.61      0.59      8196\n",
      "weighted avg       0.80      0.83      0.80      8196\n",
      "\n"
     ]
    }
   ],
   "source": [
    "CR = classification_report(y_test, y_pred)\n",
    "print(CR)"
   ]
  },
  {
   "cell_type": "markdown",
   "metadata": {},
   "source": [
    "Analisando as métricas para a classe \"neutro\" é possível confirmar de forma numérica o péssimo resultado de classificação para classe. As classes \"negativo\" e \"possitivo\" possui ótimas métricas, enquanto a classe \"neutro\" possui apenas 36% de precisão e 6% de revogação."
   ]
  },
  {
   "cell_type": "markdown",
   "metadata": {},
   "source": [
    "#### 7.1.2. Otimizando os hiperparamentors do modelo de LogisticRegression (BayesSearchCV)"
   ]
  },
  {
   "cell_type": "markdown",
   "metadata": {},
   "source": [
    "A classe BayesSearchCV é uma otimização Bayesiana sobre hiperparâmetros. Os parâmetros do estimador usados ​​para aplicar esses métodos são otimizados por pesquisa de validação cruzada sobre configurações de parâmetros. Ao contrário do GridSearchCV, nem todos os valores de parâmetro são testados, mas um número fixo de configurações de parâmetro é amostrado das distribuições especificadas. O número de configurações de parâmetro que são tentadas é dado por n_iter."
   ]
  },
  {
   "cell_type": "code",
   "execution_count": 18,
   "metadata": {},
   "outputs": [
    {
     "name": "stdout",
     "output_type": "stream",
     "text": [
      "# Ajustando hiperparâmetros: \n",
      "\n",
      "Melhor conjunto de parâmetros encontrado: \n",
      "\n",
      "OrderedDict([('C', 0.5151918020836844), ('class_weight', 'balanced'), ('max_iter', 100), ('penalty', 'l1'), ('solver', 'liblinear')])\n",
      "f1_score (weighted): 0.8276859175154488\n",
      "\n",
      "Relatório de classificação detalhado para o melhor modelo:\n",
      "\n",
      "              precision    recall  f1-score   support\n",
      "\n",
      "    negativo       0.75      0.85      0.80      2151\n",
      "      neutro       0.31      0.27      0.29       730\n",
      "    positivo       0.92      0.89      0.91      5315\n",
      "\n",
      "    accuracy                           0.83      8196\n",
      "   macro avg       0.66      0.67      0.66      8196\n",
      "weighted avg       0.82      0.83      0.82      8196\n",
      "\n",
      "Tempo de execução: 61.76109137535095min\n"
     ]
    }
   ],
   "source": [
    " # log-uniform: understand as search over p = exp(x) by varying x\n",
    "\n",
    "search_spaces=[{\n",
    "  'C': Real(1e-6, 1e+6, prior='log-uniform'),\n",
    "  'multi_class': Categorical(['multinomial']),\n",
    "  'penalty': Categorical(['l2', 'none']),\n",
    "  'solver': Categorical(['lbfgs', 'sag']),\n",
    "  'class_weight': Categorical(['balanced', None]),\n",
    "  'max_iter': Integer(100, 1000) \n",
    "}, {\n",
    "  'C': Real(1e-6, 1e+6, prior='log-uniform'),\n",
    "  'penalty': Categorical(['l1', 'l2']),\n",
    "  'solver': Categorical(['liblinear']),\n",
    "  'class_weight': Categorical(['balanced', None]),\n",
    "  'max_iter': Integer(100, 1000) \n",
    "}]\n",
    "n_iter = 40\n",
    "model = LogisticRegression()\n",
    "incial = time()\n",
    "print_score_BayesSearchCV(model, X_processed, y, search_spaces, n_iter)\n",
    "final = time()\n",
    "print(f'Tempo de execução: {(final - incial) / 60}min')"
   ]
  },
  {
   "cell_type": "markdown",
   "metadata": {},
   "source": [
    "### 7.2. SVM (Support Vector Machines)"
   ]
  },
  {
   "cell_type": "markdown",
   "metadata": {},
   "source": [
    "Uma Máquina de Vetores de Suporte (SVM) é um modelo muito poderoso e versátil de Aprendizado de Máquina capaz de realizar classificações lineares ou não lineares, de regressão e até mesmo detecção de outliers. As SVM são particularmente adequadas para a classificação de conjuntos de dados complexos. Dentro da modulo SVM iremos utilizar a classe SVC (C-Support Vector Classification.), no qual o suporte multiclasse é tratado de acordo com um esquema de um contra um.\n",
    "\n",
    "Hiperparâmetro:\n",
    "- C: Parâmetro de regularização. Um valor menor de C leva a uma via mais larga, mas com mais violações das margens.\n",
    "- kernel: Especifica o tipo de kernel a ser usado no algoritmo. \n",
    "- coef0: controla o quanto o modelo é influenciado por polinômios de alto grau versus polinômios de baixo grau. Só é significativo em 'poli' e 'sigmóide'.\n",
    "- gamma: Coeficiente de kernel para 'rbf', 'poli' e 'sigmoid'.\n",
    "    - Se gamma='scale'(padrão) for passado, ele usará 1 / (n_features * X.var()) como valor de gama,\n",
    "    - Se 'auto', usa 1 / n_features.\n"
   ]
  },
  {
   "cell_type": "code",
   "execution_count": 21,
   "metadata": {},
   "outputs": [
    {
     "name": "stdout",
     "output_type": "stream",
     "text": [
      "# Ajustando hiperparâmetros para make_scorer(f1_score, average=weighted)\n",
      "\n",
      "Melhor conjunto de parâmetros encontrado: \n",
      "\n",
      "{'C': 1.0, 'gamma': 'scale', 'kernel': 'rbf'}\n",
      "\n",
      "Pontuações de grade no conjunto de desenvolvimento:\n",
      "\n",
      "0.819 (+/-0.010) for {'C': 1.0, 'gamma': 'scale', 'kernel': 'rbf'}\n",
      "0.678 (+/-0.023) for {'C': 1.0, 'gamma': 'auto', 'kernel': 'rbf'}\n",
      "\n",
      "Relatório de classificação detalhado para o melhor modelo:\n",
      "\n",
      "              precision    recall  f1-score   support\n",
      "\n",
      "    negativo       0.75      0.89      0.81      2151\n",
      "      neutro       0.27      0.02      0.04       730\n",
      "    positivo       0.89      0.94      0.92      5315\n",
      "\n",
      "    accuracy                           0.84      8196\n",
      "   macro avg       0.64      0.62      0.59      8196\n",
      "weighted avg       0.80      0.84      0.81      8196\n",
      "\n"
     ]
    }
   ],
   "source": [
    "# Hiperparâmentros\n",
    "tuned_parameters = {\n",
    "    'C': [1.0],\n",
    "    'kernel' : ['rbf'],\n",
    "    'gamma': ['scale', 'auto'] \n",
    "}\n",
    "\n",
    "model_SVC = SVC()\n",
    "\n",
    "print_score(model_SVC, X_processed, y, tuned_parameters)"
   ]
  },
  {
   "cell_type": "markdown",
   "metadata": {},
   "source": [
    "Em uma primeira analise com o classificador SVC houve uma pequena melhora na classificação das classes 'negativo' e 'positivo', enquanto a classe 'neutro' piorou significativamente, se comparada com o melhor modelo de LogisticRegression. O custo computacional para o classificador SVC foi muito superior. A classe 'neutra' se manteve como a pior classe na classificação dos reveiws, se comparado com o modelo de LogisticRegression, teve uma queda de 0.09 em f1-score e 0.06 no recall. \n",
    "\n",
    "Iremos verificar o aumento do valor de 'C' e a definição do valor de 'gama' manualmente. O alto valor de C faz o classificador possuir menos violações na margem, mas fica com uma margem menor. Aumentar ‘gamma’ estreitará a curva em forma de sino, e como resultado cada raio de influência da instância será menor: mexer ao redor de instâncias individuais torna a fronteira de decisão mais irregular. Por outro lado, um pequeno valor de ‘gamma’ torna a curva em forma de sino mais ampla, de modo que as instâncias ficam com um maior raio de influência e o limite de decisão fica mais suave.\n"
   ]
  },
  {
   "cell_type": "code",
   "execution_count": 23,
   "metadata": {},
   "outputs": [
    {
     "name": "stdout",
     "output_type": "stream",
     "text": [
      "# Ajustando hiperparâmetros para make_scorer(f1_score, average=weighted)\n",
      "\n",
      "Melhor conjunto de parâmetros encontrado: \n",
      "\n",
      "{'C': 100, 'gamma': 0.1, 'kernel': 'rbf'}\n",
      "\n",
      "Pontuações de grade no conjunto de desenvolvimento:\n",
      "\n",
      "0.807 (+/-0.003) for {'C': 1.0, 'gamma': 0.1, 'kernel': 'rbf'}\n",
      "0.580 (+/-0.014) for {'C': 1.0, 'gamma': 10, 'kernel': 'rbf'}\n",
      "0.825 (+/-0.003) for {'C': 100, 'gamma': 0.1, 'kernel': 'rbf'}\n",
      "0.586 (+/-0.012) for {'C': 100, 'gamma': 10, 'kernel': 'rbf'}\n",
      "\n",
      "Relatório de classificação detalhado para o melhor modelo:\n",
      "\n",
      "              precision    recall  f1-score   support\n",
      "\n",
      "    negativo       0.76      0.87      0.81      2151\n",
      "      neutro       0.32      0.10      0.15       730\n",
      "    positivo       0.90      0.93      0.92      5315\n",
      "\n",
      "    accuracy                           0.84      8196\n",
      "   macro avg       0.66      0.63      0.63      8196\n",
      "weighted avg       0.81      0.84      0.82      8196\n",
      "\n"
     ]
    }
   ],
   "source": [
    "# Hiperparâmentros\n",
    "tuned_parameters = {\n",
    "    'C': [1.0, 100],\n",
    "    'kernel' : ['rbf'],\n",
    "    'gamma': [0.1, 10] \n",
    "}\n",
    "\n",
    "model_SVC = SVC()\n",
    "\n",
    "print_score(model_SVC, X_processed, y, tuned_parameters)"
   ]
  },
  {
   "cell_type": "markdown",
   "metadata": {},
   "source": [
    "A variação dos hiperparâmetros resultou em uma excelente melhora no modelo de classificação em todas as classes chegando a superar o melhor modelo de LogisticRegression. Em especial houve melhora na classe 'neutro', nas métricas recall e f1-score.\n",
    "\n",
    "Como o melhor modelo encontrado possui um valor alto de do hiperparâmetros 'C', vamos verificar se aumentando ainda mais seu valor melhora o resultado da classificação:"
   ]
  },
  {
   "cell_type": "code",
   "execution_count": 20,
   "metadata": {},
   "outputs": [
    {
     "name": "stdout",
     "output_type": "stream",
     "text": [
      "# Ajustando hiperparâmetros para make_scorer(f1_score, average=weighted)\n",
      "\n",
      "Melhor conjunto de parâmetros encontrado: \n",
      "\n",
      "{'C': 200, 'gamma': 0.1, 'kernel': 'rbf'}\n",
      "\n",
      "Pontuações de grade no conjunto de desenvolvimento:\n",
      "\n",
      "0.823 (+/-0.006) for {'C': 200, 'gamma': 0.1, 'kernel': 'rbf'}\n",
      "0.820 (+/-0.006) for {'C': 300, 'gamma': 0.1, 'kernel': 'rbf'}\n",
      "\n",
      "Relatório de classificação detalhado para o melhor modelo:\n",
      "\n",
      "              precision    recall  f1-score   support\n",
      "\n",
      "    negativo       0.76      0.84      0.80      2151\n",
      "      neutro       0.25      0.10      0.15       730\n",
      "    positivo       0.90      0.93      0.91      5315\n",
      "\n",
      "    accuracy                           0.83      8196\n",
      "   macro avg       0.63      0.62      0.62      8196\n",
      "weighted avg       0.80      0.83      0.81      8196\n",
      "\n"
     ]
    }
   ],
   "source": [
    "# Hiperparâmentros\n",
    "tuned_parameters = {\n",
    "    'C': [200, 300],\n",
    "    'kernel' : ['rbf'],\n",
    "    'gamma': [0.1] \n",
    "}\n",
    "\n",
    "model_SVC = SVC()\n",
    "\n",
    "print_score(model_SVC, X_processed, y, tuned_parameters)"
   ]
  },
  {
   "cell_type": "markdown",
   "metadata": {},
   "source": [
    "O grande aumento do hiperparâmetro 'C' não resultou em melhora do modelo, mas resultou em um valor de f1-score bastante próximo do melhor modelo encontrodado. Então vamos verificar um valor de 'C' mais próximo de 100 (valor do melhor classificado):"
   ]
  },
  {
   "cell_type": "code",
   "execution_count": 21,
   "metadata": {},
   "outputs": [
    {
     "name": "stdout",
     "output_type": "stream",
     "text": [
      "# Ajustando hiperparâmetros para make_scorer(f1_score, average=weighted)\n",
      "\n",
      "Melhor conjunto de parâmetros encontrado: \n",
      "\n",
      "{'C': 125, 'gamma': 0.1, 'kernel': 'rbf'}\n",
      "\n",
      "Pontuações de grade no conjunto de desenvolvimento:\n",
      "\n",
      "0.823 (+/-0.005) for {'C': 125, 'gamma': 0.1, 'kernel': 'rbf'}\n",
      "0.821 (+/-0.004) for {'C': 125, 'gamma': 1, 'kernel': 'rbf'}\n",
      "0.823 (+/-0.005) for {'C': 175, 'gamma': 0.1, 'kernel': 'rbf'}\n",
      "0.821 (+/-0.004) for {'C': 175, 'gamma': 1, 'kernel': 'rbf'}\n",
      "\n",
      "Relatório de classificação detalhado para o melhor modelo:\n",
      "\n",
      "              precision    recall  f1-score   support\n",
      "\n",
      "    negativo       0.76      0.86      0.81      2151\n",
      "      neutro       0.30      0.10      0.15       730\n",
      "    positivo       0.90      0.93      0.91      5315\n",
      "\n",
      "    accuracy                           0.84      8196\n",
      "   macro avg       0.65      0.63      0.63      8196\n",
      "weighted avg       0.81      0.84      0.82      8196\n",
      "\n"
     ]
    }
   ],
   "source": [
    "# Hiperparâmentros\n",
    "tuned_parameters = {\n",
    "    'C': [125, 175],\n",
    "    'kernel' : ['rbf'],\n",
    "    'gamma': [0.1, 1] \n",
    "}\n",
    "\n",
    "model_SVC = SVC()\n",
    "\n",
    "print_score(model_SVC, X_processed, y, tuned_parameters)"
   ]
  },
  {
   "cell_type": "code",
   "execution_count": 19,
   "metadata": {},
   "outputs": [
    {
     "name": "stdout",
     "output_type": "stream",
     "text": [
      "# Ajustando hiperparâmetros para make_scorer(f1_score, average=weighted)\n",
      "\n",
      "Melhor conjunto de parâmetros encontrado: \n",
      "\n",
      "{'C': 110, 'gamma': 0.1, 'kernel': 'rbf'}\n",
      "\n",
      "Pontuações de grade no conjunto de desenvolvimento:\n",
      "\n",
      "0.823 (+/-0.001) for {'C': 110, 'gamma': 0.1, 'kernel': 'rbf'}\n",
      "0.823 (+/-0.002) for {'C': 112, 'gamma': 0.1, 'kernel': 'rbf'}\n",
      "\n",
      "Relatório de classificação detalhado para o melhor modelo:\n",
      "\n",
      "              precision    recall  f1-score   support\n",
      "\n",
      "    negativo       0.76      0.87      0.81      2151\n",
      "      neutro       0.32      0.10      0.15       730\n",
      "    positivo       0.90      0.93      0.92      5315\n",
      "\n",
      "    accuracy                           0.84      8196\n",
      "   macro avg       0.66      0.63      0.63      8196\n",
      "weighted avg       0.81      0.84      0.82      8196\n",
      "\n"
     ]
    }
   ],
   "source": [
    "# Hiperparâmentros\n",
    "tuned_parameters = {\n",
    "    'C': [110, 112],\n",
    "    'kernel' : ['rbf'],\n",
    "    'gamma': [0.1] \n",
    "}\n",
    "\n",
    "model_SVC = SVC()\n",
    "\n",
    "print_score(model_SVC, X_processed, y, tuned_parameters)"
   ]
  },
  {
   "cell_type": "markdown",
   "metadata": {},
   "source": [
    "Os resultados obtidos foram bastante similar com o modelo de parâmentros igual {'C': 100, 'gamma': 0.1, 'kernel': 'rbf'}. O valor de f1-score foi menor que 0.825 (+/-0.003), mas o desvio padrão foi menor (+/-0.001) para os três valores calculados para Cross-Validation.\n",
    "\n",
    "O melhor modelo para o SVC selecionado será:"
   ]
  },
  {
   "cell_type": "code",
   "execution_count": 25,
   "metadata": {},
   "outputs": [
    {
     "name": "stdout",
     "output_type": "stream",
     "text": [
      "# Ajustando hiperparâmetros para make_scorer(f1_score, average=weighted)\n",
      "\n",
      "Melhor conjunto de parâmetros encontrado: \n",
      "\n",
      "{'C': 110, 'gamma': 0.1, 'kernel': 'rbf'}\n",
      "\n",
      "Pontuações de grade no conjunto de desenvolvimento:\n",
      "\n",
      "0.824 (+/-0.003) for {'C': 110, 'gamma': 0.1, 'kernel': 'rbf'}\n",
      "\n",
      "Relatório de classificação detalhado para o melhor modelo:\n",
      "\n",
      "              precision    recall  f1-score   support\n",
      "\n",
      "    negativo       0.76      0.87      0.81      2151\n",
      "      neutro       0.32      0.10      0.15       730\n",
      "    positivo       0.90      0.93      0.92      5315\n",
      "\n",
      "    accuracy                           0.84      8196\n",
      "   macro avg       0.66      0.63      0.63      8196\n",
      "weighted avg       0.81      0.84      0.82      8196\n",
      "\n",
      "Tempo de execução: 46.78752770423889min\n"
     ]
    }
   ],
   "source": [
    "# Hiperparâmentros\n",
    "tuned_parameters = {\n",
    "    'C': [110],\n",
    "    'kernel' : ['rbf'],\n",
    "    'gamma': [0.1] \n",
    "}\n",
    "\n",
    "model_SVC = SVC()\n",
    "incial = time()\n",
    "print_score(model_SVC, X_processed, y, tuned_parameters)\n",
    "final = time()\n",
    "print(f'Tempo de execução: {(final - incial) / 60}min')"
   ]
  },
  {
   "cell_type": "code",
   "execution_count": 18,
   "metadata": {},
   "outputs": [
    {
     "name": "stdout",
     "output_type": "stream",
     "text": [
      "# Ajustando hiperparâmetros: \n",
      "\n",
      "Melhor conjunto de parâmetros encontrado: \n",
      "\n",
      "OrderedDict([('C', 5.114312906246165), ('gamma', 0.7052207811078224), ('kernel', 'rbf')])\n",
      "f1_score (weighted): 0.8245544917624398\n",
      "\n",
      "Relatório de classificação detalhado para o melhor modelo:\n",
      "\n",
      "              precision    recall  f1-score   support\n",
      "\n",
      "    negativo       0.76      0.86      0.81      2151\n",
      "      neutro       0.28      0.08      0.13       730\n",
      "    positivo       0.90      0.93      0.91      5315\n",
      "\n",
      "    accuracy                           0.84      8196\n",
      "   macro avg       0.64      0.63      0.62      8196\n",
      "weighted avg       0.80      0.84      0.82      8196\n",
      "\n",
      "Tempo de execução: 670.8822413841883min\n"
     ]
    }
   ],
   "source": [
    " # log-uniform: understand as search over p = exp(x) by varying x\n",
    "\n",
    "search_spaces=[{\n",
    "    'C': Real(1e-3, 1e+3, prior='log-uniform'),\n",
    "    'kernel' : Categorical(['rbf']),\n",
    "    'gamma': Real(0.1, 10, prior='log-uniform') \n",
    "}]\n",
    "\n",
    "model = SVC()\n",
    "n_iter = 50\n",
    "incial = time()\n",
    "print_score_BayesSearchCV(model, X_processed, y, search_spaces, n_iter)\n",
    "final = time()\n",
    "print(f'Tempo de execução: {(final - incial) / 60}min')"
   ]
  }
 ],
 "metadata": {
  "kernelspec": {
   "display_name": "Python 3.8.8 ('base')",
   "language": "python",
   "name": "python3"
  },
  "language_info": {
   "codemirror_mode": {
    "name": "ipython",
    "version": 3
   },
   "file_extension": ".py",
   "mimetype": "text/x-python",
   "name": "python",
   "nbconvert_exporter": "python",
   "pygments_lexer": "ipython3",
   "version": "3.8.8"
  },
  "orig_nbformat": 4,
  "vscode": {
   "interpreter": {
    "hash": "12fb55c19b53ac09035d9d6bd41a050fcb0becbe4846579be579fa8f11e9abb2"
   }
  }
 },
 "nbformat": 4,
 "nbformat_minor": 2
}
